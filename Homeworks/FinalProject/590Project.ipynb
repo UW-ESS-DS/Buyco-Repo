{
 "cells": [
  {
   "cell_type": "markdown",
   "metadata": {},
   "source": [
    "# Final Project Linear Notebook"
   ]
  },
  {
   "cell_type": "markdown",
   "metadata": {},
   "source": [
    "### Imports"
   ]
  },
  {
   "cell_type": "code",
   "execution_count": 4,
   "metadata": {},
   "outputs": [],
   "source": [
    "import numpy as np\n",
    "import pandas as pd\n",
    "import matplotlib.pyplot as plt\n",
    "import sklearn\n",
    "import seaborn as sns            #Seaborn to plot confusion correlation matrix\n",
    "import imblearn                  #Import imbalanced data module\n",
    "\n",
    "#Machine Learning Imports\n",
    "\n",
    "from sklearn.model_selection import train_test_split\n",
    "from sklearn.ensemble import RandomForestClassifier\n",
    "from sklearn.neighbors import KNeighborsClassifier\n",
    "from sklearn.svm import SVC\n",
    "from sklearn.neural_network import MLPClassifier\n",
    "from sklearn.metrics import classification_report, confusion_matrix\n",
    "from sklearn.metrics import precision_recall_fscore_support as score\n",
    "from sklearn.metrics import accuracy_score, plot_confusion_matrix\n",
    "from sklearn import preprocessing\n",
    "\n",
    "from sklearn.preprocessing import MaxAbsScaler"
   ]
  },
  {
   "cell_type": "markdown",
   "metadata": {},
   "source": [
    "### Data"
   ]
  },
  {
   "cell_type": "markdown",
   "metadata": {},
   "source": [
    "Landslide Dataset from NASA Catalog\n",
    "The dataset includes date, country, state, latitude, and longitude of the landslide"
   ]
  },
  {
   "cell_type": "code",
   "execution_count": 2,
   "metadata": {},
   "outputs": [
    {
     "data": {
      "text/html": [
       "<div>\n",
       "<style scoped>\n",
       "    .dataframe tbody tr th:only-of-type {\n",
       "        vertical-align: middle;\n",
       "    }\n",
       "\n",
       "    .dataframe tbody tr th {\n",
       "        vertical-align: top;\n",
       "    }\n",
       "\n",
       "    .dataframe thead th {\n",
       "        text-align: right;\n",
       "    }\n",
       "</style>\n",
       "<table border=\"1\" class=\"dataframe\">\n",
       "  <thead>\n",
       "    <tr style=\"text-align: right;\">\n",
       "      <th></th>\n",
       "      <th>OBJECTID</th>\n",
       "      <th>Shape</th>\n",
       "      <th>source_name</th>\n",
       "      <th>source_link</th>\n",
       "      <th>event_id</th>\n",
       "      <th>event_date</th>\n",
       "      <th>event_time</th>\n",
       "      <th>event_title</th>\n",
       "      <th>event_description</th>\n",
       "      <th>location_description</th>\n",
       "      <th>...</th>\n",
       "      <th>event_import_id</th>\n",
       "      <th>latitude</th>\n",
       "      <th>longitude</th>\n",
       "      <th>country_name</th>\n",
       "      <th>country_code</th>\n",
       "      <th>admin_division_name</th>\n",
       "      <th>gazetteer_closest_point</th>\n",
       "      <th>gazetteer_distance</th>\n",
       "      <th>submitted_date</th>\n",
       "      <th>last_edited_date</th>\n",
       "    </tr>\n",
       "  </thead>\n",
       "  <tbody>\n",
       "    <tr>\n",
       "      <th>0</th>\n",
       "      <td>4695181</td>\n",
       "      <td>(107.45000000000005, 32.56250000000006)</td>\n",
       "      <td>AGU</td>\n",
       "      <td>https://blogs.agu.org/landslideblog/2008/10/14...</td>\n",
       "      <td>684</td>\n",
       "      <td>8/1/2008 0:00</td>\n",
       "      <td>NaN</td>\n",
       "      <td>Sigou Village, Loufan County, Shanxi Province</td>\n",
       "      <td>occurred early in morning, 11 villagers buried...</td>\n",
       "      <td>Sigou Village, Loufan County, Shanxi Province</td>\n",
       "      <td>...</td>\n",
       "      <td>684</td>\n",
       "      <td>32.5625</td>\n",
       "      <td>107.4500</td>\n",
       "      <td>China</td>\n",
       "      <td>CN</td>\n",
       "      <td>Shaanxi</td>\n",
       "      <td>Micang Shan</td>\n",
       "      <td>19.18</td>\n",
       "      <td>4/1/2014 0:00</td>\n",
       "      <td>4/24/2021 4:59</td>\n",
       "    </tr>\n",
       "    <tr>\n",
       "      <th>1</th>\n",
       "      <td>4695182</td>\n",
       "      <td>(-122.66299999999995, 45.42000000000007)</td>\n",
       "      <td>Oregonian</td>\n",
       "      <td>http://www.oregonlive.com/news/index.ssf/2009/...</td>\n",
       "      <td>956</td>\n",
       "      <td>1/2/2009 2:00</td>\n",
       "      <td>2:00</td>\n",
       "      <td>Lake Oswego, Oregon</td>\n",
       "      <td>Hours of heavy rain are to blame for an overni...</td>\n",
       "      <td>Lake Oswego, Oregon</td>\n",
       "      <td>...</td>\n",
       "      <td>956</td>\n",
       "      <td>45.4200</td>\n",
       "      <td>-122.6630</td>\n",
       "      <td>United States</td>\n",
       "      <td>US</td>\n",
       "      <td>Oregon</td>\n",
       "      <td>Portland</td>\n",
       "      <td>2.95</td>\n",
       "      <td>4/1/2014 0:00</td>\n",
       "      <td>4/24/2021 4:59</td>\n",
       "    </tr>\n",
       "    <tr>\n",
       "      <th>2</th>\n",
       "      <td>4695183</td>\n",
       "      <td>(-75.35869999999994, -11.12949999999995)</td>\n",
       "      <td>CBS News</td>\n",
       "      <td>https://www.cbsnews.com/news/dozens-missing-af...</td>\n",
       "      <td>973</td>\n",
       "      <td>1/19/2007 0:00</td>\n",
       "      <td>NaN</td>\n",
       "      <td>San Ramon district, 195 miles northeast of the...</td>\n",
       "      <td>(CBS/AP) At least 10 people died and as many a...</td>\n",
       "      <td>San Ramon district, 195 miles northeast of the...</td>\n",
       "      <td>...</td>\n",
       "      <td>973</td>\n",
       "      <td>-11.1295</td>\n",
       "      <td>-75.3587</td>\n",
       "      <td>Peru</td>\n",
       "      <td>PE</td>\n",
       "      <td>Junín</td>\n",
       "      <td>San Ramon</td>\n",
       "      <td>2.77</td>\n",
       "      <td>4/1/2014 0:00</td>\n",
       "      <td>4/24/2021 4:59</td>\n",
       "    </tr>\n",
       "    <tr>\n",
       "      <th>3</th>\n",
       "      <td>4695184</td>\n",
       "      <td>(81.70800000000008, 28.837800000000072)</td>\n",
       "      <td>Reuters</td>\n",
       "      <td>https://in.reuters.com/article/idINIndia-41450...</td>\n",
       "      <td>1067</td>\n",
       "      <td>7/31/2009 0:00</td>\n",
       "      <td>NaN</td>\n",
       "      <td>Dailekh district</td>\n",
       "      <td>One person was killed in Dailekh district, pol...</td>\n",
       "      <td>Dailekh district</td>\n",
       "      <td>...</td>\n",
       "      <td>1067</td>\n",
       "      <td>28.8378</td>\n",
       "      <td>81.7080</td>\n",
       "      <td>Nepal</td>\n",
       "      <td>NP</td>\n",
       "      <td>Bheri</td>\n",
       "      <td>Katti</td>\n",
       "      <td>11.78</td>\n",
       "      <td>4/1/2014 0:00</td>\n",
       "      <td>4/24/2021 4:59</td>\n",
       "    </tr>\n",
       "    <tr>\n",
       "      <th>4</th>\n",
       "      <td>4695185</td>\n",
       "      <td>(123.89780000000007, 10.333600000000047)</td>\n",
       "      <td>The Freeman</td>\n",
       "      <td>http://www.philstar.com/cebu-news/621414/lands...</td>\n",
       "      <td>2603</td>\n",
       "      <td>10/16/2010 12:00</td>\n",
       "      <td>12:00</td>\n",
       "      <td>sitio Bakilid in barangay Lahug</td>\n",
       "      <td>Another landslide in sitio Bakilid in barangay...</td>\n",
       "      <td>sitio Bakilid in barangay Lahug</td>\n",
       "      <td>...</td>\n",
       "      <td>2603</td>\n",
       "      <td>10.3336</td>\n",
       "      <td>123.8978</td>\n",
       "      <td>Philippines</td>\n",
       "      <td>PH</td>\n",
       "      <td>Cebu</td>\n",
       "      <td>Cebu</td>\n",
       "      <td>2.94</td>\n",
       "      <td>4/1/2014 0:00</td>\n",
       "      <td>4/24/2021 4:59</td>\n",
       "    </tr>\n",
       "  </tbody>\n",
       "</table>\n",
       "<p>5 rows × 31 columns</p>\n",
       "</div>"
      ],
      "text/plain": [
       "   OBJECTID                                     Shape  source_name  \\\n",
       "0   4695181   (107.45000000000005, 32.56250000000006)          AGU   \n",
       "1   4695182  (-122.66299999999995, 45.42000000000007)    Oregonian   \n",
       "2   4695183  (-75.35869999999994, -11.12949999999995)     CBS News   \n",
       "3   4695184   (81.70800000000008, 28.837800000000072)      Reuters   \n",
       "4   4695185  (123.89780000000007, 10.333600000000047)  The Freeman   \n",
       "\n",
       "                                         source_link  event_id  \\\n",
       "0  https://blogs.agu.org/landslideblog/2008/10/14...       684   \n",
       "1  http://www.oregonlive.com/news/index.ssf/2009/...       956   \n",
       "2  https://www.cbsnews.com/news/dozens-missing-af...       973   \n",
       "3  https://in.reuters.com/article/idINIndia-41450...      1067   \n",
       "4  http://www.philstar.com/cebu-news/621414/lands...      2603   \n",
       "\n",
       "         event_date event_time  \\\n",
       "0     8/1/2008 0:00        NaN   \n",
       "1     1/2/2009 2:00       2:00   \n",
       "2    1/19/2007 0:00        NaN   \n",
       "3    7/31/2009 0:00        NaN   \n",
       "4  10/16/2010 12:00      12:00   \n",
       "\n",
       "                                         event_title  \\\n",
       "0      Sigou Village, Loufan County, Shanxi Province   \n",
       "1                                Lake Oswego, Oregon   \n",
       "2  San Ramon district, 195 miles northeast of the...   \n",
       "3                                   Dailekh district   \n",
       "4                    sitio Bakilid in barangay Lahug   \n",
       "\n",
       "                                   event_description  \\\n",
       "0  occurred early in morning, 11 villagers buried...   \n",
       "1  Hours of heavy rain are to blame for an overni...   \n",
       "2  (CBS/AP) At least 10 people died and as many a...   \n",
       "3  One person was killed in Dailekh district, pol...   \n",
       "4  Another landslide in sitio Bakilid in barangay...   \n",
       "\n",
       "                                location_description  ... event_import_id  \\\n",
       "0      Sigou Village, Loufan County, Shanxi Province  ...             684   \n",
       "1                                Lake Oswego, Oregon  ...             956   \n",
       "2  San Ramon district, 195 miles northeast of the...  ...             973   \n",
       "3                                   Dailekh district  ...            1067   \n",
       "4                    sitio Bakilid in barangay Lahug  ...            2603   \n",
       "\n",
       "  latitude longitude   country_name country_code  admin_division_name  \\\n",
       "0  32.5625  107.4500          China           CN              Shaanxi   \n",
       "1  45.4200 -122.6630  United States           US               Oregon   \n",
       "2 -11.1295  -75.3587           Peru           PE                Junín   \n",
       "3  28.8378   81.7080          Nepal           NP                Bheri   \n",
       "4  10.3336  123.8978    Philippines           PH                 Cebu   \n",
       "\n",
       "   gazetteer_closest_point gazetteer_distance submitted_date last_edited_date  \n",
       "0              Micang Shan              19.18  4/1/2014 0:00   4/24/2021 4:59  \n",
       "1                 Portland               2.95  4/1/2014 0:00   4/24/2021 4:59  \n",
       "2                San Ramon               2.77  4/1/2014 0:00   4/24/2021 4:59  \n",
       "3                    Katti              11.78  4/1/2014 0:00   4/24/2021 4:59  \n",
       "4                     Cebu               2.94  4/1/2014 0:00   4/24/2021 4:59  \n",
       "\n",
       "[5 rows x 31 columns]"
      ]
     },
     "execution_count": 2,
     "metadata": {},
     "output_type": "execute_result"
    }
   ],
   "source": [
    "landslides = pd.read_csv(\"nasa_global_landslide_catalog_point.csv\")\n",
    "landslides.head()"
   ]
  },
  {
   "cell_type": "markdown",
   "metadata": {},
   "source": [
    "Filter the dataset to get slides that have occured in Washington after 1980 - the farthest back PRISM data goes "
   ]
  },
  {
   "cell_type": "code",
   "execution_count": 3,
   "metadata": {},
   "outputs": [
    {
     "name": "stderr",
     "output_type": "stream",
     "text": [
      "<ipython-input-3-dc3a2a3ac8fe>:2: UserWarning: Boolean Series key will be reindexed to match DataFrame index.\n",
      "  landslides_WA = landslides_US[landslides[\"admin_division_name\"].isin([\"Washington\"])]\n",
      "<ipython-input-3-dc3a2a3ac8fe>:3: UserWarning: Boolean Series key will be reindexed to match DataFrame index.\n",
      "  landslides_WA = landslides_WA[landslides_US.event_date > \"1/1/1981\"]\n"
     ]
    },
    {
     "data": {
      "text/html": [
       "<div>\n",
       "<style scoped>\n",
       "    .dataframe tbody tr th:only-of-type {\n",
       "        vertical-align: middle;\n",
       "    }\n",
       "\n",
       "    .dataframe tbody tr th {\n",
       "        vertical-align: top;\n",
       "    }\n",
       "\n",
       "    .dataframe thead th {\n",
       "        text-align: right;\n",
       "    }\n",
       "</style>\n",
       "<table border=\"1\" class=\"dataframe\">\n",
       "  <thead>\n",
       "    <tr style=\"text-align: right;\">\n",
       "      <th></th>\n",
       "      <th>OBJECTID</th>\n",
       "      <th>Shape</th>\n",
       "      <th>source_name</th>\n",
       "      <th>source_link</th>\n",
       "      <th>event_id</th>\n",
       "      <th>event_date</th>\n",
       "      <th>event_time</th>\n",
       "      <th>event_title</th>\n",
       "      <th>event_description</th>\n",
       "      <th>location_description</th>\n",
       "      <th>...</th>\n",
       "      <th>event_import_id</th>\n",
       "      <th>latitude</th>\n",
       "      <th>longitude</th>\n",
       "      <th>country_name</th>\n",
       "      <th>country_code</th>\n",
       "      <th>admin_division_name</th>\n",
       "      <th>gazetteer_closest_point</th>\n",
       "      <th>gazetteer_distance</th>\n",
       "      <th>submitted_date</th>\n",
       "      <th>last_edited_date</th>\n",
       "    </tr>\n",
       "  </thead>\n",
       "  <tbody>\n",
       "    <tr>\n",
       "      <th>6</th>\n",
       "      <td>4695187</td>\n",
       "      <td>(-117.26649999999995, 48.27970000000005)</td>\n",
       "      <td>The Spokesman-Review</td>\n",
       "      <td>http://www.spokesman.com/stories/2012/mar/31/f...</td>\n",
       "      <td>4290</td>\n",
       "      <td>3/30/2012 0:00</td>\n",
       "      <td>NaN</td>\n",
       "      <td>Pend Oreille County, State Route 20 near Usk, OR</td>\n",
       "      <td>In Pend Oreille County, a mudslide on State Ro...</td>\n",
       "      <td>Pend Oreille County, State Route 20 near Usk, OR</td>\n",
       "      <td>...</td>\n",
       "      <td>4290</td>\n",
       "      <td>48.2797</td>\n",
       "      <td>-117.2665</td>\n",
       "      <td>United States</td>\n",
       "      <td>US</td>\n",
       "      <td>Washington</td>\n",
       "      <td>Usk</td>\n",
       "      <td>3.64</td>\n",
       "      <td>4/1/2014 0:00</td>\n",
       "      <td>4/24/2021 4:59</td>\n",
       "    </tr>\n",
       "    <tr>\n",
       "      <th>16</th>\n",
       "      <td>4695197</td>\n",
       "      <td>(-122.33399999999995, 47.43200000000007)</td>\n",
       "      <td>Ballard News Tribune</td>\n",
       "      <td>https://ballardnewstribune.com/robinson-papers...</td>\n",
       "      <td>961</td>\n",
       "      <td>1/7/2009 0:00</td>\n",
       "      <td>NaN</td>\n",
       "      <td>Sixth Place South in Normandy Park , Washington</td>\n",
       "      <td>Normandy Park resident Chris DeLaRosa says she...</td>\n",
       "      <td>Sixth Place South in Normandy Park , Washington</td>\n",
       "      <td>...</td>\n",
       "      <td>961</td>\n",
       "      <td>47.4320</td>\n",
       "      <td>-122.3340</td>\n",
       "      <td>United States</td>\n",
       "      <td>US</td>\n",
       "      <td>Washington</td>\n",
       "      <td>Seattle Tacoma International</td>\n",
       "      <td>2.76</td>\n",
       "      <td>4/1/2014 0:00</td>\n",
       "      <td>4/24/2021 4:59</td>\n",
       "    </tr>\n",
       "    <tr>\n",
       "      <th>17</th>\n",
       "      <td>4695198</td>\n",
       "      <td>(-121.74999999999994, 48.53800000000007)</td>\n",
       "      <td>Corvallis Gazette-Times</td>\n",
       "      <td>http://www.gazettetimes.com/news/local/floodwa...</td>\n",
       "      <td>962</td>\n",
       "      <td>1/7/2009 0:00</td>\n",
       "      <td>NaN</td>\n",
       "      <td>Concrete, 70 miles northeast of Seattle,Washin...</td>\n",
       "      <td>Rainfall totals for the 24 hours ending at 2 p...</td>\n",
       "      <td>Concrete, 70 miles northeast of Seattle,Washin...</td>\n",
       "      <td>...</td>\n",
       "      <td>962</td>\n",
       "      <td>48.5380</td>\n",
       "      <td>-121.7500</td>\n",
       "      <td>United States</td>\n",
       "      <td>US</td>\n",
       "      <td>Washington</td>\n",
       "      <td>Concrete</td>\n",
       "      <td>0.25</td>\n",
       "      <td>9/15/2014 17:52</td>\n",
       "      <td>4/24/2021 4:59</td>\n",
       "    </tr>\n",
       "    <tr>\n",
       "      <th>18</th>\n",
       "      <td>4695199</td>\n",
       "      <td>(-122.19999999999999, 48.72000000000003)</td>\n",
       "      <td>Corvallis Gazette-Times</td>\n",
       "      <td>http://www.gazettetimes.com/news/local/floodwa...</td>\n",
       "      <td>963</td>\n",
       "      <td>1/7/2009 0:00</td>\n",
       "      <td>NaN</td>\n",
       "      <td>Acme area, Whatcom County, Washington</td>\n",
       "      <td>U.S. 97 was closed by slides at Blewett Pass, ...</td>\n",
       "      <td>Acme area, Whatcom County, Washington</td>\n",
       "      <td>...</td>\n",
       "      <td>963</td>\n",
       "      <td>48.7200</td>\n",
       "      <td>-122.2000</td>\n",
       "      <td>United States</td>\n",
       "      <td>US</td>\n",
       "      <td>Washington</td>\n",
       "      <td>Acme</td>\n",
       "      <td>0.11</td>\n",
       "      <td>9/11/2014 21:04</td>\n",
       "      <td>4/24/2021 4:59</td>\n",
       "    </tr>\n",
       "    <tr>\n",
       "      <th>19</th>\n",
       "      <td>4695200</td>\n",
       "      <td>(-122.90899999999999, 46.12990000000008)</td>\n",
       "      <td>TDN</td>\n",
       "      <td>http://tdn.com/news/slide-pushes-kelso-home-of...</td>\n",
       "      <td>964</td>\n",
       "      <td>1/8/2009 0:00</td>\n",
       "      <td>NaN</td>\n",
       "      <td>Burcham Street, Kelso, Washington</td>\n",
       "      <td>A rain-saturated hillside gave way and knocked...</td>\n",
       "      <td>Burcham Street, Kelso,Washington</td>\n",
       "      <td>...</td>\n",
       "      <td>964</td>\n",
       "      <td>46.1299</td>\n",
       "      <td>-122.9090</td>\n",
       "      <td>United States</td>\n",
       "      <td>US</td>\n",
       "      <td>Washington</td>\n",
       "      <td>Kelso</td>\n",
       "      <td>1.15</td>\n",
       "      <td>4/1/2014 0:00</td>\n",
       "      <td>4/24/2021 4:59</td>\n",
       "    </tr>\n",
       "  </tbody>\n",
       "</table>\n",
       "<p>5 rows × 31 columns</p>\n",
       "</div>"
      ],
      "text/plain": [
       "    OBJECTID                                     Shape  \\\n",
       "6    4695187  (-117.26649999999995, 48.27970000000005)   \n",
       "16   4695197  (-122.33399999999995, 47.43200000000007)   \n",
       "17   4695198  (-121.74999999999994, 48.53800000000007)   \n",
       "18   4695199  (-122.19999999999999, 48.72000000000003)   \n",
       "19   4695200  (-122.90899999999999, 46.12990000000008)   \n",
       "\n",
       "                source_name  \\\n",
       "6      The Spokesman-Review   \n",
       "16     Ballard News Tribune   \n",
       "17  Corvallis Gazette-Times   \n",
       "18  Corvallis Gazette-Times   \n",
       "19                      TDN   \n",
       "\n",
       "                                          source_link  event_id  \\\n",
       "6   http://www.spokesman.com/stories/2012/mar/31/f...      4290   \n",
       "16  https://ballardnewstribune.com/robinson-papers...       961   \n",
       "17  http://www.gazettetimes.com/news/local/floodwa...       962   \n",
       "18  http://www.gazettetimes.com/news/local/floodwa...       963   \n",
       "19  http://tdn.com/news/slide-pushes-kelso-home-of...       964   \n",
       "\n",
       "        event_date event_time  \\\n",
       "6   3/30/2012 0:00        NaN   \n",
       "16   1/7/2009 0:00        NaN   \n",
       "17   1/7/2009 0:00        NaN   \n",
       "18   1/7/2009 0:00        NaN   \n",
       "19   1/8/2009 0:00        NaN   \n",
       "\n",
       "                                          event_title  \\\n",
       "6    Pend Oreille County, State Route 20 near Usk, OR   \n",
       "16    Sixth Place South in Normandy Park , Washington   \n",
       "17  Concrete, 70 miles northeast of Seattle,Washin...   \n",
       "18              Acme area, Whatcom County, Washington   \n",
       "19                  Burcham Street, Kelso, Washington   \n",
       "\n",
       "                                    event_description  \\\n",
       "6   In Pend Oreille County, a mudslide on State Ro...   \n",
       "16  Normandy Park resident Chris DeLaRosa says she...   \n",
       "17  Rainfall totals for the 24 hours ending at 2 p...   \n",
       "18  U.S. 97 was closed by slides at Blewett Pass, ...   \n",
       "19  A rain-saturated hillside gave way and knocked...   \n",
       "\n",
       "                                 location_description  ... event_import_id  \\\n",
       "6    Pend Oreille County, State Route 20 near Usk, OR  ...            4290   \n",
       "16    Sixth Place South in Normandy Park , Washington  ...             961   \n",
       "17  Concrete, 70 miles northeast of Seattle,Washin...  ...             962   \n",
       "18              Acme area, Whatcom County, Washington  ...             963   \n",
       "19                   Burcham Street, Kelso,Washington  ...             964   \n",
       "\n",
       "   latitude longitude   country_name country_code  admin_division_name  \\\n",
       "6   48.2797 -117.2665  United States           US           Washington   \n",
       "16  47.4320 -122.3340  United States           US           Washington   \n",
       "17  48.5380 -121.7500  United States           US           Washington   \n",
       "18  48.7200 -122.2000  United States           US           Washington   \n",
       "19  46.1299 -122.9090  United States           US           Washington   \n",
       "\n",
       "         gazetteer_closest_point gazetteer_distance   submitted_date  \\\n",
       "6                            Usk               3.64    4/1/2014 0:00   \n",
       "16  Seattle Tacoma International               2.76    4/1/2014 0:00   \n",
       "17                      Concrete               0.25  9/15/2014 17:52   \n",
       "18                          Acme               0.11  9/11/2014 21:04   \n",
       "19                         Kelso               1.15    4/1/2014 0:00   \n",
       "\n",
       "   last_edited_date  \n",
       "6    4/24/2021 4:59  \n",
       "16   4/24/2021 4:59  \n",
       "17   4/24/2021 4:59  \n",
       "18   4/24/2021 4:59  \n",
       "19   4/24/2021 4:59  \n",
       "\n",
       "[5 rows x 31 columns]"
      ]
     },
     "execution_count": 3,
     "metadata": {},
     "output_type": "execute_result"
    }
   ],
   "source": [
    "landslides_US = landslides[landslides.country_code == \"US\"]\n",
    "landslides_WA = landslides_US[landslides[\"admin_division_name\"].isin([\"Washington\"])]\n",
    "landslides_WA = landslides_WA[landslides_US.event_date > \"1/1/1981\"] \n",
    "\n",
    "landslides_WA.head()\n",
    "#landslides_WA.to_csv(r'/Users/micha/590FinalProject/landslides_WA.csv', index = False) #Export the dataframe to a readable csv"
   ]
  },
  {
   "cell_type": "markdown",
   "metadata": {},
   "source": [
    "Due to the laborious task of obtaining precipitation data \n",
    "from PRISM, only 138 slides were choses to get precipiation data of \n",
    "as well as about a month before and after in that location.\n",
    "Precipiation data was downloaded from PRISM and a \"Slide\" column was \n",
    "added, equal to 1 for dates of a landslide and 0 for all other dates."
   ]
  },
  {
   "cell_type": "markdown",
   "metadata": {},
   "source": [
    "Download the CSVs as dataframes and concatinate them into one dataframe that does not have rows with NaNs "
   ]
  },
  {
   "cell_type": "code",
   "execution_count": 5,
   "metadata": {},
   "outputs": [
    {
     "name": "stderr",
     "output_type": "stream",
     "text": [
      "C:\\Users\\micha\\anaconda3\\lib\\site-packages\\IPython\\core\\interactiveshell.py:3146: DtypeWarning: Columns (0,4) have mixed types.Specify dtype option on import or set low_memory=False.\n",
      "  has_raised = await self.run_ast_nodes(code_ast.body, cell_name,\n",
      "C:\\Users\\micha\\anaconda3\\lib\\site-packages\\IPython\\core\\interactiveshell.py:3146: DtypeWarning: Columns (0,4) have mixed types.Specify dtype option on import or set low_memory=False.\n",
      "  has_raised = await self.run_ast_nodes(code_ast.body, cell_name,\n",
      "C:\\Users\\micha\\anaconda3\\lib\\site-packages\\IPython\\core\\interactiveshell.py:3146: DtypeWarning: Columns (0,4) have mixed types.Specify dtype option on import or set low_memory=False.\n",
      "  has_raised = await self.run_ast_nodes(code_ast.body, cell_name,\n",
      "C:\\Users\\micha\\anaconda3\\lib\\site-packages\\IPython\\core\\interactiveshell.py:3146: DtypeWarning: Columns (0,4) have mixed types.Specify dtype option on import or set low_memory=False.\n",
      "  has_raised = await self.run_ast_nodes(code_ast.body, cell_name,\n",
      "C:\\Users\\micha\\anaconda3\\lib\\site-packages\\IPython\\core\\interactiveshell.py:3146: DtypeWarning: Columns (0,4) have mixed types.Specify dtype option on import or set low_memory=False.\n",
      "  has_raised = await self.run_ast_nodes(code_ast.body, cell_name,\n"
     ]
    }
   ],
   "source": [
    "precipWA1 = pd.read_csv(\"WASlides/PRISM_ppt_stable_4km_20170101_20170331.csv\", header = 10)\n",
    "precipWA1 = precipWA1.dropna()\n",
    "precipWA2 = pd.read_csv(\"WASlides/PRISM_ppt_stable_4km_19961201_19970228.csv\", header = 10)\n",
    "precipWA2 = precipWA2.dropna()\n",
    "precipWA3 = pd.read_csv(\"WASlides/PRISM_ppt_stable_4km_19981201_19990131.csv\", header = 10)\n",
    "precipWA3 = precipWA3.dropna()\n",
    "precipWA4 = pd.read_csv(\"WASlides/PRISM_ppt_stable_4km_20081201_20090130.csv\", header = 10)\n",
    "precipWA4 = precipWA4.dropna()\n",
    "precipWA5 = pd.read_csv(\"WASlides/PRISM_ppt_stable_4km_20101101_20110228.csv\", header = 10)\n",
    "precipWA5 = precipWA5.dropna()\n",
    "precipWA6 = pd.read_csv(\"WASlides/PRISM_ppt_stable_4km_20110201_20110331.csv\", header = 10)\n",
    "precipWA6 = precipWA6.dropna()\n",
    "precipWA7 = pd.read_csv(\"WASlides/PRISM_ppt_stable_4km_20170301_20170518.csv\", header = 10)\n",
    "precipWA7 = precipWA7.dropna()\n",
    "\n",
    "precipWA = pd.concat([precipWA1, precipWA2, precipWA3, precipWA4, precipWA5, precipWA6, precipWA7])\n",
    "precipWA = precipWA.drop(columns = ['Name', 'Date'])            #Do not want these columns to interfere with ML process\n",
    "precipWA = precipWA.drop([1])                                   #Data set has an uneven number of rows, remove one row"
   ]
  },
  {
   "cell_type": "markdown",
   "metadata": {},
   "source": [
    "Create a correlation matrix to see if any attributes are correlated and dimension reduction can be used"
   ]
  },
  {
   "cell_type": "code",
   "execution_count": 6,
   "metadata": {},
   "outputs": [
    {
     "data": {
      "text/plain": [
       "<AxesSubplot:>"
      ]
     },
     "execution_count": 6,
     "metadata": {},
     "output_type": "execute_result"
    },
    {
     "data": {
      "image/png": "[encoded data removed]",
      "text/plain": [
       "<Figure size 432x288 with 2 Axes>"
      ]
     },
     "metadata": {
      "needs_background": "light"
     },
     "output_type": "display_data"
    }
   ],
   "source": [
    "corr_matrix = precipWA.drop('Slide', axis = 1).corr()\n",
    "sns.heatmap(corr_matrix, cmap = 'coolwarm', center = 0)"
   ]
  },
  {
   "cell_type": "markdown",
   "metadata": {},
   "source": [
    "None of the attributes seem to correlate with each other so the dimensions cannot be reduced"
   ]
  },
  {
   "cell_type": "markdown",
   "metadata": {},
   "source": [
    "### ML first Run"
   ]
  },
  {
   "cell_type": "markdown",
   "metadata": {},
   "source": [
    "Featrue Normalization"
   ]
  },
  {
   "cell_type": "code",
   "execution_count": 7,
   "metadata": {},
   "outputs": [
    {
     "name": "stdout",
     "output_type": "stream",
     "text": [
      "[[-0.3386673  -0.22357185 -0.37961822 -0.31331811]\n",
      " [-0.3386673  -0.22357185 -0.37961822 -0.60329951]\n",
      " [-0.3386673  -0.22357185 -0.37961822 -0.60329951]\n",
      " ...\n",
      " [-0.65735507 -1.76693325 -0.24994666  0.97841724]\n",
      " [-0.65735507 -1.76693325 -0.24994666  0.13483497]\n",
      " [-0.65735507 -1.76693325 -0.24994666 -0.60329951]]\n"
     ]
    }
   ],
   "source": [
    "precipWA_norm = precipWA.drop(columns = ['Slide'])\n",
    "scaler = preprocessing.StandardScaler().fit(precipWA_norm)\n",
    "precipWA_norm = scaler.transform(precipWA_norm)\n",
    "print(precipWA_norm)"
   ]
  },
  {
   "cell_type": "markdown",
   "metadata": {},
   "source": [
    "Data test, train split"
   ]
  },
  {
   "cell_type": "code",
   "execution_count": 8,
   "metadata": {},
   "outputs": [],
   "source": [
    "X_train, X_test, y_train, y_test = train_test_split(precipWA_norm, precipWA['Slide'],\n",
    "                                                    test_size = 0.5, shuffle = True)"
   ]
  },
  {
   "cell_type": "markdown",
   "metadata": {},
   "source": [
    "Trying different basic classifiers to see which initially performs best and will focus on "
   ]
  },
  {
   "cell_type": "code",
   "execution_count": 9,
   "metadata": {},
   "outputs": [
    {
     "data": {
      "text/plain": [
       "<sklearn.metrics._plot.confusion_matrix.ConfusionMatrixDisplay at 0x29e632c0460>"
      ]
     },
     "execution_count": 9,
     "metadata": {},
     "output_type": "execute_result"
    },
    {
     "data": {
      "image/png": "[encoded data removed]",
      "text/plain": [
       "<Figure size 432x288 with 2 Axes>"
      ]
     },
     "metadata": {
      "needs_background": "light"
     },
     "output_type": "display_data"
    }
   ],
   "source": [
    "#Random Forest Classifier\n",
    "RF = RandomForestClassifier(n_estimators = 100, random_state = 42)\n",
    "RF.fit(X_train, y_train)\n",
    "y_pred = RF.predict(X_test)\n",
    "\n",
    "plot_confusion_matrix(RF, X_test, y_test)"
   ]
  },
  {
   "cell_type": "code",
   "execution_count": 10,
   "metadata": {},
   "outputs": [
    {
     "data": {
      "text/plain": [
       "<sklearn.metrics._plot.confusion_matrix.ConfusionMatrixDisplay at 0x29e5d975d90>"
      ]
     },
     "execution_count": 10,
     "metadata": {},
     "output_type": "execute_result"
    },
    {
     "data": {
      "image/png": "[encoded data removed]",
      "text/plain": [
       "<Figure size 432x288 with 2 Axes>"
      ]
     },
     "metadata": {
      "needs_background": "light"
     },
     "output_type": "display_data"
    }
   ],
   "source": [
    "#KNearest Neighbors\n",
    "KNC = KNeighborsClassifier(n_neighbors = 5)\n",
    "KNC.fit(X_train, y_train)\n",
    "y_pred = KNC.predict(X_test)\n",
    "\n",
    "plot_confusion_matrix(KNC, X_test, y_test)"
   ]
  },
  {
   "cell_type": "code",
   "execution_count": 11,
   "metadata": {},
   "outputs": [
    {
     "data": {
      "text/plain": [
       "<sklearn.metrics._plot.confusion_matrix.ConfusionMatrixDisplay at 0x29e633e8bb0>"
      ]
     },
     "execution_count": 11,
     "metadata": {},
     "output_type": "execute_result"
    },
    {
     "data": {
      "image/png": "[encoded data removed]",
      "text/plain": [
       "<Figure size 432x288 with 2 Axes>"
      ]
     },
     "metadata": {
      "needs_background": "light"
     },
     "output_type": "display_data"
    }
   ],
   "source": [
    "#Support Vector Machine Classifier\n",
    "SVMC = SVC(gamma = 0.001)\n",
    "SVMC.fit(X_train, y_train)\n",
    "y_pred = SVMC.predict(X_test)\n",
    "\n",
    "plot_confusion_matrix(SVMC, X_test, y_test)"
   ]
  },
  {
   "cell_type": "code",
   "execution_count": 12,
   "metadata": {},
   "outputs": [
    {
     "data": {
      "text/plain": [
       "<sklearn.metrics._plot.confusion_matrix.ConfusionMatrixDisplay at 0x29e5d96fa60>"
      ]
     },
     "execution_count": 12,
     "metadata": {},
     "output_type": "execute_result"
    },
    {
     "data": {
      "image/png": "[encoded data removed]",
      "text/plain": [
       "<Figure size 432x288 with 2 Axes>"
      ]
     },
     "metadata": {
      "needs_background": "light"
     },
     "output_type": "display_data"
    }
   ],
   "source": [
    "#Multi-Layer Perception\n",
    "MLP = MLPClassifier(hidden_layer_sizes = 100)\n",
    "MLP.fit(X_train, y_train)\n",
    "y_pred - MLP.predict(X_test)\n",
    "\n",
    "plot_confusion_matrix(MLP, X_test, y_test)"
   ]
  },
  {
   "cell_type": "markdown",
   "metadata": {},
   "source": [
    "Random Forest and Multi-Layer Perception performed the best of the four, although they did not perform well at predicting slides - 1. This is likely due to the small number of slides relative to non-slides, 138 slides to almost 13,000 non-slides. "
   ]
  },
  {
   "cell_type": "markdown",
   "metadata": {},
   "source": [
    "There are a few ways that can be used to try to solve the imbalance issue. The first is to get new/different/better data, but this would take a long time and I don't think is the point of this project. The other options are to do an oversampling and an undersampling. Oversampling will create \"fake\" data by duplicating the minority attribute - in this case, slides or 1. Undersampling will remove data from the majority attribute - in this case, non-slides or 0. "
   ]
  },
  {
   "cell_type": "markdown",
   "metadata": {},
   "source": [
    "I will do both over- and undersampling on Random Forest and Multi-Layer Perception to see what initially works best, and then attempt to fine-tune from there."
   ]
  },
  {
   "cell_type": "markdown",
   "metadata": {},
   "source": [
    "### Oversampling"
   ]
  },
  {
   "cell_type": "code",
   "execution_count": 13,
   "metadata": {},
   "outputs": [],
   "source": [
    "oversample = imblearn.over_sampling.RandomOverSampler(sampling_strategy = 0.33) #This will create more slide intances\n",
    "                                                                                #such that there are a third as many slides\n",
    "                                                                                #as non-slides\n",
    "slide = precipWA['Slide']  #Create a dataframe with just slide feature\n",
    "\n",
    "features_over, slide_over = oversample.fit_resample(precipWA_norm, slide)   #Oversample each the normalized feature dataset \n",
    "                                                                            #and the slide dataset\n",
    "    \n",
    "X_train, X_test, y_train, y_test = train_test_split(features_over, slide_over, test_size = 0.5, shuffle = True) \n",
    "                                                #New test train split with shuffle = True because the oversampling \n",
    "                                                #adds the \"fake\" data at the end of the dataframe. If shuffle\n",
    "                                                #was False then the test/train would be biased"
   ]
  },
  {
   "cell_type": "code",
   "execution_count": 6,
   "metadata": {},
   "outputs": [
    {
     "name": "stdout",
     "output_type": "stream",
     "text": [
      "16795\n",
      "4167.0\n"
     ]
    }
   ],
   "source": [
    "print(slide_over.count())\n",
    "print(slide_over.sum())"
   ]
  },
  {
   "cell_type": "code",
   "execution_count": 14,
   "metadata": {},
   "outputs": [
    {
     "data": {
      "text/plain": [
       "<sklearn.metrics._plot.confusion_matrix.ConfusionMatrixDisplay at 0x29e688f2070>"
      ]
     },
     "execution_count": 14,
     "metadata": {},
     "output_type": "execute_result"
    },
    {
     "data": {
      "image/png": "[encoded data removed]",
      "text/plain": [
       "<Figure size 432x288 with 2 Axes>"
      ]
     },
     "metadata": {
      "needs_background": "light"
     },
     "output_type": "display_data"
    }
   ],
   "source": [
    "#Random Forst with Oversampling\n",
    "\n",
    "RF = RandomForestClassifier(n_estimators = 100, random_state = 42)\n",
    "RF.fit(X_train, y_train)\n",
    "y_pred = RF.predict(X_test)\n",
    "\n",
    "plot_confusion_matrix(RF, X_test, y_test)"
   ]
  },
  {
   "cell_type": "code",
   "execution_count": 15,
   "metadata": {},
   "outputs": [
    {
     "name": "stderr",
     "output_type": "stream",
     "text": [
      "C:\\Users\\micha\\anaconda3\\lib\\site-packages\\sklearn\\neural_network\\_multilayer_perceptron.py:614: ConvergenceWarning: Stochastic Optimizer: Maximum iterations (200) reached and the optimization hasn't converged yet.\n",
      "  warnings.warn(\n"
     ]
    },
    {
     "data": {
      "text/plain": [
       "<sklearn.metrics._plot.confusion_matrix.ConfusionMatrixDisplay at 0x29e644c6b80>"
      ]
     },
     "execution_count": 15,
     "metadata": {},
     "output_type": "execute_result"
    },
    {
     "data": {
      "image/png": "[encoded data removed]",
      "text/plain": [
       "<Figure size 432x288 with 2 Axes>"
      ]
     },
     "metadata": {
      "needs_background": "light"
     },
     "output_type": "display_data"
    }
   ],
   "source": [
    "#Multi-Layer Perception with Oversampling\n",
    "\n",
    "MLP = MLPClassifier(hidden_layer_sizes = 100)\n",
    "MLP.fit(X_train, y_train)\n",
    "y_pred - MLP.predict(X_test)\n",
    "\n",
    "plot_confusion_matrix(MLP, X_test, y_test)"
   ]
  },
  {
   "cell_type": "markdown",
   "metadata": {},
   "source": [
    "### Undersampling"
   ]
  },
  {
   "cell_type": "code",
   "execution_count": 16,
   "metadata": {},
   "outputs": [],
   "source": [
    "undersample = imblearn.under_sampling.RandomUnderSampler(sampling_strategy = 0.1) #This will remove non-slides such that \n",
    "                                                                                   #there are only 10 times as many\n",
    "                                                                                   #non-slides as slides\n",
    "        \n",
    "features_under, slide_under = undersample.fit_resample(precipWA_norm, slide)       #undersample slides and the normalized\n",
    "                                                                                   #feature dataset\n",
    "    \n",
    "X_train, X_test, y_train, y_test = train_test_split(features_under, slide_under, test_size = 0.5, shuffle = True) "
   ]
  },
  {
   "cell_type": "code",
   "execution_count": 54,
   "metadata": {},
   "outputs": [
    {
     "name": "stdout",
     "output_type": "stream",
     "text": [
      "1518\n",
      "138.0\n"
     ]
    }
   ],
   "source": [
    "print(slide_under.count())\n",
    "print(slide_under.sum())"
   ]
  },
  {
   "cell_type": "code",
   "execution_count": 17,
   "metadata": {},
   "outputs": [
    {
     "data": {
      "text/plain": [
       "<sklearn.metrics._plot.confusion_matrix.ConfusionMatrixDisplay at 0x29e6b42a460>"
      ]
     },
     "execution_count": 17,
     "metadata": {},
     "output_type": "execute_result"
    },
    {
     "data": {
      "image/png": "[encoded data removed]",
      "text/plain": [
       "<Figure size 432x288 with 2 Axes>"
      ]
     },
     "metadata": {
      "needs_background": "light"
     },
     "output_type": "display_data"
    }
   ],
   "source": [
    "#Random Forest with Undersampling\n",
    "\n",
    "RF = RandomForestClassifier(n_estimators = 100, random_state = 42)\n",
    "RF.fit(X_train, y_train)\n",
    "y_pred = RF.predict(X_test)\n",
    "\n",
    "plot_confusion_matrix(RF, X_test, y_test)"
   ]
  },
  {
   "cell_type": "code",
   "execution_count": 18,
   "metadata": {},
   "outputs": [
    {
     "name": "stderr",
     "output_type": "stream",
     "text": [
      "C:\\Users\\micha\\anaconda3\\lib\\site-packages\\sklearn\\neural_network\\_multilayer_perceptron.py:614: ConvergenceWarning: Stochastic Optimizer: Maximum iterations (200) reached and the optimization hasn't converged yet.\n",
      "  warnings.warn(\n"
     ]
    },
    {
     "data": {
      "text/plain": [
       "<sklearn.metrics._plot.confusion_matrix.ConfusionMatrixDisplay at 0x29e647b7790>"
      ]
     },
     "execution_count": 18,
     "metadata": {},
     "output_type": "execute_result"
    },
    {
     "data": {
      "image/png": "[encoded data removed]",
      "text/plain": [
       "<Figure size 432x288 with 2 Axes>"
      ]
     },
     "metadata": {
      "needs_background": "light"
     },
     "output_type": "display_data"
    }
   ],
   "source": [
    "#Multi-Layer Perception with Undersampling\n",
    "\n",
    "MLP = MLPClassifier(hidden_layer_sizes = 100)\n",
    "MLP.fit(X_train, y_train)\n",
    "y_pred - MLP.predict(X_test)\n",
    "\n",
    "plot_confusion_matrix(MLP, X_test, y_test)"
   ]
  },
  {
   "cell_type": "markdown",
   "metadata": {},
   "source": [
    "After trying Random Forest and Multi-Layer Perception with both Oversampling and Undersampling, Random Forest with Oversampling performs the best.  "
   ]
  },
  {
   "cell_type": "markdown",
   "metadata": {},
   "source": [
    "## Random Forest Classifier Parameterization"
   ]
  },
  {
   "cell_type": "markdown",
   "metadata": {},
   "source": [
    "Want to make sure that the model is predicting \"real\" landslides and not on the synthetic data"
   ]
  },
  {
   "cell_type": "code",
   "execution_count": 19,
   "metadata": {},
   "outputs": [],
   "source": [
    "#Split up the real slide data set and keep half of it as validation for a confusion matrix later on\n",
    "\n",
    "X_test, X_val, y_test1, y_val = train_test_split(precipWA_norm, slide, test_size = 0.5, shuffle = True)\n",
    "\n",
    "#Still using oversampling with 0.33\n",
    "\n",
    "features_over, slide_over = oversample.fit_resample(X_test, y_test1)\n",
    "\n",
    "X_train, X_test, y_train, y_test = train_test_split(features_over, slide_over, test_size = 0.5, shuffle = True)"
   ]
  },
  {
   "cell_type": "code",
   "execution_count": 20,
   "metadata": {},
   "outputs": [
    {
     "data": {
      "text/plain": [
       "<sklearn.metrics._plot.confusion_matrix.ConfusionMatrixDisplay at 0x29e648ed910>"
      ]
     },
     "execution_count": 20,
     "metadata": {},
     "output_type": "execute_result"
    },
    {
     "data": {
      "image/png": "[encoded data removed]",
      "text/plain": [
       "<Figure size 432x288 with 2 Axes>"
      ]
     },
     "metadata": {
      "needs_background": "light"
     },
     "output_type": "display_data"
    }
   ],
   "source": [
    "RF = RandomForestClassifier(random_state = 42)\n",
    "RF.fit(X_train, y_train)\n",
    "y_pred = RF.predict(X_test)\n",
    "\n",
    "plot_confusion_matrix(RF, X_test, y_test)"
   ]
  },
  {
   "cell_type": "code",
   "execution_count": 21,
   "metadata": {},
   "outputs": [
    {
     "data": {
      "text/plain": [
       "<sklearn.metrics._plot.confusion_matrix.ConfusionMatrixDisplay at 0x29e644c6be0>"
      ]
     },
     "execution_count": 21,
     "metadata": {},
     "output_type": "execute_result"
    },
    {
     "data": {
      "image/png": "[encoded data removed]",
      "text/plain": [
       "<Figure size 432x288 with 2 Axes>"
      ]
     },
     "metadata": {
      "needs_background": "light"
     },
     "output_type": "display_data"
    }
   ],
   "source": [
    "#Validation Data\n",
    "\n",
    "plot_confusion_matrix(RF, X_val, y_val)"
   ]
  },
  {
   "cell_type": "markdown",
   "metadata": {},
   "source": [
    "Model likely overfitting due to synthetic data"
   ]
  },
  {
   "cell_type": "markdown",
   "metadata": {},
   "source": [
    "### Model Parameterization"
   ]
  },
  {
   "cell_type": "code",
   "execution_count": 22,
   "metadata": {},
   "outputs": [],
   "source": [
    "#Import randomized search CV that will randomly pick parameters and the output is the best scoring model\n",
    "\n",
    "from sklearn.model_selection import RandomizedSearchCV"
   ]
  },
  {
   "cell_type": "code",
   "execution_count": 44,
   "metadata": {},
   "outputs": [
    {
     "name": "stdout",
     "output_type": "stream",
     "text": [
      "{'random_state': 42, 'n_estimators': 30, 'max_depth': 5}\n",
      "F1 Score: 0.7734384672021758\n"
     ]
    }
   ],
   "source": [
    "RandFor = RandomForestClassifier()\n",
    "param_grid = {'n_estimators': [10, 30, 50, 100],\n",
    "             'random_state' : [42],\n",
    "             'max_depth' : [2, 3, 4, 5]\n",
    "             }\n",
    "\n",
    "clf = RandomizedSearchCV(estimator = RandFor, param_distributions = param_grid, scoring = 'f1', n_iter = 8, random_state = 0)\n",
    "RandFor_model = clf.fit(X_train, y_train)\n",
    "print(RandFor_model.best_params_)\n",
    "print(\"F1 Score: \" + str(RandFor_model.best_score_))"
   ]
  },
  {
   "cell_type": "code",
   "execution_count": 41,
   "metadata": {},
   "outputs": [
    {
     "name": "stdout",
     "output_type": "stream",
     "text": [
      "              precision    recall  f1-score   support\n",
      "\n",
      "         0.0       0.75      0.79      0.77      3135\n",
      "         1.0       0.26      0.21      0.23      1062\n",
      "\n",
      "    accuracy                           0.65      4197\n",
      "   macro avg       0.50      0.50      0.50      4197\n",
      "weighted avg       0.62      0.65      0.63      4197\n",
      "\n",
      "              precision    recall  f1-score   support\n",
      "\n",
      "         0.0       0.99      0.97      0.98      6312\n",
      "         1.0       0.02      0.06      0.03        71\n",
      "\n",
      "    accuracy                           0.96      6383\n",
      "   macro avg       0.50      0.51      0.50      6383\n",
      "weighted avg       0.98      0.96      0.97      6383\n",
      "\n"
     ]
    },
    {
     "data": {
      "text/plain": [
       "<sklearn.metrics._plot.confusion_matrix.ConfusionMatrixDisplay at 0x29e65199910>"
      ]
     },
     "execution_count": 41,
     "metadata": {},
     "output_type": "execute_result"
    },
    {
     "data": {
      "image/png": "[encoded data removed]",
      "text/plain": [
       "<Figure size 792x576 with 4 Axes>"
      ]
     },
     "metadata": {
      "needs_background": "light"
     },
     "output_type": "display_data"
    }
   ],
   "source": [
    "#Implement the best parameters to a Random Forest Classifier Model\n",
    "\n",
    "RF_best = RandomForestClassifier(n_estimators = 30, max_depth = 5, random_state = 42)\n",
    "RF_best.fit(X_train, y_train)\n",
    "y_pred = RF_best.predict(X_test)\n",
    "y_pred_val = RF_best.predict(X_val)\n",
    "\n",
    "print(classification_report(y_train, y_pred))\n",
    "print(classification_report(y_test1, y_pred_val))\n",
    "\n",
    "fig, axes = plt.subplots(1, 2, figsize = (11,8))\n",
    "plot_confusion_matrix(RF_best, X_test, y_test, ax = axes[0])\n",
    "plot_confusion_matrix(RF_best, X_val, y_val, ax = axes[1])"
   ]
  },
  {
   "cell_type": "code",
   "execution_count": 39,
   "metadata": {},
   "outputs": [
    {
     "name": "stdout",
     "output_type": "stream",
     "text": [
      "              precision    recall  f1-score   support\n",
      "\n",
      "         0.0       0.75      0.84      0.79      3135\n",
      "         1.0       0.28      0.18      0.22      1062\n",
      "\n",
      "    accuracy                           0.67      4197\n",
      "   macro avg       0.51      0.51      0.51      4197\n",
      "weighted avg       0.63      0.67      0.65      4197\n",
      "\n",
      "              precision    recall  f1-score   support\n",
      "\n",
      "         0.0       0.99      0.97      0.98      6312\n",
      "         1.0       0.02      0.06      0.03        71\n",
      "\n",
      "    accuracy                           0.96      6383\n",
      "   macro avg       0.51      0.51      0.51      6383\n",
      "weighted avg       0.98      0.96      0.97      6383\n",
      "\n"
     ]
    },
    {
     "data": {
      "text/plain": [
       "<sklearn.metrics._plot.confusion_matrix.ConfusionMatrixDisplay at 0x29e65ad93d0>"
      ]
     },
     "execution_count": 39,
     "metadata": {},
     "output_type": "execute_result"
    },
    {
     "data": {
      "image/png": "[encoded data removed]",
      "text/plain": [
       "<Figure size 792x576 with 4 Axes>"
      ]
     },
     "metadata": {
      "needs_background": "light"
     },
     "output_type": "display_data"
    }
   ],
   "source": [
    "#From manual guess and check of the cross validation, a max_depth of 2 results in the best confusion matrix\n",
    "#for the validation data set\n",
    "\n",
    "RF_manual = RandomForestClassifier(n_estimators = 50, max_depth = 4, random_state = 42)\n",
    "RF_manual.fit(X_train, y_train)\n",
    "y_pred = RF_manual.predict(X_test)\n",
    "y_pred_val = RF_manual.predict(X_val)\n",
    "\n",
    "print(classification_report(y_train, y_pred))\n",
    "print(classification_report(y_test1, y_pred_val))\n",
    "\n",
    "fig, axes = plt.subplots(1, 2, figsize = (11,8))\n",
    "plot_confusion_matrix(RF_manual, X_test, y_test, ax = axes[0])\n",
    "plot_confusion_matrix(RF_manual, X_val, y_val, ax = axes[1])"
   ]
  },
  {
   "cell_type": "code",
   "execution_count": null,
   "metadata": {},
   "outputs": [],
   "source": []
  }
 ],
 "metadata": {
  "kernelspec": {
   "display_name": "Python 3",
   "language": "python",
   "name": "python3"
  },
  "language_info": {
   "codemirror_mode": {
    "name": "ipython",
    "version": 3
   },
   "file_extension": ".py",
   "mimetype": "text/x-python",
   "name": "python",
   "nbconvert_exporter": "python",
   "pygments_lexer": "ipython3",
   "version": "3.8.5"
  }
 },
 "nbformat": 4,
 "nbformat_minor": 4
}

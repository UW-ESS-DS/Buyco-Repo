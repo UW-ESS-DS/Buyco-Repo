{
 "metadata": {
  "language_info": {
   "codemirror_mode": {
    "name": "ipython",
    "version": 3
   },
   "file_extension": ".py",
   "mimetype": "text/x-python",
   "name": "python",
   "nbconvert_exporter": "python",
   "pygments_lexer": "ipython3",
   "version": "3.8.5"
  },
  "orig_nbformat": 2,
  "kernelspec": {
   "name": "python385jvsc74a57bd054e72497fd64358f52832107e3cdfaf9f975ee2964d8f26ed128ba56fc24de73",
   "display_name": "Python 3.8.5 64-bit ('base': conda)"
  }
 },
 "nbformat": 4,
 "nbformat_minor": 2,
 "cells": [
  {
   "source": [
    "# Homework 2"
   ],
   "cell_type": "markdown",
   "metadata": {}
  },
  {
   "cell_type": "code",
   "execution_count": 6,
   "metadata": {},
   "outputs": [],
   "source": [
    "#Imports\n",
    "import pandas as pd \n",
    "import numpy as np"
   ]
  },
  {
   "cell_type": "code",
   "execution_count": 11,
   "metadata": {},
   "outputs": [
    {
     "output_type": "stream",
     "name": "stdout",
     "text": [
      "Yup\n(1, 2, 3, 4, 5)\nsmall\nsmall\nmedium\nbig\nbig\n"
     ]
    }
   ],
   "source": [
    "# Basic Python Operations\n",
    "x = 4\n",
    "x = x * 2\n",
    "if x > 4 and x < 20:\n",
    "    print(\"Yup\")\n",
    "else:\n",
    "    print(\"Nah\")\n",
    "num_list = (1, 2, 3, 4, 5)\n",
    "print(num_list)\n",
    "for i in num_list:\n",
    "    if i < 3:\n",
    "        print(\"small\")\n",
    "    elif i < 4:\n",
    "        print(\"medium\")\n",
    "    else:\n",
    "        print(\"big\")"
   ]
  },
  {
   "cell_type": "code",
   "execution_count": 12,
   "metadata": {},
   "outputs": [
    {
     "output_type": "stream",
     "name": "stdout",
     "text": [
      "29\n"
     ]
    }
   ],
   "source": [
    "#Defining a Function\n",
    "def prac_function(x,y):\n",
    "    return x + y\n",
    "\n",
    "print(prac_function(7, 22))"
   ]
  },
  {
   "cell_type": "code",
   "execution_count": null,
   "metadata": {},
   "outputs": [],
   "source": []
  }
 ]
}
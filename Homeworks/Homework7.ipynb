{
 "cells": [
  {
   "cell_type": "markdown",
   "metadata": {
    "_cell_guid": "fa3d2a9c-442b-44c2-bf4d-45bb544ec369",
    "_uuid": "bcba1675eebc008a35c21f6b64174161ff7d4c48"
   },
   "source": [
    "# Homework 7 (50 points)"
   ]
  },
  {
   "cell_type": "markdown",
   "metadata": {
    "_cell_guid": "d4bef474-9b3a-4bfd-80ee-b79f7fa144dc",
    "_uuid": "73e8f01266e59393a11b6e00300eb916ee50662f"
   },
   "source": [
    "In this Homework, we will try to classify observations of space to be either stars, galaxies or quasars based on the RD14 from the Sloan Digital Sky Survey  (SDSS). The Sloan Digital Sky Survey is a project which offers public data of space observations. Observations have been made since 1998 and have been made accessible to everyone who is interested. \n",
    "\n",
    "http://www.sdss.org/\n",
    "![alt text](http://www.fingerprintdigitalmedia.com/wp-content/uploads/2014/08/sdss1.jpg)\n",
    "\n",
    "For this purpose a special 2.5 m diameter telescope was built at the Apache Point Observatory in New Mexico, USA. The telescope uses a camera of 30 CCD-Chips with 2048x2048 image points each. The chips are ordered in 5 rows with 6 chips in each row. Each row observes the space through different optical filters (u, g, r, i, z) at wavelengths of approximately 354, 476, 628, 769, 925 nm.\n",
    "\n",
    "\n",
    "In this homework we will train several classifier to predict the class of a celestial object based on the observations (features). We will practice data prep, dimensionality reduction, model design and training, model comparison, and feature importance selection."
   ]
  },
  {
   "cell_type": "markdown",
   "metadata": {
    "_cell_guid": "b9d4b609-9f0f-4296-8462-98975b2ece09",
    "_uuid": "16d228ddb3b0d71d6e13093552c04a21146b75e5"
   },
   "source": [
    "### Importing Libraries"
   ]
  },
  {
   "cell_type": "code",
   "execution_count": 1,
   "metadata": {
    "_cell_guid": "13914766-c2fb-4801-8846-6c78e6d1cb03",
    "_uuid": "5bb212bdb34abc34f8bed1a0bc2d1a6287166221"
   },
   "outputs": [],
   "source": [
    "import numpy as np\n",
    "import pandas as pd\n",
    "import matplotlib.pyplot as plt\n",
    "import time\n",
    "import warnings\n",
    "import sklearn\n",
    "warnings.filterwarnings(\"ignore\", category=DeprecationWarning)\n",
    "%matplotlib inline\n"
   ]
  },
  {
   "cell_type": "markdown",
   "metadata": {
    "_cell_guid": "2b272b59-8c37-4e8e-a78a-ac5f50919d2e",
    "_uuid": "82c44461c45ae463a3d429f564f8bca17f8b0f4c"
   },
   "source": [
    "## 1) Data Preparation (20 points)\n",
    "\n",
    "We follow the following steps:\n",
    "* read (1 point)\n",
    "* clean (3 points)\n",
    "* correlate (4 points)\n",
    "* explore, spread of values (3 points)\n",
    "* dimensionality reduction (9 points)\n",
    "\n",
    "### 1.1 Data read\n",
    "Read the pandas fata frame from the csv file \"Skyserver_SQL2_27_2018.csv\" and skip the first row.\n",
    "\n",
    "**Task: read (1 point)**\n",
    "\n",
    "Save a copy of the data frame just in case."
   ]
  },
  {
   "cell_type": "code",
   "execution_count": 2,
   "metadata": {
    "_cell_guid": "ffb06ef6-73f7-4f42-ab42-5d5b5f773ba7",
    "_uuid": "04e88f8c9c12167a1c23e47b3e2046246510e983"
   },
   "outputs": [],
   "source": [
    "Sky_df = pd.read_csv('Skyserver_SQL2_27_2018.csv')\n",
    "Sky_dfcopy = Sky_df.copy(True)"
   ]
  },
  {
   "cell_type": "markdown",
   "metadata": {},
   "source": [
    "**Description of the data fields**\n",
    "\n",
    "* objid = Object Identifier, self explanatory.\n",
    "* ra = J2000 Right Ascension (r-band). Angular that is measured eastward along the celestial equator from the Sun at the March equinox to the hour circle of the point above the earth in question.   https://en.wikipedia.org/wiki/Right_ascension\n",
    "* dec = J2000 Declination (r-band). Angle that is measured north or south of the celestial equator, along the hour circle passing through the point in question. https://en.wikipedia.org/wiki/Declination\n",
    "\n",
    "\n",
    "\n",
    "The Gunn astronomic magnitude system. u, g, r, i, z represent the response of the 5 bands of the telescope.\n",
    "\n",
    "Further Information: http://astroweb.case.edu/ssm/ASTR620/mags.html \n",
    "* u = better of DeV/Exp magnitude fit\n",
    "* g = better of DeV/Exp magnitude fit\n",
    "* r = better of DeV/Exp magnitude fit\n",
    "* i = better of DeV/Exp magnitude fit\n",
    "* z = better of DeV/Exp magnitude fit\n",
    "\n",
    "\n",
    "\n",
    "\n",
    "Run, rerun, camcol and field are features which describe a field within an image taken by the SDSS. A field is basically a part of the entire image corresponding to 2048 by 1489 pixels. \n",
    "* run = Run Number, which identifies the specific scan. \n",
    "* rereun = Rerun Number, which specifies how the image was processed.\n",
    "* camcol = Camera column, a number from 1 to 6, identifying the scanline within the run.\n",
    "* field = Field number, which typically starts at 11 (after an initial rampup time), and can be as large as 800 for particularly long runs.\n",
    "* specobjid = Object Identifier\n",
    "* class = object class (galaxy, star or quasar object): The class identifies an object to be either a galaxy, star or quasar. This will be the response variable which we will be trying to predict.\n",
    "\n",
    "* redshift = Final Redshift: In physics, **redshift** happens when light or other electromagnetic radiation from an object is increased in wavelength, or shifted to the red end of the spectrum. \n",
    "\n",
    "* plate = plate number: Each spectroscopic exposure employs a large, thin, circular metal **plate** that positions optical fibers via holes drilled at the locations of the images in the telescope focal plane. These fibers then feed into the spectrographs. Each plate has a unique serial number, which is called plate in views such as SpecObj in the CAS.\n",
    "\n",
    "* mjd = MJD of observation, **Modified Julian Date**, used to indicate the date that a given piece of SDSS data (image or spectrum) was taken.\n",
    "* fiberid = fiber ID. The SDSS spectrograph uses optical fibers to direct the light at the focal plane from individual objects to the slithead. Each object is assigned a corresponding **fiberID**. \n",
    "\n",
    "**Further information on SDSS images and their attributes:** \n",
    "\n",
    "http://www.sdss3.org/dr9/imaging/imaging_basics.php\n",
    "\n",
    "http://www.sdss3.org/dr8/glossary.php"
   ]
  },
  {
   "cell_type": "markdown",
   "metadata": {
    "_cell_guid": "ca3f2be5-d15c-47ef-bc29-9a254ce2199d",
    "_uuid": "776947da30d7e7e2b88bd87dca65eaa8b04b158c"
   },
   "source": [
    "### 1.2 Data Cleaning \n",
    "\n",
    "Basic stats about our dataset. \n",
    "\n",
    "**Task: Provide basic infor for the pandas dataframe head (0.5 point)**"
   ]
  },
  {
   "cell_type": "code",
   "execution_count": 3,
   "metadata": {
    "_cell_guid": "26b460b4-d472-440b-b690-d8c12f267944",
    "_uuid": "149d00bab55383b7014daf916df81410717b643a",
    "scrolled": true
   },
   "outputs": [
    {
     "data": {
      "text/html": [
       "<div>\n",
       "<style scoped>\n",
       "    .dataframe tbody tr th:only-of-type {\n",
       "        vertical-align: middle;\n",
       "    }\n",
       "\n",
       "    .dataframe tbody tr th {\n",
       "        vertical-align: top;\n",
       "    }\n",
       "\n",
       "    .dataframe thead th {\n",
       "        text-align: right;\n",
       "    }\n",
       "</style>\n",
       "<table border=\"1\" class=\"dataframe\">\n",
       "  <thead>\n",
       "    <tr style=\"text-align: right;\">\n",
       "      <th></th>\n",
       "      <th>objid</th>\n",
       "      <th>ra</th>\n",
       "      <th>dec</th>\n",
       "      <th>u</th>\n",
       "      <th>g</th>\n",
       "      <th>r</th>\n",
       "      <th>i</th>\n",
       "      <th>z</th>\n",
       "      <th>run</th>\n",
       "      <th>rerun</th>\n",
       "      <th>camcol</th>\n",
       "      <th>field</th>\n",
       "      <th>specobjid</th>\n",
       "      <th>class</th>\n",
       "      <th>redshift</th>\n",
       "      <th>plate</th>\n",
       "      <th>mjd</th>\n",
       "      <th>fiberid</th>\n",
       "    </tr>\n",
       "  </thead>\n",
       "  <tbody>\n",
       "    <tr>\n",
       "      <th>0</th>\n",
       "      <td>1.237650e+18</td>\n",
       "      <td>183.531326</td>\n",
       "      <td>0.089693</td>\n",
       "      <td>19.47406</td>\n",
       "      <td>17.04240</td>\n",
       "      <td>15.94699</td>\n",
       "      <td>15.50342</td>\n",
       "      <td>15.22531</td>\n",
       "      <td>752</td>\n",
       "      <td>301</td>\n",
       "      <td>4</td>\n",
       "      <td>267</td>\n",
       "      <td>3.722360e+18</td>\n",
       "      <td>STAR</td>\n",
       "      <td>-0.000009</td>\n",
       "      <td>3306</td>\n",
       "      <td>54922</td>\n",
       "      <td>491</td>\n",
       "    </tr>\n",
       "    <tr>\n",
       "      <th>1</th>\n",
       "      <td>1.237650e+18</td>\n",
       "      <td>183.598370</td>\n",
       "      <td>0.135285</td>\n",
       "      <td>18.66280</td>\n",
       "      <td>17.21449</td>\n",
       "      <td>16.67637</td>\n",
       "      <td>16.48922</td>\n",
       "      <td>16.39150</td>\n",
       "      <td>752</td>\n",
       "      <td>301</td>\n",
       "      <td>4</td>\n",
       "      <td>267</td>\n",
       "      <td>3.638140e+17</td>\n",
       "      <td>STAR</td>\n",
       "      <td>-0.000055</td>\n",
       "      <td>323</td>\n",
       "      <td>51615</td>\n",
       "      <td>541</td>\n",
       "    </tr>\n",
       "    <tr>\n",
       "      <th>2</th>\n",
       "      <td>1.237650e+18</td>\n",
       "      <td>183.680207</td>\n",
       "      <td>0.126185</td>\n",
       "      <td>19.38298</td>\n",
       "      <td>18.19169</td>\n",
       "      <td>17.47428</td>\n",
       "      <td>17.08732</td>\n",
       "      <td>16.80125</td>\n",
       "      <td>752</td>\n",
       "      <td>301</td>\n",
       "      <td>4</td>\n",
       "      <td>268</td>\n",
       "      <td>3.232740e+17</td>\n",
       "      <td>GALAXY</td>\n",
       "      <td>0.123111</td>\n",
       "      <td>287</td>\n",
       "      <td>52023</td>\n",
       "      <td>513</td>\n",
       "    </tr>\n",
       "    <tr>\n",
       "      <th>3</th>\n",
       "      <td>1.237650e+18</td>\n",
       "      <td>183.870529</td>\n",
       "      <td>0.049911</td>\n",
       "      <td>17.76536</td>\n",
       "      <td>16.60272</td>\n",
       "      <td>16.16116</td>\n",
       "      <td>15.98233</td>\n",
       "      <td>15.90438</td>\n",
       "      <td>752</td>\n",
       "      <td>301</td>\n",
       "      <td>4</td>\n",
       "      <td>269</td>\n",
       "      <td>3.722370e+18</td>\n",
       "      <td>STAR</td>\n",
       "      <td>-0.000111</td>\n",
       "      <td>3306</td>\n",
       "      <td>54922</td>\n",
       "      <td>510</td>\n",
       "    </tr>\n",
       "    <tr>\n",
       "      <th>4</th>\n",
       "      <td>1.237650e+18</td>\n",
       "      <td>183.883288</td>\n",
       "      <td>0.102557</td>\n",
       "      <td>17.55025</td>\n",
       "      <td>16.26342</td>\n",
       "      <td>16.43869</td>\n",
       "      <td>16.55492</td>\n",
       "      <td>16.61326</td>\n",
       "      <td>752</td>\n",
       "      <td>301</td>\n",
       "      <td>4</td>\n",
       "      <td>269</td>\n",
       "      <td>3.722370e+18</td>\n",
       "      <td>STAR</td>\n",
       "      <td>0.000590</td>\n",
       "      <td>3306</td>\n",
       "      <td>54922</td>\n",
       "      <td>512</td>\n",
       "    </tr>\n",
       "  </tbody>\n",
       "</table>\n",
       "</div>"
      ],
      "text/plain": [
       "          objid          ra       dec         u         g         r         i  \\\n",
       "0  1.237650e+18  183.531326  0.089693  19.47406  17.04240  15.94699  15.50342   \n",
       "1  1.237650e+18  183.598370  0.135285  18.66280  17.21449  16.67637  16.48922   \n",
       "2  1.237650e+18  183.680207  0.126185  19.38298  18.19169  17.47428  17.08732   \n",
       "3  1.237650e+18  183.870529  0.049911  17.76536  16.60272  16.16116  15.98233   \n",
       "4  1.237650e+18  183.883288  0.102557  17.55025  16.26342  16.43869  16.55492   \n",
       "\n",
       "          z  run  rerun  camcol  field     specobjid   class  redshift  plate  \\\n",
       "0  15.22531  752    301       4    267  3.722360e+18    STAR -0.000009   3306   \n",
       "1  16.39150  752    301       4    267  3.638140e+17    STAR -0.000055    323   \n",
       "2  16.80125  752    301       4    268  3.232740e+17  GALAXY  0.123111    287   \n",
       "3  15.90438  752    301       4    269  3.722370e+18    STAR -0.000111   3306   \n",
       "4  16.61326  752    301       4    269  3.722370e+18    STAR  0.000590   3306   \n",
       "\n",
       "     mjd  fiberid  \n",
       "0  54922      491  \n",
       "1  51615      541  \n",
       "2  52023      513  \n",
       "3  54922      510  \n",
       "4  54922      512  "
      ]
     },
     "execution_count": 3,
     "metadata": {},
     "output_type": "execute_result"
    }
   ],
   "source": [
    "Sky_df.head()"
   ]
  },
  {
   "cell_type": "markdown",
   "metadata": {
    "_cell_guid": "811c152a-331b-4b69-a7d3-ab52934ef15c",
    "_uuid": "7b054433b30b6ea6b1f9024ef323270d86874e76"
   },
   "source": [
    "**Task: Find the data types of the database (floats, string, etc etc) using the ``info()`` function (0.5 point).**"
   ]
  },
  {
   "cell_type": "code",
   "execution_count": 4,
   "metadata": {
    "_cell_guid": "bd29718c-d53e-4b52-a9ee-b8a9a252d864",
    "_uuid": "926e1713524a5fcac0353e1d7c03d1f74042f348"
   },
   "outputs": [
    {
     "name": "stdout",
     "output_type": "stream",
     "text": [
      "<class 'pandas.core.frame.DataFrame'>\n",
      "RangeIndex: 10000 entries, 0 to 9999\n",
      "Data columns (total 18 columns):\n",
      " #   Column     Non-Null Count  Dtype  \n",
      "---  ------     --------------  -----  \n",
      " 0   objid      10000 non-null  float64\n",
      " 1   ra         10000 non-null  float64\n",
      " 2   dec        10000 non-null  float64\n",
      " 3   u          10000 non-null  float64\n",
      " 4   g          10000 non-null  float64\n",
      " 5   r          10000 non-null  float64\n",
      " 6   i          10000 non-null  float64\n",
      " 7   z          10000 non-null  float64\n",
      " 8   run        10000 non-null  int64  \n",
      " 9   rerun      10000 non-null  int64  \n",
      " 10  camcol     10000 non-null  int64  \n",
      " 11  field      10000 non-null  int64  \n",
      " 12  specobjid  10000 non-null  float64\n",
      " 13  class      10000 non-null  object \n",
      " 14  redshift   10000 non-null  float64\n",
      " 15  plate      10000 non-null  int64  \n",
      " 16  mjd        10000 non-null  int64  \n",
      " 17  fiberid    10000 non-null  int64  \n",
      "dtypes: float64(10), int64(7), object(1)\n",
      "memory usage: 1.4+ MB\n"
     ]
    }
   ],
   "source": [
    "Sky_df.info()"
   ]
  },
  {
   "cell_type": "markdown",
   "metadata": {
    "_cell_guid": "f890c211-edfb-45d5-be7d-545eb358220b",
    "_uuid": "529e41f022c84c223fc508224b63b527677a61fc"
   },
   "source": [
    "Are there any obvious feature (or element of the dataframe) that should not impact our prediction?\n",
    " \n",
    "**objid** and **specobjid** are just identifiers for accessing the rows back when they were stored in the original databank. Therefore we will not need them for classification as they are not related to the outcome.\n",
    "The features **run**, **rerun**, **camcol** and **field** are values which describe parts of the camera at the moment when making the observation, e.g. 'run' represents the corresponding scan which captured the oject.\n",
    "\n",
    "Source: http://www.sdss3.org/dr9/imaging/imaging_basics.php\n",
    "\n",
    "**Task: Drop these columns in the pandas dataframe. (1 point)**"
   ]
  },
  {
   "cell_type": "code",
   "execution_count": 5,
   "metadata": {
    "_cell_guid": "d1246406-e5f7-4cb7-8365-50c8e44e19d9",
    "_uuid": "4d9519ab0d8b9f843219ce89531c3fc13dafc5be"
   },
   "outputs": [],
   "source": [
    "Sky_df = Sky_df.drop(columns = [\"objid\", \"specobjid\", 'run', 'rerun', 'camcol', 'field', 'plate', 'mjd', 'fiberid'])"
   ]
  },
  {
   "cell_type": "markdown",
   "metadata": {
    "_cell_guid": "75a847f1-0dfc-4228-9cbc-49d6034463e5",
    "_uuid": "9b01bc847e158cfa00d411ea687cb573a0037aef"
   },
   "source": [
    "Find our how many examples there are, how many attributes or feature, and the type of class."
   ]
  },
  {
   "cell_type": "code",
   "execution_count": 6,
   "metadata": {
    "_cell_guid": "6723c745-8446-46f0-a866-8c22668607d3",
    "_uuid": "77495f8526975b41e2ba43063b82d807e8ba1109",
    "scrolled": true
   },
   "outputs": [
    {
     "name": "stdout",
     "output_type": "stream",
     "text": [
      "ra          10000\n",
      "dec         10000\n",
      "u           10000\n",
      "g           10000\n",
      "r           10000\n",
      "i           10000\n",
      "z           10000\n",
      "class       10000\n",
      "redshift    10000\n",
      "dtype: int64\n",
      "Number of attributes: 9\n",
      "Type of classes ['STAR' 'GALAXY' 'QSO']\n"
     ]
    }
   ],
   "source": [
    "print(Sky_df.count())\n",
    "print(\"Number of attributes: \" + str(len(Sky_df.columns)))\n",
    "print(\"Type of classes \" + str(Sky_df['class'].unique()))"
   ]
  },
  {
   "cell_type": "markdown",
   "metadata": {
    "_cell_guid": "47229348-1a06-4346-949b-1b2b135a20e9",
    "_uuid": "d03d6a82a73b4889fc9bfee64e0773acd9b09302"
   },
   "source": [
    "**Task: How many objects are in each class? (1 point)**"
   ]
  },
  {
   "cell_type": "code",
   "execution_count": 7,
   "metadata": {
    "_cell_guid": "980baf01-358b-4f40-b1cd-886a8463befe",
    "_uuid": "75724e4e2a11a567b6155503ce0671ae3f5e2e7d",
    "scrolled": true
   },
   "outputs": [
    {
     "data": {
      "text/plain": [
       "GALAXY    4998\n",
       "STAR      4152\n",
       "QSO        850\n",
       "Name: class, dtype: int64"
      ]
     },
     "execution_count": 7,
     "metadata": {},
     "output_type": "execute_result"
    }
   ],
   "source": [
    "# Count the elements in each class\n",
    "Sky_df['class'].value_counts()"
   ]
  },
  {
   "cell_type": "markdown",
   "metadata": {},
   "source": [
    "The classes are \"GALAXY\", \"STAR\", and \"QSO\" (quasars). They are defined as strings, but we will convert them to integer in order to apply a loss function on the class labels during training. For this, we use the ``sklearn.preprocessing.LabelEncoder()`` function. We will do so and modify the classes in the dataframe. We should keep a copy of the original data frame to be safe."
   ]
  },
  {
   "cell_type": "code",
   "execution_count": 8,
   "metadata": {},
   "outputs": [
    {
     "data": {
      "text/html": [
       "<div>\n",
       "<style scoped>\n",
       "    .dataframe tbody tr th:only-of-type {\n",
       "        vertical-align: middle;\n",
       "    }\n",
       "\n",
       "    .dataframe tbody tr th {\n",
       "        vertical-align: top;\n",
       "    }\n",
       "\n",
       "    .dataframe thead th {\n",
       "        text-align: right;\n",
       "    }\n",
       "</style>\n",
       "<table border=\"1\" class=\"dataframe\">\n",
       "  <thead>\n",
       "    <tr style=\"text-align: right;\">\n",
       "      <th></th>\n",
       "      <th>ra</th>\n",
       "      <th>dec</th>\n",
       "      <th>u</th>\n",
       "      <th>g</th>\n",
       "      <th>r</th>\n",
       "      <th>i</th>\n",
       "      <th>z</th>\n",
       "      <th>class</th>\n",
       "      <th>redshift</th>\n",
       "    </tr>\n",
       "  </thead>\n",
       "  <tbody>\n",
       "    <tr>\n",
       "      <th>0</th>\n",
       "      <td>183.531326</td>\n",
       "      <td>0.089693</td>\n",
       "      <td>19.47406</td>\n",
       "      <td>17.04240</td>\n",
       "      <td>15.94699</td>\n",
       "      <td>15.50342</td>\n",
       "      <td>15.22531</td>\n",
       "      <td>2</td>\n",
       "      <td>-0.000009</td>\n",
       "    </tr>\n",
       "    <tr>\n",
       "      <th>1</th>\n",
       "      <td>183.598370</td>\n",
       "      <td>0.135285</td>\n",
       "      <td>18.66280</td>\n",
       "      <td>17.21449</td>\n",
       "      <td>16.67637</td>\n",
       "      <td>16.48922</td>\n",
       "      <td>16.39150</td>\n",
       "      <td>2</td>\n",
       "      <td>-0.000055</td>\n",
       "    </tr>\n",
       "    <tr>\n",
       "      <th>2</th>\n",
       "      <td>183.680207</td>\n",
       "      <td>0.126185</td>\n",
       "      <td>19.38298</td>\n",
       "      <td>18.19169</td>\n",
       "      <td>17.47428</td>\n",
       "      <td>17.08732</td>\n",
       "      <td>16.80125</td>\n",
       "      <td>0</td>\n",
       "      <td>0.123111</td>\n",
       "    </tr>\n",
       "    <tr>\n",
       "      <th>3</th>\n",
       "      <td>183.870529</td>\n",
       "      <td>0.049911</td>\n",
       "      <td>17.76536</td>\n",
       "      <td>16.60272</td>\n",
       "      <td>16.16116</td>\n",
       "      <td>15.98233</td>\n",
       "      <td>15.90438</td>\n",
       "      <td>2</td>\n",
       "      <td>-0.000111</td>\n",
       "    </tr>\n",
       "    <tr>\n",
       "      <th>4</th>\n",
       "      <td>183.883288</td>\n",
       "      <td>0.102557</td>\n",
       "      <td>17.55025</td>\n",
       "      <td>16.26342</td>\n",
       "      <td>16.43869</td>\n",
       "      <td>16.55492</td>\n",
       "      <td>16.61326</td>\n",
       "      <td>2</td>\n",
       "      <td>0.000590</td>\n",
       "    </tr>\n",
       "  </tbody>\n",
       "</table>\n",
       "</div>"
      ],
      "text/plain": [
       "           ra       dec         u         g         r         i         z  \\\n",
       "0  183.531326  0.089693  19.47406  17.04240  15.94699  15.50342  15.22531   \n",
       "1  183.598370  0.135285  18.66280  17.21449  16.67637  16.48922  16.39150   \n",
       "2  183.680207  0.126185  19.38298  18.19169  17.47428  17.08732  16.80125   \n",
       "3  183.870529  0.049911  17.76536  16.60272  16.16116  15.98233  15.90438   \n",
       "4  183.883288  0.102557  17.55025  16.26342  16.43869  16.55492  16.61326   \n",
       "\n",
       "   class  redshift  \n",
       "0      2 -0.000009  \n",
       "1      2 -0.000055  \n",
       "2      0  0.123111  \n",
       "3      2 -0.000111  \n",
       "4      2  0.000590  "
      ]
     },
     "execution_count": 8,
     "metadata": {},
     "output_type": "execute_result"
    }
   ],
   "source": [
    "Sky_df_save = Sky_df.copy(True)  # make a copy of the original data before cleaning it. That works well when the data is small.\n",
    "\n",
    "# encode class labels to integers\n",
    "from sklearn.preprocessing import LabelEncoder\n",
    "le = LabelEncoder()\n",
    "y_encoded = le.fit_transform(Sky_df['class'])\n",
    "Sky_df['class'] = y_encoded\n",
    "#  GALAXY = 0\n",
    "# STAR = 2\n",
    "# QSO = 1\n",
    "Sky_df.head()"
   ]
  },
  {
   "cell_type": "markdown",
   "metadata": {},
   "source": [
    "### 1.3 Data correlations\n",
    "Now let's find the most basic correlations among features. This can be done using the ``corr()`` function to apply on the pandas dataframe. Evaluate this function and comment on what feature is correlated among others. It is convenient to use the matplotlib function ``matshow()`` for clarity. ``seaborn`` is a python module that makes really pretty statistical plots https://seaborn.pydata.org/index.html#. Install it with ``pip`` and import it."
   ]
  },
  {
   "cell_type": "code",
   "execution_count": 9,
   "metadata": {},
   "outputs": [
    {
     "name": "stdout",
     "output_type": "stream",
     "text": [
      "Collecting seaborn\n",
      "  Using cached seaborn-0.11.1-py3-none-any.whl (285 kB)\n",
      "Requirement already satisfied: matplotlib>=2.2 in /srv/conda/envs/notebook/lib/python3.9/site-packages (from seaborn) (3.4.1)\n",
      "Requirement already satisfied: pandas>=0.23 in /srv/conda/envs/notebook/lib/python3.9/site-packages (from seaborn) (1.2.4)\n",
      "Requirement already satisfied: scipy>=1.0 in /srv/conda/envs/notebook/lib/python3.9/site-packages (from seaborn) (1.6.2)\n",
      "Requirement already satisfied: numpy>=1.15 in /srv/conda/envs/notebook/lib/python3.9/site-packages (from seaborn) (1.20.2)\n",
      "Requirement already satisfied: python-dateutil>=2.7 in /srv/conda/envs/notebook/lib/python3.9/site-packages (from matplotlib>=2.2->seaborn) (2.8.1)\n",
      "Requirement already satisfied: pillow>=6.2.0 in /srv/conda/envs/notebook/lib/python3.9/site-packages (from matplotlib>=2.2->seaborn) (8.2.0)\n",
      "Requirement already satisfied: pyparsing>=2.2.1 in /srv/conda/envs/notebook/lib/python3.9/site-packages (from matplotlib>=2.2->seaborn) (2.4.7)\n",
      "Requirement already satisfied: kiwisolver>=1.0.1 in /srv/conda/envs/notebook/lib/python3.9/site-packages (from matplotlib>=2.2->seaborn) (1.3.1)\n",
      "Requirement already satisfied: cycler>=0.10 in /srv/conda/envs/notebook/lib/python3.9/site-packages (from matplotlib>=2.2->seaborn) (0.10.0)\n",
      "Requirement already satisfied: six in /srv/conda/envs/notebook/lib/python3.9/site-packages (from cycler>=0.10->matplotlib>=2.2->seaborn) (1.15.0)\n",
      "Requirement already satisfied: pytz>=2017.3 in /srv/conda/envs/notebook/lib/python3.9/site-packages (from pandas>=0.23->seaborn) (2021.1)\n",
      "Installing collected packages: seaborn\n",
      "Successfully installed seaborn-0.11.1\n"
     ]
    }
   ],
   "source": [
    "!pip install seaborn\n",
    "import seaborn as sns"
   ]
  },
  {
   "cell_type": "markdown",
   "metadata": {},
   "source": [
    "**Task: Plot the correlation matrix that can be called in the pandas dataframe. (2 points)**\n",
    "\n",
    "Hints:\n",
    "\n",
    "Use functions of ``heatmap``, add the labels in the axes. The colormap ``coolwarm`` is nice for divergent scales like correlations that vary between -1 and 1. The argument ``center=0`` ensures that the colormap is divergent from zero. Make sure to ignore the label column \"class\". Remember that dropping a column can be done in place ``sdss_df.drop('class', axis=1)``."
   ]
  },
  {
   "cell_type": "code",
   "execution_count": 10,
   "metadata": {},
   "outputs": [
    {
     "data": {
      "text/plain": [
       "<AxesSubplot:>"
      ]
     },
     "execution_count": 10,
     "metadata": {},
     "output_type": "execute_result"
    },
    {
     "data": {
      "image/png": "[encoded data removed]",
      "text/plain": [
       "<Figure size 432x288 with 2 Axes>"
      ]
     },
     "metadata": {
      "needs_background": "light"
     },
     "output_type": "display_data"
    }
   ],
   "source": [
    "# answer\n",
    "corr_matrix = Sky_df.drop('class', axis = 1).corr()\n",
    "sns.heatmap(corr_matrix, cmap = 'coolwarm', center = 0 )"
   ]
  },
  {
   "cell_type": "markdown",
   "metadata": {},
   "source": [
    "**Task: Reproduce the same plot for each of the three classes. (1 point)**\n",
    "You can select the values from the pandas dataframe by selecting over the column 'class'. "
   ]
  },
  {
   "cell_type": "code",
   "execution_count": 11,
   "metadata": {},
   "outputs": [
    {
     "data": {
      "text/plain": [
       "Text(0.5, 1.0, 'Quasars')"
      ]
     },
     "execution_count": 11,
     "metadata": {},
     "output_type": "execute_result"
    },
    {
     "data": {
      "image/png": "[encoded data removed]",
      "text/plain": [
       "<Figure size 1080x360 with 6 Axes>"
      ]
     },
     "metadata": {
      "needs_background": "light"
     },
     "output_type": "display_data"
    }
   ],
   "source": [
    "# make the same plot for Galaxies\n",
    "# \"GALAXY\" is label 0\n",
    "galaxy_corr = Sky_df[Sky_df['class'] == 0].drop('class', axis = 1).corr()\n",
    "#sns.heatmap(galaxy_corr, cmap = 'coolwarm', center = 0)\n",
    "\n",
    "# Make the same plot for Stars (label 2)\n",
    "star_corr = Sky_df[Sky_df['class'] == 2].drop('class', axis = 1).corr()\n",
    "#sns.heatmap(star_corr, cmap = 'coolwarm', center = 0)\n",
    "\n",
    "# make the same plots for quasars (label 1)\n",
    "qso_corr = Sky_df[Sky_df['class'] == 1].drop('class', axis = 1).corr()\n",
    "#sns.heatmap(qso_corr, cmap = 'coolwarm', center = 0)\n",
    "\n",
    "fig, axes = plt.subplots(1,3, figsize = (15,5))\n",
    "sns.heatmap(galaxy_corr, cmap = 'coolwarm', center = 0, ax = axes[0])\n",
    "axes[0].set_title(\"Galaxy\")\n",
    "sns.heatmap(star_corr, cmap = 'coolwarm', center = 0, ax = axes[1])\n",
    "axes[1].set_title(\"Stars\")\n",
    "sns.heatmap(qso_corr, cmap = 'coolwarm', center = 0, ax = axes[2])\n",
    "axes[2].set_title(\"Quasars\")"
   ]
  },
  {
   "cell_type": "markdown",
   "metadata": {},
   "source": [
    "**Task: Can you comment on groups of observations that can be grouped together or that appear independent from each other given these correlations, and if there is any difference between the three celestial objects? (**1 point**)**"
   ]
  },
  {
   "cell_type": "markdown",
   "metadata": {},
   "source": [
    "There appears to be correlations between u, g, r, i, and z in all of the celestial classes. There is slightly more correlation bwtween those attributes and redshift in Galaxy and Quasars than Stars. And the ra, and dec attrributes appear independent."
   ]
  },
  {
   "cell_type": "markdown",
   "metadata": {
    "_cell_guid": "6b86afe2-f926-416a-afd9-8b36edf9bbdd",
    "_uuid": "bc4bc3db7af9a1e46c21c5fda26e023137e0e239"
   },
   "source": [
    "### 1.5 Data exploration\n",
    "Given the structure of the correlations, we will explore the values of the data.\n",
    "\n",
    "#### 1.5.a. Distributions of redshift\n",
    "\"redshifting\" happens when the source of light is becoming more distant to the receiver: the object is moving away from Earth. \n",
    "\n",
    "**Task: plot histograms for the 'redshift' feature column for each class (1 point).**"
   ]
  },
  {
   "cell_type": "code",
   "execution_count": 12,
   "metadata": {
    "_cell_guid": "f7e55b21-caa1-4b91-8f5a-c465d56cc146",
    "_uuid": "5a6a061a52d8e4bb3286be05e8b31c0c656f3dfd",
    "scrolled": true
   },
   "outputs": [
    {
     "data": {
      "text/plain": [
       "Text(0.5, 1.0, 'Quasars')"
      ]
     },
     "execution_count": 12,
     "metadata": {},
     "output_type": "execute_result"
    },
    {
     "data": {
      "image/png": "[encoded data removed]",
      "text/plain": [
       "<Figure size 1152x288 with 3 Axes>"
      ]
     },
     "metadata": {
      "needs_background": "light"
     },
     "output_type": "display_data"
    }
   ],
   "source": [
    "# answer\n",
    "galaxy = Sky_df[Sky_df['class'] == 0]\n",
    "star = Sky_df[Sky_df['class'] == 2]\n",
    "qso = Sky_df[Sky_df['class'] == 1]\n",
    "\n",
    "fig, axes = plt.subplots(nrows=1, ncols=3,figsize=(16, 4))\n",
    "sns.histplot(galaxy['redshift'], bins = 30, ax = axes[0])\n",
    "axes[0].set_title(\"Galaxy\")\n",
    "sns.histplot(star['redshift'], bins = 30, ax = axes[1])\n",
    "axes[1].set_title(\"Star\")\n",
    "sns.histplot(qso['redshift'], bins = 30, ax = axes[2])\n",
    "axes[2].set_title(\"Quasars\")"
   ]
  },
  {
   "cell_type": "markdown",
   "metadata": {
    "_cell_guid": "a44d0c69-fb05-4b09-99c3-d92dc1ec0b9a",
    "_uuid": "f389689f8d958bdd4e281089036af6d26c1c4d10"
   },
   "source": [
    "**Task : Describe briefly the difference between the three histograms. (0.5 point)**"
   ]
  },
  {
   "cell_type": "markdown",
   "metadata": {},
   "source": [
    "<!-- # answer -->\n",
    "* **Star:** The histogram looks like a truncated zero-centered normal distribution. It looks like stars are both coming toward and away from the Earth.\n",
    "\n",
    "* **Galaxy:** The redshift values may come from a slightly right-shifted normal distribution which is centered around 0.075. It looks like galaxies are moving away from the Earth but at slow speeds.\n",
    "\n",
    "* **QSO:** The redshift values for QSOs are a lot more uniformly distributed than for Stars or Galaxies. They are roughly evenly distributed from 0 to 3, than the occurences decrease drastically. For 4 oder ~5.5 there are some outliers. This probably means that quasards are moving away from the earth with a diverse range of speeds.\n"
   ]
  },
  {
   "cell_type": "markdown",
   "metadata": {
    "_cell_guid": "0cbe1c99-0148-4406-a11d-17d1efa44025",
    "_uuid": "7b2155d1a1261d2065a92008cb2a33d425f7b3dd"
   },
   "source": [
    "#### 1.5.b. Right ascension (ra) and declination (dec) "
   ]
  },
  {
   "cell_type": "markdown",
   "metadata": {
    "_cell_guid": "e4dac296-e9a1-4a63-83fc-46c3ca2265a2",
    "_uuid": "4e248ae503d23d0dd3f2473108007ad7b899b47a"
   },
   "source": [
    "We will now plot the right ascension versus the declination depending on the class. You can use the ``lmplot`` function in ``seaborn`` (https://seaborn.pydata.org/generated/seaborn.lmplot.html) to represent the sky view of these objects."
   ]
  },
  {
   "cell_type": "code",
   "execution_count": 13,
   "metadata": {
    "_cell_guid": "66068c6e-e97b-4e00-8baf-85d67ee6b155",
    "_uuid": "6e0aa853466d5c45afec6ac1efd4f9db2a013642"
   },
   "outputs": [
    {
     "name": "stderr",
     "output_type": "stream",
     "text": [
      "/srv/conda/envs/notebook/lib/python3.9/site-packages/seaborn/regression.py:580: UserWarning: The `size` parameter has been renamed to `height`; please update your code.\n",
      "  warnings.warn(msg, UserWarning)\n"
     ]
    },
    {
     "data": {
      "text/plain": [
       "Text(0.5, 1.0, 'Equatorial coordinates')"
      ]
     },
     "execution_count": 13,
     "metadata": {},
     "output_type": "execute_result"
    },
    {
     "data": {
      "image/png": "[encoded data removed]",
      "text/plain": [
       "<Figure size 864x432 with 1 Axes>"
      ]
     },
     "metadata": {
      "needs_background": "light"
     },
     "output_type": "display_data"
    }
   ],
   "source": [
    "sns.lmplot(x='ra', y='dec', data=Sky_df, hue='class', fit_reg=False, palette='coolwarm', size=6, aspect=2,legend=False)\n",
    "plt.legend(title='Class', loc='upper left', labels=['Galaxy', 'Star','Quasar'])\n",
    "plt.grid(True)\n",
    "plt.title('Equatorial coordinates')"
   ]
  },
  {
   "cell_type": "markdown",
   "metadata": {},
   "source": [
    "**Task: do you see any obvious differences such that one could easily discriminate between the two coordinates? (0.5 point)**"
   ]
  },
  {
   "cell_type": "markdown",
   "metadata": {},
   "source": [
    "There does not appear to be any obvious differences bewteen the classes and the coordinates"
   ]
  },
  {
   "cell_type": "markdown",
   "metadata": {
    "_cell_guid": "f3174f32-1e96-47d5-ab74-2a14f1e7b1f7",
    "_uuid": "32ac7f6965966d8f25013c5a2e1d2817d9e78cf3"
   },
   "source": [
    "#### 1.5.c Filters - u,g,r,i,z "
   ]
  },
  {
   "cell_type": "markdown",
   "metadata": {
    "_cell_guid": "27c33528-10f3-400f-a59a-b0c28416e00a",
    "_uuid": "4761d9058cb828d6e016fe43693019981ce22596"
   },
   "source": [
    "Recall: u, g, r, i, z represent the different wavelengths which are used to capture the observations. According to the correlation matrix, they are correlated for all three classes.\n",
    "\n",
    "Therefore it is interesting to see that band 'u' is less correlated to the other bands. \n",
    "\n",
    "**Task Plot histograms and discuss why you expect these features to be correlated (1 points)**"
   ]
  },
  {
   "cell_type": "code",
   "execution_count": 14,
   "metadata": {},
   "outputs": [
    {
     "data": {
      "text/plain": [
       "<AxesSubplot:xlabel='z', ylabel='Count'>"
      ]
     },
     "execution_count": 14,
     "metadata": {},
     "output_type": "execute_result"
    },
    {
     "data": {
      "image/png": "[encoded data removed]",
      "text/plain": [
       "<Figure size 1800x648 with 15 Axes>"
      ]
     },
     "metadata": {
      "needs_background": "light"
     },
     "output_type": "display_data"
    }
   ],
   "source": [
    "# Plot of histograms\n",
    "import warnings\n",
    "warnings.filterwarnings('ignore')\n",
    "\n",
    "galaxy = Sky_df[Sky_df['class'] == 0]\n",
    "star = Sky_df[Sky_df['class'] == 2]\n",
    "qso = Sky_df[Sky_df['class'] == 1]\n",
    "\n",
    "fig, axes = plt.subplots(nrows=3, ncols=5,figsize=(25, 9))\n",
    "axes[0,0].set_title('u', fontsize = 14)\n",
    "axes[0,1].set_title('g', fontsize = 14)\n",
    "axes[0,2].set_title('r', fontsize = 14)\n",
    "axes[0,3].set_title('i', fontsize = 14)\n",
    "axes[0,4].set_title('z', fontsize = 14)\n",
    "\n",
    "axes[0,0].set_ylabel(\"Galaxy\", fontsize = 14)\n",
    "axes[1,0].set_ylabel(\"Star\", fontsize = 14)\n",
    "axes[2,0].set_ylabel(\"Quasars\", fontsize = 14)\n",
    "\n",
    "sns.histplot(galaxy['u'], bins = 30, ax = axes[0,0])\n",
    "sns.histplot(galaxy['g'], bins = 30, ax = axes[0,1])\n",
    "sns.histplot(galaxy['r'], bins = 30, ax = axes[0,2])\n",
    "sns.histplot(galaxy['i'], bins = 30, ax = axes[0,3])\n",
    "sns.histplot(galaxy['z'], bins = 30, ax = axes[0,4])\n",
    "\n",
    "\n",
    "sns.histplot(star['u'], bins = 30, ax = axes[1,0])\n",
    "sns.histplot(star['g'], bins = 30, ax = axes[1,1])\n",
    "sns.histplot(star['r'], bins = 30, ax = axes[1,2])\n",
    "sns.histplot(star['i'], bins = 30, ax = axes[1,3])\n",
    "sns.histplot(star['z'], bins = 30, ax = axes[1,4])\n",
    "\n",
    "sns.histplot(qso['u'], bins = 30, ax = axes[2,0])\n",
    "sns.histplot(qso['g'], bins = 30, ax = axes[2,1])\n",
    "sns.histplot(qso['r'], bins = 30, ax = axes[2,2])\n",
    "sns.histplot(qso['i'], bins = 30, ax = axes[2,3])\n",
    "sns.histplot(qso['z'], bins = 30, ax = axes[2,4])"
   ]
  },
  {
   "cell_type": "markdown",
   "metadata": {},
   "source": [
    "The bands are well correlated, besides 'u', because they somewhat vary in value distribution for each class. "
   ]
  },
  {
   "cell_type": "markdown",
   "metadata": {},
   "source": [
    "<!-- Anwer: -->"
   ]
  },
  {
   "cell_type": "markdown",
   "metadata": {
    "_cell_guid": "aa0a41b4-c96c-4193-8b86-fee485af4361",
    "_uuid": "4e3e3eccee7ba9f0f2bcb5b562bda8b4d3c5a424"
   },
   "source": [
    "### 1.6 Data Dimensionality Reduction\n",
    "At this point, we are left with 8 features: redshift, u, g, r, i, z, ra, and dec. Among these, the filters (u, g, r, i, z) are correlated to each other. There is therefore a potential for reducing the dimensions of the features using PCA on these 5 features.\n",
    "\n",
    "We will use the skilearn function ``sklearn.decomposition.PCA()`` to fit and transform the data into the PC coordinates. Lets' first explore how many PCs we need. Fit the PCA function over the total number of filters. You will fit the PCA function over an array with the columns selected from the dataframe. \n",
    "\n",
    "**Task: Perform the PCA over a max number of PCs, output the explained variance ratio values, decide on an appropriate maximum number of PC to use (6 points)**"
   ]
  },
  {
   "cell_type": "code",
   "execution_count": 15,
   "metadata": {
    "_cell_guid": "fbb45762-272f-40b8-bde6-9d3dd9c1cd55",
    "_uuid": "8a97dca248a7b0473c784af669ea00b59017fa8a"
   },
   "outputs": [
    {
     "name": "stdout",
     "output_type": "stream",
     "text": [
      "[4.93938302 0.47898392 0.02506316 0.02242287 0.00620751]\n"
     ]
    },
    {
     "data": {
      "text/plain": [
       "Text(0, 0.5, 'Explained Variance')"
      ]
     },
     "execution_count": 15,
     "metadata": {},
     "output_type": "execute_result"
    },
    {
     "data": {
      "image/png": "[encoded data removed]",
      "text/plain": [
       "<Figure size 432x288 with 1 Axes>"
      ]
     },
     "metadata": {
      "needs_background": "light"
     },
     "output_type": "display_data"
    }
   ],
   "source": [
    "# answer\n",
    "Sky_df_bands = Sky_df.drop(['class', 'redshift', 'ra','dec'], axis = 1)\n",
    "from sklearn import decomposition\n",
    "\n",
    "PCA = sklearn.decomposition.PCA(n_components = 5)\n",
    "Sky_PCA = PCA.fit(Sky_df_bands)\n",
    "print(Sky_PCA.explained_variance_)\n",
    "plt.plot(np.cumsum(Sky_PCA.explained_variance_ratio_))\n",
    "plt.title(\"Variance Explained with each PC\")\n",
    "plt.xlabel(\"Number of Dimensions\")\n",
    "plt.ylabel(\"Explained Variance\")"
   ]
  },
  {
   "cell_type": "markdown",
   "metadata": {},
   "source": [
    "From the variance plot, more than 95% of the variance is explained by the first PC. There is some increase from 1 to 2, then there is not increase from 3 on.\n",
    "\n",
    "So I will only use 1 PC\n"
   ]
  },
  {
   "cell_type": "markdown",
   "metadata": {},
   "source": [
    "We will now re-perform PCA with the number of PCs you found is most appropriate. Re-apply the fit-transform function. Update the dataframe by adding the PCA value(s) and dropping the columns of the 5 filter features.\n",
    "\n",
    "**Task: PCA again, fit and transform, update the dataframe with the new feature(s) (3 points)**"
   ]
  },
  {
   "cell_type": "code",
   "execution_count": 16,
   "metadata": {},
   "outputs": [
    {
     "name": "stdout",
     "output_type": "stream",
     "text": [
      "[[-7.95821424]\n",
      " [-8.02820603]\n",
      " [-8.11496469]\n",
      " ...\n",
      " [43.8779312 ]\n",
      " [43.95156867]\n",
      " [43.76854137]]\n"
     ]
    },
    {
     "data": {
      "text/html": [
       "<div>\n",
       "<style scoped>\n",
       "    .dataframe tbody tr th:only-of-type {\n",
       "        vertical-align: middle;\n",
       "    }\n",
       "\n",
       "    .dataframe tbody tr th {\n",
       "        vertical-align: top;\n",
       "    }\n",
       "\n",
       "    .dataframe thead th {\n",
       "        text-align: right;\n",
       "    }\n",
       "</style>\n",
       "<table border=\"1\" class=\"dataframe\">\n",
       "  <thead>\n",
       "    <tr style=\"text-align: right;\">\n",
       "      <th></th>\n",
       "      <th>ra</th>\n",
       "      <th>dec</th>\n",
       "      <th>class</th>\n",
       "      <th>redshift</th>\n",
       "      <th>PCA_Values</th>\n",
       "    </tr>\n",
       "  </thead>\n",
       "  <tbody>\n",
       "    <tr>\n",
       "      <th>0</th>\n",
       "      <td>183.531326</td>\n",
       "      <td>0.089693</td>\n",
       "      <td>2</td>\n",
       "      <td>-0.000009</td>\n",
       "      <td>-7.958214</td>\n",
       "    </tr>\n",
       "    <tr>\n",
       "      <th>1</th>\n",
       "      <td>183.598370</td>\n",
       "      <td>0.135285</td>\n",
       "      <td>2</td>\n",
       "      <td>-0.000055</td>\n",
       "      <td>-8.028206</td>\n",
       "    </tr>\n",
       "    <tr>\n",
       "      <th>2</th>\n",
       "      <td>183.680207</td>\n",
       "      <td>0.126185</td>\n",
       "      <td>0</td>\n",
       "      <td>0.123111</td>\n",
       "      <td>-8.114965</td>\n",
       "    </tr>\n",
       "    <tr>\n",
       "      <th>3</th>\n",
       "      <td>183.870529</td>\n",
       "      <td>0.049911</td>\n",
       "      <td>2</td>\n",
       "      <td>-0.000111</td>\n",
       "      <td>-8.297487</td>\n",
       "    </tr>\n",
       "    <tr>\n",
       "      <th>4</th>\n",
       "      <td>183.883288</td>\n",
       "      <td>0.102557</td>\n",
       "      <td>2</td>\n",
       "      <td>0.000590</td>\n",
       "      <td>-8.311663</td>\n",
       "    </tr>\n",
       "  </tbody>\n",
       "</table>\n",
       "</div>"
      ],
      "text/plain": [
       "           ra       dec  class  redshift  PCA_Values\n",
       "0  183.531326  0.089693      2 -0.000009   -7.958214\n",
       "1  183.598370  0.135285      2 -0.000055   -8.028206\n",
       "2  183.680207  0.126185      0  0.123111   -8.114965\n",
       "3  183.870529  0.049911      2 -0.000111   -8.297487\n",
       "4  183.883288  0.102557      2  0.000590   -8.311663"
      ]
     },
     "execution_count": 16,
     "metadata": {},
     "output_type": "execute_result"
    }
   ],
   "source": [
    "# answer\n",
    "new_PCA = sklearn.decomposition.PCA(n_components = 1)\n",
    "Sky_PCA = new_PCA.fit_transform(Sky_df)\n",
    "print(Sky_PCA)\n",
    "Sky_PCA = pd.DataFrame(Sky_PCA, columns = ['PCA_Values'])\n",
    "Sky_df['PCA_Values'] = Sky_PCA \n",
    "Sky_df_PCA = Sky_df.drop(columns = ['u', 'g', 'r', 'i', 'z'])\n",
    "Sky_df_PCA.head()"
   ]
  },
  {
   "cell_type": "code",
   "execution_count": 17,
   "metadata": {},
   "outputs": [],
   "source": [
    "# answer"
   ]
  },
  {
   "cell_type": "markdown",
   "metadata": {
    "_cell_guid": "4e797850-cbb6-44f8-84d8-2649d9dcb461",
    "_uuid": "73423e72a3e388e8d6b8f16672a7b77215359cfe"
   },
   "source": [
    "## 2) Machine Learning Models (26 points)\n",
    "\n",
    "We will now train different models on this dataset. We have a total of 8 features, 3 classes, and 10,000 samples. We will use K-Nearest Neighbors, Naive Bayes, Random Forest, Support Vector Machine, Multi Layer Perceptron.\n",
    "\n",
    "We now follow a normal machine learning workflow:\n",
    "* Feature scaling (2 points)\n",
    "* Train/test set split (2 points)\n",
    "* Model design, training, testing (15 points)\n",
    "* Model comparisons, pick your winner, discuss feature importance using Random Forest. (10 points)"
   ]
  },
  {
   "cell_type": "markdown",
   "metadata": {
    "_cell_guid": "0a8fc626-e05b-483e-bed1-17c5be108903",
    "_uuid": "282a92a1d893a96b40b70b1c6d1fae063ba08ba3"
   },
   "source": [
    "### 2.1 Feature Scaling\n",
    "Scaling all values to be within the (0, 1) interval will reduce the distortion due to exceptionally high values and make some algorithms converge faster. You can scale the features only by dropping the \"class\" column without modifying the dataframe in place, using the pandas function ``drop()``.\n",
    "\n",
    "**Task: Scale just the features (2 points)**"
   ]
  },
  {
   "cell_type": "code",
   "execution_count": 18,
   "metadata": {
    "_cell_guid": "23fc8398-331d-4164-8779-0516264ece29",
    "_uuid": "c147b9e899cc2dd508d736274c856f88fb49321d"
   },
   "outputs": [
    {
     "name": "stdout",
     "output_type": "stream",
     "text": [
      "[[ 0.16745842 -0.58492272 -0.36973112 -0.16655501]\n",
      " [ 0.16886159 -0.58311429 -0.36984929 -0.16801984]\n",
      " [ 0.17057433 -0.58347525 -0.05302706 -0.16983559]\n",
      " ...\n",
      " [-0.92039468  1.46090664 -0.37074104  0.91830766]\n",
      " [-0.92197294  1.46432109 -0.33364691  0.91984879]\n",
      " [-0.91804124  1.46639319 -0.06510125  0.91601827]]\n"
     ]
    }
   ],
   "source": [
    "# answer\n",
    "from sklearn import preprocessing\n",
    "\n",
    "Sky_norm = Sky_df_PCA.drop(columns = ['class'])\n",
    "scaler = preprocessing.StandardScaler().fit(Sky_norm)\n",
    "Sky_norm = scaler.transform(Sky_norm)\n",
    "print(Sky_norm)"
   ]
  },
  {
   "cell_type": "markdown",
   "metadata": {
    "_cell_guid": "13e1fd6f-820c-4098-a486-0079b300e6c9",
    "_uuid": "e76e964a4b93c27e1ab01c24a06be09d8b304970"
   },
   "source": [
    "### 2.2 Test, train, validation data sets.\n",
    "**Task: Split the data into a training and a test part.  (2 points)**\n",
    "\n",
    "The models will be trained on the training data set and tested on the test data set"
   ]
  },
  {
   "cell_type": "code",
   "execution_count": 19,
   "metadata": {
    "_cell_guid": "a94f2305-4f2a-4d11-b368-528820d28b0b",
    "_uuid": "da9a96996b695f8ca2c268f43106e179ba6be1f5"
   },
   "outputs": [],
   "source": [
    "# answer\n",
    "from sklearn.model_selection import train_test_split\n",
    "\n",
    "type_class = Sky_df_PCA['class']    # Create y dataset of the classes, galaxy, star, and quasars\n",
    "\n",
    "X_train, X_test, y_train, y_test = train_test_split(Sky_norm, type_class, test_size = 0.5, shuffle = False)"
   ]
  },
  {
   "cell_type": "markdown",
   "metadata": {},
   "source": [
    "Computation time is important to account for when scaling up the data set and the model size. You can evaluate the relative computational time using the function ``time.perf_counter()`` to evaluate the absolute time. Then compare the computational time by making the difference between two time stamps:\n",
    "\n",
    "``t1=time.perf_counter()``\n",
    "\n",
    "``t2=time.perf_counter()``\n",
    "\n",
    "``tcomp = t2 - t1``\n",
    "\n",
    "We will also assess the model performance of these multi-class classifiers. We will evaluate the average of the scores over the 3 class labels."
   ]
  },
  {
   "cell_type": "code",
   "execution_count": 20,
   "metadata": {},
   "outputs": [],
   "source": [
    "from sklearn.metrics import classification_report, confusion_matrix\n",
    "from sklearn.metrics import precision_recall_fscore_support as score\n",
    "from sklearn.metrics import accuracy_score, plot_confusion_matrix\n",
    "from sklearn.model_selection import cross_val_predict\n",
    "label_name = ['Star','Galaxy','Quasar']"
   ]
  },
  {
   "cell_type": "markdown",
   "metadata": {},
   "source": [
    "In the following, we will be testing over several classifiers. Follow the steps:\n",
    "1. model definition/design\n",
    "2. training\n",
    "3. prediction on test\n",
    "4. evaluation: a) print the classification_report; b) save the precision, recall, fscore and accuracy in variables"
   ]
  },
  {
   "cell_type": "markdown",
   "metadata": {
    "_cell_guid": "d74dbe6b-ebf8-4b61-b568-c2dabc031e5c",
    "_uuid": "3d19792d9ae5a949d2c524fb0c701a4084051816"
   },
   "source": [
    "### 2.3.a K Nearest Neighbors (3 points)\n",
    "Check out the function arguments and definition here: https://scikit-learn.org/stable/modules/generated/sklearn.neighbors.KNeighborsClassifier.html"
   ]
  },
  {
   "cell_type": "code",
   "execution_count": 21,
   "metadata": {
    "_cell_guid": "a16b9525-b3c9-46cf-8714-12707caf2502",
    "_uuid": "817a9fd86ca3d5195046fed7a72750538dee3051"
   },
   "outputs": [
    {
     "name": "stdout",
     "output_type": "stream",
     "text": [
      "Classifying using K-nearest Neighbors\n",
      "[[1230  202 1038]\n",
      " [ 211   39  173]\n",
      " [1021  139  947]]\n",
      "              precision    recall  f1-score   support\n",
      "\n",
      "           0       0.50      0.50      0.50      2470\n",
      "           1       0.10      0.09      0.10       423\n",
      "           2       0.44      0.45      0.44      2107\n",
      "\n",
      "    accuracy                           0.44      5000\n",
      "   macro avg       0.35      0.35      0.35      5000\n",
      "weighted avg       0.44      0.44      0.44      5000\n",
      "\n",
      "(array([0.49959383, 0.10263158, 0.43883225]), array([0.49797571, 0.09219858, 0.4494542 ]), array([0.49878345, 0.09713574, 0.44407972]), array([2470,  423, 2107]))\n",
      "0.4432\n"
     ]
    }
   ],
   "source": [
    "#answer\n",
    "from sklearn.neighbors import KNeighborsClassifier\n",
    "print(\"Classifying using K-nearest Neighbors\")\n",
    "\n",
    "# model design\n",
    "KNC = KNeighborsClassifier(n_neighbors = 5)\n",
    "\n",
    "# training\n",
    "KNC.fit(X_train, y_train)\n",
    "\n",
    "# evaluation on test\n",
    "y_pred = KNC.predict(X_test)\n",
    "\n",
    "# print the classification report\n",
    "print(confusion_matrix(y_train,y_pred))\n",
    "print(classification_report(y_train, y_pred))\n",
    "\n",
    "# save values of precision, recall, fscore, accuracy.\n",
    "KNC_scores = score(y_train,y_pred)\n",
    "KNC_acc = accuracy_score(y_train, y_pred)\n",
    "\n",
    "print(KNC_scores)\n",
    "print(KNC_acc)"
   ]
  },
  {
   "cell_type": "markdown",
   "metadata": {
    "_cell_guid": "cd50994d-fa25-4866-8a61-9d316a763a4a",
    "_uuid": "e901dbdaed422f26f42d9396a3b7a668c876f401"
   },
   "source": [
    "### 2.3.b Naive Bayes (3 points)\n",
    "Check out the sklearn tutorial pages here: https://scikit-learn.org/stable/modules/naive_bayes.html#naive-bayes. We propose to use the Gaussian Naive Bayes."
   ]
  },
  {
   "cell_type": "markdown",
   "metadata": {
    "_uuid": "23f16ebfd52f887cb78922a22ddfac00f3228bca"
   },
   "source": [
    "Naive Bayes assumes the data to be normally distributed which can be achieved by scaling using the MaxAbsScaler. For this example then we will use the unscaled data, then rescale it."
   ]
  },
  {
   "cell_type": "code",
   "execution_count": 22,
   "metadata": {
    "_cell_guid": "2db753f8-9832-4b47-9ba8-35db1448602f",
    "_uuid": "39aa691fa46edc353cf096543a19fa9d9bc1498f"
   },
   "outputs": [
    {
     "name": "stdout",
     "output_type": "stream",
     "text": [
      "Classifying using Gaussian Naive Bayes\n",
      "[[1270  205 1040]\n",
      " [ 195   47  183]\n",
      " [1039  154  867]]\n",
      "              precision    recall  f1-score   support\n",
      "\n",
      "           0       0.51      0.50      0.51      2515\n",
      "           1       0.12      0.11      0.11       425\n",
      "           2       0.41      0.42      0.42      2060\n",
      "\n",
      "    accuracy                           0.44      5000\n",
      "   macro avg       0.35      0.35      0.35      5000\n",
      "weighted avg       0.44      0.44      0.44      5000\n",
      "\n",
      "(array([0.5071885 , 0.11576355, 0.41483254]), array([0.50497018, 0.11058824, 0.42087379]), array([0.50607691, 0.11311673, 0.41783133]), array([2515,  425, 2060]))\n",
      "0.4368\n"
     ]
    }
   ],
   "source": [
    "# answer\n",
    "from sklearn.naive_bayes import GaussianNB\n",
    "from sklearn.preprocessing import MaxAbsScaler\n",
    "print(\"Classifying using Gaussian Naive Bayes\")\n",
    "\n",
    "# model design\n",
    "NB = GaussianNB()\n",
    "\n",
    "# re-scale the data\n",
    "scaler_gnb = MaxAbsScaler()\n",
    "sdss = scaler_gnb.fit_transform(Sky_df_PCA.drop('class', axis=1))\n",
    "X_train_gnb, X_test_gnb, y_train_gnb, y_test_gnb = train_test_split(sdss, Sky_df_PCA['class'], test_size=0.5)\n",
    "\n",
    "# training\n",
    "NB.fit(X_train_gnb, y_train_gnb)\n",
    "\n",
    "# evaluation\n",
    "y_pred_gnb = NB.predict(X_test_gnb)\n",
    "\n",
    "# evaluation: \n",
    "# print the classification report\n",
    "print(confusion_matrix(y_train_gnb,y_pred_gnb))\n",
    "print(classification_report(y_train_gnb, y_pred_gnb))\n",
    "\n",
    "# save values of precision, recall, fscore, accuracy.\n",
    "NB_scores = score(y_train_gnb,y_pred_gnb)\n",
    "NB_acc = accuracy_score(y_train_gnb, y_pred_gnb)\n",
    "\n",
    "print(NB_scores)\n",
    "print(NB_acc)"
   ]
  },
  {
   "cell_type": "markdown",
   "metadata": {
    "_cell_guid": "75b6b173-0875-4716-b458-7b741295fcf2",
    "_uuid": "d28d0e8f0d89945c4cb989b19d1829a50987ccdc"
   },
   "source": [
    "### 2.3.c Random Forest Classifier (2 points)\n",
    "Check out the tutorial page here: https://scikit-learn.org/stable/modules/generated/sklearn.ensemble.RandomForestClassifier.html"
   ]
  },
  {
   "cell_type": "code",
   "execution_count": 23,
   "metadata": {
    "_cell_guid": "b5d4a318-08c2-4172-8755-a82aa4e0cafc",
    "_uuid": "9dc11189c6289f7b3f0bb982bdf0c6b82da3e8d3"
   },
   "outputs": [
    {
     "name": "stdout",
     "output_type": "stream",
     "text": [
      "Classifying using Random Forest Classifiers\n",
      "[[1268  219  983]\n",
      " [ 217   39  167]\n",
      " [1065  149  893]]\n",
      "              precision    recall  f1-score   support\n",
      "\n",
      "           0       0.50      0.51      0.51      2470\n",
      "           1       0.10      0.09      0.09       423\n",
      "           2       0.44      0.42      0.43      2107\n",
      "\n",
      "    accuracy                           0.44      5000\n",
      "   macro avg       0.34      0.34      0.34      5000\n",
      "weighted avg       0.44      0.44      0.44      5000\n",
      "\n",
      "(array([0.4972549, 0.0958231, 0.4371023]), array([0.51336032, 0.09219858, 0.42382534]), array([0.50517928, 0.0939759 , 0.43036145]), array([2470,  423, 2107]))\n",
      "0.44\n"
     ]
    }
   ],
   "source": [
    "# answer\n",
    "from sklearn.ensemble import RandomForestClassifier\n",
    "print(\"Classifying using Random Forest Classifiers\")\n",
    "\n",
    "\n",
    "# model design\n",
    "RF = RandomForestClassifier(n_estimators = 100, random_state = 42)\n",
    "\n",
    "# training\n",
    "RF.fit(X_train, y_train)\n",
    "\n",
    "# evaluation\n",
    "y_pred_RF = RF.predict(X_test)\n",
    "\n",
    "# evaluation: \n",
    "# print the classification report\n",
    "print(confusion_matrix(y_train,y_pred_RF))\n",
    "print(classification_report(y_train, y_pred_RF))\n",
    "\n",
    "# save values of precision, recall, fscore, accuracy.\n",
    "RF_scores = score(y_train,y_pred_RF)\n",
    "RF_acc = accuracy_score(y_train, y_pred_RF)\n",
    "\n",
    "print(RF_scores)\n",
    "print(RF_acc)"
   ]
  },
  {
   "cell_type": "markdown",
   "metadata": {
    "_cell_guid": "15b03625-4960-45a9-9751-b8e3ea82cfed",
    "_uuid": "ce81bb5c1480e8cf041153ffd04efa02fbf1c6ef"
   },
   "source": [
    "### 2.3.d Support Vector Machine Classifier (2 points)\n",
    "Check out the sklearn information page here: https://scikit-learn.org/stable/modules/generated/sklearn.svm.SVC.html#sklearn.svm.SVC"
   ]
  },
  {
   "cell_type": "code",
   "execution_count": 24,
   "metadata": {
    "_cell_guid": "c50ce8dd-8a29-4cd5-80aa-68e13f2f6cea",
    "_uuid": "546fec58bfc86bd223f59efeac49abc5041a91c0",
    "scrolled": true
   },
   "outputs": [
    {
     "name": "stdout",
     "output_type": "stream",
     "text": [
      "Classifying using Support Vector Machine Classfiers\n",
      "[[2309  161    0]\n",
      " [ 394   29    0]\n",
      " [1996  111    0]]\n",
      "              precision    recall  f1-score   support\n",
      "\n",
      "           0       0.49      0.93      0.64      2470\n",
      "           1       0.10      0.07      0.08       423\n",
      "           2       0.00      0.00      0.00      2107\n",
      "\n",
      "    accuracy                           0.47      5000\n",
      "   macro avg       0.20      0.33      0.24      5000\n",
      "weighted avg       0.25      0.47      0.32      5000\n",
      "\n",
      "(array([0.49138114, 0.09634551, 0.        ]), array([0.93481781, 0.06855792, 0.        ]), array([0.64416237, 0.0801105 , 0.        ]), array([2470,  423, 2107]))\n",
      "0.4676\n"
     ]
    }
   ],
   "source": [
    "# answer\n",
    "from sklearn.svm import SVC\n",
    "print(\"Classifying using Support Vector Machine Classfiers\")\n",
    "\n",
    "# model design\n",
    "SVMC = SVC(gamma = 0.001)\n",
    "\n",
    "# training\n",
    "SVMC.fit(X_train, y_train)\n",
    "\n",
    "# evaluation\n",
    "y_pred_SVMC = SVMC.predict(X_test)\n",
    "# evaluation: \n",
    "# print the classification report\n",
    "print(confusion_matrix(y_train,y_pred_SVMC))\n",
    "print(classification_report(y_train, y_pred_SVMC))\n",
    "\n",
    "# save values of precision, recall, fscore, accuracy.\n",
    "SVMC_scores = score(y_train,y_pred_SVMC)\n",
    "SVMC_acc = accuracy_score(y_train, y_pred_SVMC)\n",
    "\n",
    "print(SVMC_scores)\n",
    "print(SVMC_acc)"
   ]
  },
  {
   "cell_type": "markdown",
   "metadata": {},
   "source": [
    "### 2.3.e Multi-Layer Perceptron (3 points)\n",
    "\n",
    "Check out the information page here: https://scikit-learn.org/stable/modules/generated/sklearn.neural_network.MLPClassifier.html"
   ]
  },
  {
   "cell_type": "code",
   "execution_count": 25,
   "metadata": {},
   "outputs": [
    {
     "name": "stdout",
     "output_type": "stream",
     "text": [
      "Classifying using Multi Layer Perceptron Classifier\n",
      "[[1246  220 1004]\n",
      " [ 215   39  169]\n",
      " [1045  152  910]]\n",
      "              precision    recall  f1-score   support\n",
      "\n",
      "           0       0.50      0.50      0.50      2470\n",
      "           1       0.09      0.09      0.09       423\n",
      "           2       0.44      0.43      0.43      2107\n",
      "\n",
      "    accuracy                           0.44      5000\n",
      "   macro avg       0.34      0.34      0.34      5000\n",
      "weighted avg       0.44      0.44      0.44      5000\n",
      "\n",
      "(array([0.4972067 , 0.09489051, 0.4368699 ]), array([0.50445344, 0.09219858, 0.43189369]), array([0.50080386, 0.09352518, 0.43436754]), array([2470,  423, 2107]))\n",
      "0.439\n"
     ]
    }
   ],
   "source": [
    "# answer\n",
    "from sklearn.neural_network import MLPClassifier\n",
    "print(\"Classifying using Multi Layer Perceptron Classifier\")\n",
    "\n",
    "\n",
    "# model design\n",
    "MLP = MLPClassifier(hidden_layer_sizes = 100)\n",
    "\n",
    "# training\n",
    "MLP.fit(X_train,y_train)\n",
    "\n",
    "# evaluation\n",
    "y_pred_MLP = MLP.predict(X_test)\n",
    "\n",
    "# evaluation: \n",
    "# print the classification report\n",
    "print(confusion_matrix(y_train,y_pred_MLP))\n",
    "print(classification_report(y_train, y_pred_MLP))\n",
    "\n",
    "# save values of precision, recall, fscore, accuracy.\n",
    "MLP_scores = score(y_train,y_pred_MLP)\n",
    "MLP_acc = accuracy_score(y_train, y_pred_MLP)\n",
    "\n",
    "print(MLP_scores)\n",
    "print(MLP_acc)"
   ]
  },
  {
   "cell_type": "markdown",
   "metadata": {},
   "source": [
    "### 2.4 Model performance and comparison \n",
    "\n",
    "### 2.4.a Confusion Matrix and interpretation\n",
    "\n",
    "**Task: Plot the confusion matrix (2 points)**\n",
    "\n",
    "Use the sklearn function ``plot_confusion_matrix``. Find help here: https://scikit-learn.org/stable/modules/generated/sklearn.metrics.plot_confusion_matrix.html. We tested 5 models, make suplots, set the title on each subplots.\n"
   ]
  },
  {
   "cell_type": "code",
   "execution_count": 26,
   "metadata": {},
   "outputs": [
    {
     "data": {
      "text/plain": [
       "Text(0.5, 1.0, 'Multi-Layer Perceptron')"
      ]
     },
     "execution_count": 26,
     "metadata": {},
     "output_type": "execute_result"
    },
    {
     "data": {
      "image/png": "[encoded data removed]",
      "text/plain": [
       "<Figure size 1728x432 with 10 Axes>"
      ]
     },
     "metadata": {
      "needs_background": "light"
     },
     "output_type": "display_data"
    }
   ],
   "source": [
    "# plot the confusion matrix\n",
    "fig, axes = plt.subplots(nrows=1, ncols=5,figsize=(24, 6))\n",
    "plot_confusion_matrix(KNC, X_test, y_test, ax = axes[0])\n",
    "axes[0].set_title('KNearestNeighbor')\n",
    "plot_confusion_matrix(NB, X_test_gnb, y_test_gnb, ax = axes[1])\n",
    "axes[1].set_title('Naive Bayes')\n",
    "plot_confusion_matrix(RF, X_test, y_test, ax = axes[2])\n",
    "axes[2].set_title('Random Forest')\n",
    "plot_confusion_matrix(SVMC, X_test, y_test, ax = axes[3])\n",
    "axes[3].set_title('Support Vector Machine')\n",
    "plot_confusion_matrix(MLP, X_test, y_test, ax = axes[4])\n",
    "axes[4].set_title('Multi-Layer Perceptron')"
   ]
  },
  {
   "cell_type": "markdown",
   "metadata": {},
   "source": [
    "**Task: Comment on what you see the best classifier is likely to be (1 point).** You can also comment on the misclassification and confusion rates."
   ]
  },
  {
   "cell_type": "markdown",
   "metadata": {},
   "source": [
    "The best classiifer is likely the Naive Bayes Classifier, as it has the best scores along the axis, as well as the least confusion. The other classifiers performed pretty as well, expect for Support Vector Machine, which totally failed to corectly predict class 2 which is Stars. SVM predicted all stars as galaxies. KNearestNeighbor has some misclassifications where it predicted some galaxies as stars. "
   ]
  },
  {
   "cell_type": "markdown",
   "metadata": {
    "_cell_guid": "e1018b7a-65f5-46d3-9076-544fea2ea1ee",
    "_uuid": "207493115d3d29e59fce048de6e25e82e7adc9fd"
   },
   "source": [
    "### 2.4.a K Fold Cross Validation\n",
    "We will now perform k fold cross valdiation for the classifiers. We use the function ``cross_val_score`` on each ewstimator, on the training set, with 10 folds, and use accuracy as a score metric.\n",
    "\n",
    "**Task: perform the cross validation over K folds, output the mean and standard deviation of the accuracy (3 points)**"
   ]
  },
  {
   "cell_type": "code",
   "execution_count": 27,
   "metadata": {
    "_cell_guid": "1c330298-5c44-4c4f-81c6-633082a644d0",
    "_uuid": "277ceb9eea218726a798af0f9d1dfce6d56fbb0b"
   },
   "outputs": [
    {
     "name": "stdout",
     "output_type": "stream",
     "text": [
      "K-nearest neighbors Mean: 0.9176 Standard Deviation: 0.04974977386883281\n",
      "Naive Bayes Mean: 0.985 Standard Deviation: 0.006826419266350411\n",
      "Random Forest Mean: 0.9846 Standard Deviation: 0.014506550244630885\n",
      "Support Vector Machine Mean: 0.5548 Standard Deviation: 0.004489988864128734\n",
      "Multi-Layer Perceptron Mean: 0.9825999999999999 Standard Deviation: 0.007800000000000007\n"
     ]
    }
   ],
   "source": [
    "from sklearn.model_selection import cross_val_score\n",
    "\n",
    "KNC_cross = cross_val_score(KNC, X_train, y_train, scoring = \"accuracy\", cv = 10)\n",
    "print(\"K-nearest neighbors Mean:\", KNC_cross.mean(),\"Standard Deviation:\", KNC_cross.std())\n",
    "\n",
    "NB_cross = cross_val_score(NB, X_train_gnb, y_train_gnb, scoring = \"accuracy\", cv = 10)\n",
    "print(\"Naive Bayes Mean:\", NB_cross.mean(),\"Standard Deviation:\", NB_cross.std())\n",
    "\n",
    "RF_cross = cross_val_score(RF, X_train, y_train, scoring = \"accuracy\", cv = 10)\n",
    "print(\"Random Forest Mean:\", RF_cross.mean(),\"Standard Deviation:\", RF_cross.std())\n",
    "\n",
    "SVMC_cross = cross_val_score(SVMC, X_train, y_train, scoring = \"accuracy\", cv = 10)\n",
    "print(\"Support Vector Machine Mean:\", SVMC_cross.mean(),\"Standard Deviation:\", SVMC_cross.std())\n",
    "\n",
    "MLP_cross = cross_val_score(MLP, X_train, y_train, scoring = \"accuracy\", cv = 10)\n",
    "print(\"Multi-Layer Perceptron Mean:\", MLP_cross.mean(),\"Standard Deviation:\", MLP_cross.std())"
   ]
  },
  {
   "cell_type": "markdown",
   "metadata": {
    "_cell_guid": "80b3da72-6711-42fb-93e3-6670112cd96c",
    "_uuid": "0941b7073b9d12b655476b6e44d453c065004478"
   },
   "source": [
    "**Task: Which method won the Xval test (1 point) ?**\n",
    "\n",
    "see the cell below"
   ]
  },
  {
   "cell_type": "markdown",
   "metadata": {},
   "source": [
    "<!-- answer here -->\n",
    "\n",
    "Naive Bayes, with a Mean of 0.985 and Standard Deviation of only 0.0068\n",
    "\n"
   ]
  },
  {
   "cell_type": "markdown",
   "metadata": {
    "_cell_guid": "1d7e36a9-414c-4212-a86c-763ca8422b86",
    "_uuid": "937ada3280f7e4de9b7cb022c47c0af1908238e6"
   },
   "source": [
    "### 2.4.c And the winner is ...\n",
    "\n",
    "Let's compare the results. \n",
    "**Task: Create a pandas dataframe with all of the performance metrics, including the results from K-fold cross validation. (2 points)**"
   ]
  },
  {
   "cell_type": "code",
   "execution_count": 38,
   "metadata": {
    "_cell_guid": "a79815ff-1d64-48ec-996d-32bcbba98250",
    "_uuid": "c1fcf42a95967c7d25394c755e5014b027681d23"
   },
   "outputs": [
    {
     "data": {
      "text/html": [
       "<div>\n",
       "<style scoped>\n",
       "    .dataframe tbody tr th:only-of-type {\n",
       "        vertical-align: middle;\n",
       "    }\n",
       "\n",
       "    .dataframe tbody tr th {\n",
       "        vertical-align: top;\n",
       "    }\n",
       "\n",
       "    .dataframe thead th {\n",
       "        text-align: right;\n",
       "    }\n",
       "</style>\n",
       "<table border=\"1\" class=\"dataframe\">\n",
       "  <thead>\n",
       "    <tr style=\"text-align: right;\">\n",
       "      <th></th>\n",
       "      <th>Model</th>\n",
       "      <th>Accuracy</th>\n",
       "      <th>Precision</th>\n",
       "      <th>Recall</th>\n",
       "      <th>Fscore</th>\n",
       "      <th>Kfold_accuracy_mean</th>\n",
       "      <th>Kfold_accuracy_std</th>\n",
       "    </tr>\n",
       "  </thead>\n",
       "  <tbody>\n",
       "    <tr>\n",
       "      <th>0</th>\n",
       "      <td>KNN</td>\n",
       "      <td>0.4432</td>\n",
       "      <td>0.347019</td>\n",
       "      <td>0.346543</td>\n",
       "      <td>0.346666</td>\n",
       "      <td>0.9176</td>\n",
       "      <td>0.049750</td>\n",
       "    </tr>\n",
       "    <tr>\n",
       "      <th>1</th>\n",
       "      <td>Naive Bayes</td>\n",
       "      <td>0.4368</td>\n",
       "      <td>0.345928</td>\n",
       "      <td>0.345477</td>\n",
       "      <td>0.345675</td>\n",
       "      <td>0.9850</td>\n",
       "      <td>0.006826</td>\n",
       "    </tr>\n",
       "    <tr>\n",
       "      <th>2</th>\n",
       "      <td>Random Forest</td>\n",
       "      <td>0.4400</td>\n",
       "      <td>0.343393</td>\n",
       "      <td>0.343128</td>\n",
       "      <td>0.343172</td>\n",
       "      <td>0.9846</td>\n",
       "      <td>0.014507</td>\n",
       "    </tr>\n",
       "    <tr>\n",
       "      <th>3</th>\n",
       "      <td>SVC</td>\n",
       "      <td>0.4676</td>\n",
       "      <td>0.195909</td>\n",
       "      <td>0.334459</td>\n",
       "      <td>0.241424</td>\n",
       "      <td>0.5548</td>\n",
       "      <td>0.004490</td>\n",
       "    </tr>\n",
       "    <tr>\n",
       "      <th>4</th>\n",
       "      <td>ANN</td>\n",
       "      <td>0.4390</td>\n",
       "      <td>0.342989</td>\n",
       "      <td>0.342849</td>\n",
       "      <td>0.342899</td>\n",
       "      <td>0.9826</td>\n",
       "      <td>0.007800</td>\n",
       "    </tr>\n",
       "  </tbody>\n",
       "</table>\n",
       "</div>"
      ],
      "text/plain": [
       "           Model  Accuracy  Precision    Recall    Fscore  \\\n",
       "0            KNN    0.4432   0.347019  0.346543  0.346666   \n",
       "1    Naive Bayes    0.4368   0.345928  0.345477  0.345675   \n",
       "2  Random Forest    0.4400   0.343393  0.343128  0.343172   \n",
       "3            SVC    0.4676   0.195909  0.334459  0.241424   \n",
       "4            ANN    0.4390   0.342989  0.342849  0.342899   \n",
       "\n",
       "   Kfold_accuracy_mean  Kfold_accuracy_std  \n",
       "0               0.9176            0.049750  \n",
       "1               0.9850            0.006826  \n",
       "2               0.9846            0.014507  \n",
       "3               0.5548            0.004490  \n",
       "4               0.9826            0.007800  "
      ]
     },
     "execution_count": 38,
     "metadata": {},
     "output_type": "execute_result"
    }
   ],
   "source": [
    "# create data frame\n",
    "\n",
    "results = pd.DataFrame({\n",
    "    'Model': ['KNN', 'Naive Bayes', 'Random Forest', 'SVC','ANN'],\n",
    "    'Accuracy': [KNC_acc, NB_acc, RF_acc, SVMC_acc, MLP_acc ],\n",
    "    'Precision': [KNC_scores[0].mean(), NB_scores[0].mean(), RF_scores[0].mean(), SVMC_scores[0].mean(), MLP_scores[0].mean()],\n",
    "    'Recall': [KNC_scores[1].mean(), NB_scores[1].mean(), RF_scores[1].mean(), SVMC_scores[1].mean(), MLP_scores[1].mean()],\n",
    "    'Fscore': [KNC_scores[2].mean(), NB_scores[2].mean(), RF_scores[2].mean(), SVMC_scores[2].mean(), MLP_scores[2].mean()],\n",
    "    'Kfold_accuracy_mean': [KNC_cross.mean(), NB_cross.mean(), RF_cross.mean(), SVMC_cross.mean(), MLP_cross.mean()],\n",
    "    'Kfold_accuracy_std': [KNC_cross.std(), NB_cross.std(), RF_cross.std(), SVMC_cross.std(), MLP_cross.std()]})\n",
    "# sort values by the Fscore with the greatest value first.\n",
    "results.sort_values('Fscore', ascending = False)\n",
    "results.head()\n"
   ]
  },
  {
   "cell_type": "markdown",
   "metadata": {
    "_cell_guid": "07452e0e-4f68-4f7c-a368-97ed43251eb4",
    "_uuid": "d108af400cc3ddb2bae13b870688d7149300c0f6"
   },
   "source": [
    "**Task: Comment on the accuracy and performance and choose a winner. (1 point)**\n",
    "\n",
    "see the cell below"
   ]
  },
  {
   "cell_type": "markdown",
   "metadata": {},
   "source": [
    "<!-- answer here -->\n",
    "When the precision, recall, and Fscore for each class are averaged out in every model, they are quite similar, except for SVC, which has poor scores despite having the highest accuracy. So, if we are comparing Accuracy and Fscore, the Knearest Neighbor is the winner as it scores best in Accuracy (disrgarding SVC) and Fscore\n",
    "\n",
    "\n",
    "\n"
   ]
  },
  {
   "cell_type": "markdown",
   "metadata": {
    "_cell_guid": "9d6084f2-7121-4ef6-8f62-ce434f94f4ea",
    "_uuid": "91e2f9ced455f5a8f02a80cb5ff035ba3228f7f4"
   },
   "source": [
    "## 3 Summary (4 points)"
   ]
  },
  {
   "cell_type": "markdown",
   "metadata": {
    "_cell_guid": "8d501e81-e7bf-4212-89b0-7e4dda3afd45",
    "_uuid": "8538142325bbaf4c09449126856a8cf0725aeabe"
   },
   "source": [
    "### 3.1 Feature Importance using Random Forest Classifier"
   ]
  },
  {
   "cell_type": "markdown",
   "metadata": {
    "_cell_guid": "58abedc0-f5ba-497e-8037-4fd6e03e283a",
    "_uuid": "d201ab385d30b19c444b79d0d0b7697f9161f888"
   },
   "source": [
    "Decision Trees have the unique property of being able to order features by their ability to split between the classes. If some features dominate over other in the predictive power of classes, one can further reduce the dimension of the features for additional analysis. The vector of feature importance is the module ``rfc.feature_importances_``, sorted with ascending importance. Store the vector of importance .\n",
    "\n",
    "**Task: plot a bar plot using the function ``matplotlib.pyplot.bar``. (2 points)**"
   ]
  },
  {
   "cell_type": "code",
   "execution_count": 37,
   "metadata": {
    "_cell_guid": "1684a815-20b7-47cd-ba41-d326249961e2",
    "_uuid": "12d49c95b6b762d0cf43eba7c28818237fa3ae97",
    "scrolled": true
   },
   "outputs": [
    {
     "data": {
      "text/plain": [
       "<AxesSubplot:>"
      ]
     },
     "execution_count": 37,
     "metadata": {},
     "output_type": "execute_result"
    },
    {
     "data": {
      "image/png": "[encoded data removed]",
      "text/plain": [
       "<Figure size 432x288 with 1 Axes>"
      ]
     },
     "metadata": {
      "needs_background": "light"
     },
     "output_type": "display_data"
    }
   ],
   "source": [
    "# answer\n",
    "\n",
    "# vector of importance\n",
    "importance = RF.feature_importances_\n",
    "\n",
    "# vector of features\n",
    "features = ['ra', 'dec', 'redshift', 'PCA_values']\n",
    "#forest_importances = pd.Series(importance)\n",
    "#plt.bar(forest_importances, height = 10)\n",
    "forest_importances = pd.Series(importance, index = features)\n",
    "forest_importances.plot.bar()"
   ]
  },
  {
   "cell_type": "markdown",
   "metadata": {
    "_cell_guid": "c20a7dc7-7226-4970-b480-44150db5ae8e",
    "_uuid": "27931b2ee5325ff26b194ce646604116f315996b"
   },
   "source": [
    "**Task: What are the top three features (1 point)?**\n",
    "\n",
    "enter in the cell below"
   ]
  },
  {
   "cell_type": "markdown",
   "metadata": {},
   "source": [
    "<!-- answer -->\n",
    "Redshift is by far the top feature, with ra and PCA_values being 2 and 3rd but with very low importance relative to Redshift"
   ]
  },
  {
   "cell_type": "markdown",
   "metadata": {
    "_cell_guid": "93e6bbb6-c774-4ab9-b2a8-f71ee48196ed",
    "_uuid": "d1f96b80f16c196f063143c7afc88254474dd4ea"
   },
   "source": [
    "In this notebook, you have learned that redshift was the best predictor of what object you are observing. Now, did you actualy need to do this all to find this out? Probably not if you were an astrophysicist! But hey, we are not. So great job!\n",
    "\n",
    "**Task: Briefly comment on what you have learned (1 point)**\n",
    "\n",
    "see the cell below"
   ]
  },
  {
   "cell_type": "markdown",
   "metadata": {},
   "source": [
    "<!-- answer -->\n",
    "Learned that redshift is the best predictor, but also learned a lot about how different classifier's work, how to implement and read confusion matrices, and how to use feature importances."
   ]
  },
  {
   "cell_type": "code",
   "execution_count": null,
   "metadata": {},
   "outputs": [],
   "source": []
  }
 ],
 "metadata": {
  "kernelspec": {
   "display_name": "Python 3",
   "language": "python",
   "name": "python3"
  },
  "language_info": {
   "codemirror_mode": {
    "name": "ipython",
    "version": 3
   },
   "file_extension": ".py",
   "mimetype": "text/x-python",
   "name": "python",
   "nbconvert_exporter": "python",
   "pygments_lexer": "ipython3",
   "version": "3.9.2"
  }
 },
 "nbformat": 4,
 "nbformat_minor": 4
}

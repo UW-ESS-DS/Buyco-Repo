{
 "cells": [
  {
   "cell_type": "markdown",
   "id": "fb810c40",
   "metadata": {},
   "source": [
    "# Homework 3 (10 points)\n",
    "This homework will make use of pandas dataframese to extract and manipulate metadata of seismic station in the Northern California Seismic Network. The learning objective are: data download from URL, dataframes with pandas, basic data manipulation. Use the tutorials shown in class and the pandas resources (https://pandas.pydata.org/pandas-docs/stable/user_guide/10min.html)"
   ]
  },
  {
   "cell_type": "markdown",
   "id": "119661fa",
   "metadata": {},
   "source": [
    "### Think like a researcher:\n",
    "\n",
    "We want to download seismic waveforms from a seismic data archive of specific earthquakes. We am not sure what sensors (seismometers) is operating at that time. The list of stations available in the seismic networkhas more than 6000, that's way too many! So we want to filter only the seismic stations that are relevant for the research."
   ]
  },
  {
   "cell_type": "code",
   "execution_count": 22,
   "id": "286aef12",
   "metadata": {},
   "outputs": [],
   "source": [
    "# Address of the website to download data\n",
    "url = 'http://ncedc.org/ftp/pub/doc/NC.info/NC.channel.summary.day'"
   ]
  },
  {
   "cell_type": "code",
   "execution_count": 23,
   "id": "f0f53385",
   "metadata": {},
   "outputs": [],
   "source": [
    "# Useful Python modules\n",
    "import numpy as np\n",
    "import pandas as pd\n",
    "import io\n",
    "import pickle\n",
    "import requests\n",
    "from datetime import datetime, timedelta\n",
    "from math import cos, sin, pi, sqrt\n",
    "import matplotlib.pyplot as plt"
   ]
  },
  {
   "cell_type": "code",
   "execution_count": 24,
   "id": "c778abd0",
   "metadata": {},
   "outputs": [],
   "source": [
    "# Import the data from the website into a Python dataframe\n",
    "s = requests.get(url).content\n",
    "data = pd.read_csv(io.StringIO(s.decode('utf-8')), header=None, skiprows=2, sep='\\s+', usecols=list(range(0, 13)))\n",
    "data.columns = ['station', 'network', 'channel', 'location', 'rate', 'start_time', 'end_time', 'latitude', 'longitude', 'elevation', 'depth', 'dip', 'azimuth']"
   ]
  },
  {
   "cell_type": "code",
   "execution_count": 25,
   "id": "f4944b53",
   "metadata": {},
   "outputs": [],
   "source": [
    "# Transform columns start_time and end_time into datetime format\n",
    "startdate = pd.to_datetime(data['start_time'], format='%Y/%m/%d,%H:%M:%S')\n",
    "data['start_time'] = startdate\n",
    "# Avoid 'OutOfBoundsDatetime' error with year 3000\n",
    "enddate = data['end_time'].str.replace('3000', '2025')\n",
    "enddate = pd.to_datetime(enddate, format='%Y/%m/%d,%H:%M:%S')\n",
    "data['end_time'] = enddate"
   ]
  },
  {
   "cell_type": "markdown",
   "id": "c8549ede",
   "metadata": {},
   "source": [
    "After discussing with my adviser, we decided than only the following channels are relevant for the work we want to do:"
   ]
  },
  {
   "cell_type": "code",
   "execution_count": 26,
   "id": "cd879dc7",
   "metadata": {},
   "outputs": [],
   "source": [
    "channels = ['BHE', 'BHN', 'BHZ', 'BH1', 'BH2', \\\n",
    "            'EHE', 'EHN', 'EHZ', 'EH1', 'EH2', \\\n",
    "            'HHE', 'HHN', 'HHZ', 'HH1', 'HH2', \\\n",
    "            'SHE', 'SHN', 'SHZ', 'SH1', 'SH2']"
   ]
  },
  {
   "cell_type": "markdown",
   "id": "65e95bd0",
   "metadata": {},
   "source": [
    "## Q1 (2 points)\n",
    "\n",
    "Filter the dataset to keep only the rows with the channels as defined above. "
   ]
  },
  {
   "cell_type": "code",
   "execution_count": 28,
   "id": "eecc9729",
   "metadata": {},
   "outputs": [
    {
     "output_type": "execute_result",
     "data": {
      "text/plain": [
       "pandas.core.frame.DataFrame"
      ]
     },
     "metadata": {},
     "execution_count": 28
    }
   ],
   "source": [
    "data = data.loc[data.channel.isin(channels)]\n",
    "data.head\n",
    "type(data)"
   ]
  },
  {
   "cell_type": "markdown",
   "id": "a7c5bcce",
   "metadata": {},
   "source": [
    "## Q2  (2 points)\n",
    "My earthquake catalog starts on 2007/07/01 and ends on 2009/07/01. I am only interested in stations that started recording before 2007/07/01 and ended recording after 2009/07/01. The dataframe <code>data</code> has the start time and end times defined as <code>datetime</code> objects. That means that we can filter the dataframe columns by comparing the datetime objects. To create a datetime object"
   ]
  },
  {
   "cell_type": "code",
   "execution_count": 29,
   "id": "7c2f5648",
   "metadata": {},
   "outputs": [
    {
     "output_type": "stream",
     "name": "stdout",
     "text": [
      "<class 'datetime.datetime'>\n"
     ]
    }
   ],
   "source": [
    "s1 = datetime(2007,7,1)\n",
    "s2 = datetime(2009,7,1)\n",
    "print(type(s1))"
   ]
  },
  {
   "cell_type": "markdown",
   "id": "30615610",
   "metadata": {},
   "source": [
    "Filter the dataset to keep only stations that started recording before 2007/07/01 and ended recording after 2009/07/01. "
   ]
  },
  {
   "cell_type": "code",
   "execution_count": 37,
   "id": "63823607",
   "metadata": {},
   "outputs": [
    {
     "output_type": "execute_result",
     "data": {
      "text/plain": [
       "    station network channel location   rate          start_time  \\\n",
       "4       AAS      NC     EHZ       --  100.0 1987-05-01 00:00:00   \n",
       "8       ABJ      NC     EHZ       --  100.0 1992-11-10 20:00:00   \n",
       "80      AOH      NC     EHZ       --  100.0 1987-05-01 00:00:00   \n",
       "111     BAP      NC     SHZ       --   50.0 2004-01-22 22:00:00   \n",
       "116     BAV      NC     EHZ       --  100.0 2004-01-16 01:06:00   \n",
       "\n",
       "               end_time  latitude  longitude  elevation  depth   dip  azimuth  \n",
       "4   2025-01-01 00:00:00  38.43014 -121.10959       31.0    0.0 -90.0      0.0  \n",
       "8   2019-06-26 19:17:00  39.16577 -121.19299      434.0    0.0 -90.0      0.0  \n",
       "80  2019-06-20 18:43:00  39.37627 -121.25767      410.0    0.0 -90.0      0.0  \n",
       "111 2011-07-08 17:04:00  36.18042 -121.64440     1193.0    0.0 -90.0      0.0  \n",
       "116 2020-06-01 18:40:00  36.64595 -121.03015      572.0    0.0 -90.0      0.0  "
      ],
      "text/html": "<div>\n<style scoped>\n    .dataframe tbody tr th:only-of-type {\n        vertical-align: middle;\n    }\n\n    .dataframe tbody tr th {\n        vertical-align: top;\n    }\n\n    .dataframe thead th {\n        text-align: right;\n    }\n</style>\n<table border=\"1\" class=\"dataframe\">\n  <thead>\n    <tr style=\"text-align: right;\">\n      <th></th>\n      <th>station</th>\n      <th>network</th>\n      <th>channel</th>\n      <th>location</th>\n      <th>rate</th>\n      <th>start_time</th>\n      <th>end_time</th>\n      <th>latitude</th>\n      <th>longitude</th>\n      <th>elevation</th>\n      <th>depth</th>\n      <th>dip</th>\n      <th>azimuth</th>\n    </tr>\n  </thead>\n  <tbody>\n    <tr>\n      <th>4</th>\n      <td>AAS</td>\n      <td>NC</td>\n      <td>EHZ</td>\n      <td>--</td>\n      <td>100.0</td>\n      <td>1987-05-01 00:00:00</td>\n      <td>2025-01-01 00:00:00</td>\n      <td>38.43014</td>\n      <td>-121.10959</td>\n      <td>31.0</td>\n      <td>0.0</td>\n      <td>-90.0</td>\n      <td>0.0</td>\n    </tr>\n    <tr>\n      <th>8</th>\n      <td>ABJ</td>\n      <td>NC</td>\n      <td>EHZ</td>\n      <td>--</td>\n      <td>100.0</td>\n      <td>1992-11-10 20:00:00</td>\n      <td>2019-06-26 19:17:00</td>\n      <td>39.16577</td>\n      <td>-121.19299</td>\n      <td>434.0</td>\n      <td>0.0</td>\n      <td>-90.0</td>\n      <td>0.0</td>\n    </tr>\n    <tr>\n      <th>80</th>\n      <td>AOH</td>\n      <td>NC</td>\n      <td>EHZ</td>\n      <td>--</td>\n      <td>100.0</td>\n      <td>1987-05-01 00:00:00</td>\n      <td>2019-06-20 18:43:00</td>\n      <td>39.37627</td>\n      <td>-121.25767</td>\n      <td>410.0</td>\n      <td>0.0</td>\n      <td>-90.0</td>\n      <td>0.0</td>\n    </tr>\n    <tr>\n      <th>111</th>\n      <td>BAP</td>\n      <td>NC</td>\n      <td>SHZ</td>\n      <td>--</td>\n      <td>50.0</td>\n      <td>2004-01-22 22:00:00</td>\n      <td>2011-07-08 17:04:00</td>\n      <td>36.18042</td>\n      <td>-121.64440</td>\n      <td>1193.0</td>\n      <td>0.0</td>\n      <td>-90.0</td>\n      <td>0.0</td>\n    </tr>\n    <tr>\n      <th>116</th>\n      <td>BAV</td>\n      <td>NC</td>\n      <td>EHZ</td>\n      <td>--</td>\n      <td>100.0</td>\n      <td>2004-01-16 01:06:00</td>\n      <td>2020-06-01 18:40:00</td>\n      <td>36.64595</td>\n      <td>-121.03015</td>\n      <td>572.0</td>\n      <td>0.0</td>\n      <td>-90.0</td>\n      <td>0.0</td>\n    </tr>\n  </tbody>\n</table>\n</div>"
     },
     "metadata": {},
     "execution_count": 37
    }
   ],
   "source": [
    "data_distance = data.loc[(data.start_time < s1) & (data.end_time >s2)]\n",
    "data_distance.head()"
   ]
  },
  {
   "cell_type": "markdown",
   "id": "c0436861",
   "metadata": {},
   "source": [
    "The cluster of these repeating earthquakes are located at latitude = 40.09N and longitude = -122.87E. Here is a function to compute the distance from the station to the earthquakes, and to add a column distance to the dataset"
   ]
  },
  {
   "cell_type": "code",
   "execution_count": 40,
   "id": "d8815da2",
   "metadata": {},
   "outputs": [],
   "source": [
    "# the cluster of earthquakes is centered at the following location:\n",
    "lat0 = 40.09000\n",
    "lon0 = -122.87000\n",
    "\n",
    "a = 6378.136 # radius of the Earth in km.\n",
    "e = 0.006694470 # ellipticity\n",
    "\n",
    "\n",
    "dx = (pi / 180.0) * a * cos(lat0 * pi / 180.0) / sqrt(1.0 - e * e * sin(lat0 * pi / 180.0) * sin(lat0 * pi / 180.0))\n",
    "dy = (3.6 * pi / 648.0) * a * (1.0 - e * e) / ((1.0 - e * e * sin(lat0 * pi / 180.0) * sin(lat0 * pi / 180.0)) ** 1.5)\n",
    "x = dx * (data['longitude'] - lon0)\n",
    "y = dy * (data['latitude'] - lat0)\n",
    "\n",
    "# calculate and fill in the dataframe with the new values\n",
    "data_distance['distance'] = np.sqrt(np.power(x, 2.0) + np.power(y, 2.0))"
   ]
  },
  {
   "cell_type": "markdown",
   "id": "1794fc6a",
   "metadata": {},
   "source": [
    "## Q3  (3 points)\n",
    "We want to keep the stations that are located less than 100 km from my repeating earthquakes. For stations farther away, the signal-to-noise ratio would be too low. Filter the dataset to keep only stations that are within 100 km from the earthquakes."
   ]
  },
  {
   "cell_type": "code",
   "execution_count": 44,
   "id": "9e8ccfee",
   "metadata": {},
   "outputs": [
    {
     "output_type": "execute_result",
     "data": {
      "text/plain": [
       "pandas.core.frame.DataFrame"
      ]
     },
     "metadata": {},
     "execution_count": 44
    }
   ],
   "source": [
    "data_close = data_distance.loc[data_distance.distance < 100]\n",
    "data_close.head()\n",
    "type(data_close)"
   ]
  },
  {
   "cell_type": "markdown",
   "id": "733269f3",
   "metadata": {},
   "source": [
    "Finally, we want to group the result such that the final result looks organized like this:\n",
    "\n",
    "|station|network|location|latitude|longitude |elevation|depth|distance |channel    |start_time         |end_time           |\n",
    "|-------|-------|--------|--------|----------|---------|-----|---------|-----------|-------------------|-------------------|\n",
    "|KBS \t|NC \t|-- \t |39.91719|-123.59561|1120.0   |0.0  |64.720762|SHZ        |2002-10-17 00:00:00|2011-10-27 21:25:00|\n",
    "|KCPB \t|NC \t|-- \t |39.68631|-123.58242|1261.0   |0.0  |75.502041|HHZ,HHN,HHE|2006-10-18 00:08:00|2010-11-01 22:00:00|"
   ]
  },
  {
   "cell_type": "markdown",
   "id": "2b8e4378",
   "metadata": {},
   "source": [
    "We want one row per station, a against one row per channel. Use the pandas function <code>agg</code> to group the channels of a given station together, and srt with the earliest start date and the latest end date. Do not forget to reset the indices!\n",
    "You can use the following function to group the channels together:"
   ]
  },
  {
   "cell_type": "code",
   "execution_count": 46,
   "id": "11cffd99",
   "metadata": {},
   "outputs": [
    {
     "output_type": "stream",
     "name": "stderr",
     "text": [
      "<ipython-input-46-e85db57e0a49>:9: SettingWithCopyWarning: \nA value is trying to be set on a copy of a slice from a DataFrame.\nTry using .loc[row_indexer,col_indexer] = value instead\n\nSee the caveats in the documentation: https://pandas.pydata.org/pandas-docs/stable/user_guide/indexing.html#returning-a-view-versus-a-copy\n  data_close['channel'] = f(data_close.channel)\n"
     ]
    },
    {
     "output_type": "execute_result",
     "data": {
      "text/plain": [
       "     station network  channel location   rate          start_time  \\\n",
       "1493     GBB      NC  EHZ,SHZ       --  100.0 2000-12-06 18:38:00   \n",
       "1528     GCK      NC  EHZ,SHZ       --  100.0 2000-06-06 21:58:00   \n",
       "1628     GFC      NC  EHZ,SHZ       --  100.0 2001-04-03 23:25:00   \n",
       "1689     GHM      NC  EHZ,SHZ       --  100.0 1987-05-01 00:00:00   \n",
       "1744     GRO      NC  EHZ,SHZ       --  100.0 1990-12-13 23:30:00   \n",
       "\n",
       "                end_time  latitude  longitude  elevation  depth   dip  \\\n",
       "1493 2025-01-01 00:00:00  39.80127 -122.34550      170.0    0.0 -90.0   \n",
       "1528 2025-01-01 00:00:00  39.54375 -122.43668      251.0    0.0 -90.0   \n",
       "1628 2020-03-18 22:53:00  39.32655 -122.28886       64.0    0.0 -90.0   \n",
       "1689 2025-01-01 00:00:00  39.49545 -122.93096     1456.0    0.0 -90.0   \n",
       "1744 2025-01-01 00:00:00  39.91684 -122.67117     1261.0    0.0 -90.0   \n",
       "\n",
       "      azimuth   distance  \n",
       "1493      0.0  55.029997  \n",
       "1528      0.0  71.129241  \n",
       "1628      0.0  98.346307  \n",
       "1689      0.0  66.387179  \n",
       "1744      0.0  25.657089  "
      ],
      "text/html": "<div>\n<style scoped>\n    .dataframe tbody tr th:only-of-type {\n        vertical-align: middle;\n    }\n\n    .dataframe tbody tr th {\n        vertical-align: top;\n    }\n\n    .dataframe thead th {\n        text-align: right;\n    }\n</style>\n<table border=\"1\" class=\"dataframe\">\n  <thead>\n    <tr style=\"text-align: right;\">\n      <th></th>\n      <th>station</th>\n      <th>network</th>\n      <th>channel</th>\n      <th>location</th>\n      <th>rate</th>\n      <th>start_time</th>\n      <th>end_time</th>\n      <th>latitude</th>\n      <th>longitude</th>\n      <th>elevation</th>\n      <th>depth</th>\n      <th>dip</th>\n      <th>azimuth</th>\n      <th>distance</th>\n    </tr>\n  </thead>\n  <tbody>\n    <tr>\n      <th>1493</th>\n      <td>GBB</td>\n      <td>NC</td>\n      <td>EHZ,SHZ</td>\n      <td>--</td>\n      <td>100.0</td>\n      <td>2000-12-06 18:38:00</td>\n      <td>2025-01-01 00:00:00</td>\n      <td>39.80127</td>\n      <td>-122.34550</td>\n      <td>170.0</td>\n      <td>0.0</td>\n      <td>-90.0</td>\n      <td>0.0</td>\n      <td>55.029997</td>\n    </tr>\n    <tr>\n      <th>1528</th>\n      <td>GCK</td>\n      <td>NC</td>\n      <td>EHZ,SHZ</td>\n      <td>--</td>\n      <td>100.0</td>\n      <td>2000-06-06 21:58:00</td>\n      <td>2025-01-01 00:00:00</td>\n      <td>39.54375</td>\n      <td>-122.43668</td>\n      <td>251.0</td>\n      <td>0.0</td>\n      <td>-90.0</td>\n      <td>0.0</td>\n      <td>71.129241</td>\n    </tr>\n    <tr>\n      <th>1628</th>\n      <td>GFC</td>\n      <td>NC</td>\n      <td>EHZ,SHZ</td>\n      <td>--</td>\n      <td>100.0</td>\n      <td>2001-04-03 23:25:00</td>\n      <td>2020-03-18 22:53:00</td>\n      <td>39.32655</td>\n      <td>-122.28886</td>\n      <td>64.0</td>\n      <td>0.0</td>\n      <td>-90.0</td>\n      <td>0.0</td>\n      <td>98.346307</td>\n    </tr>\n    <tr>\n      <th>1689</th>\n      <td>GHM</td>\n      <td>NC</td>\n      <td>EHZ,SHZ</td>\n      <td>--</td>\n      <td>100.0</td>\n      <td>1987-05-01 00:00:00</td>\n      <td>2025-01-01 00:00:00</td>\n      <td>39.49545</td>\n      <td>-122.93096</td>\n      <td>1456.0</td>\n      <td>0.0</td>\n      <td>-90.0</td>\n      <td>0.0</td>\n      <td>66.387179</td>\n    </tr>\n    <tr>\n      <th>1744</th>\n      <td>GRO</td>\n      <td>NC</td>\n      <td>EHZ,SHZ</td>\n      <td>--</td>\n      <td>100.0</td>\n      <td>1990-12-13 23:30:00</td>\n      <td>2025-01-01 00:00:00</td>\n      <td>39.91684</td>\n      <td>-122.67117</td>\n      <td>1261.0</td>\n      <td>0.0</td>\n      <td>-90.0</td>\n      <td>0.0</td>\n      <td>25.657089</td>\n    </tr>\n  </tbody>\n</table>\n</div>"
     },
     "metadata": {},
     "execution_count": 46
    }
   ],
   "source": [
    "def f(x):\n",
    "    \"\"\"\n",
    "    Concatenate channels\n",
    "    \"\"\"\n",
    "    result = '%s' % ','.join(x)\n",
    "    result = list(set(result.split(',')))\n",
    "    result = '%s' % ','.join(result)\n",
    "    return result\n",
    "data_close['channel'] = f(data_close.channel)\n",
    "data_close.head()"
   ]
  },
  {
   "cell_type": "code",
   "execution_count": 51,
   "id": "31b99603",
   "metadata": {},
   "outputs": [
    {
     "output_type": "execute_result",
     "data": {
      "text/plain": [
       "     station network  channel location   rate          start_time  \\\n",
       "1493     GBB      NC  EHZ,SHZ       --  100.0 2000-12-06 18:38:00   \n",
       "1528     GCK      NC  EHZ,SHZ       --  100.0 2000-06-06 21:58:00   \n",
       "1628     GFC      NC  EHZ,SHZ       --  100.0 2001-04-03 23:25:00   \n",
       "1689     GHM      NC  EHZ,SHZ       --  100.0 1987-05-01 00:00:00   \n",
       "1744     GRO      NC  EHZ,SHZ       --  100.0 1990-12-13 23:30:00   \n",
       "\n",
       "                end_time  latitude  longitude  elevation  depth   dip  \\\n",
       "1493 2025-01-01 00:00:00  39.80127 -122.34550      170.0    0.0 -90.0   \n",
       "1528 2025-01-01 00:00:00  39.54375 -122.43668      251.0    0.0 -90.0   \n",
       "1628 2020-03-18 22:53:00  39.32655 -122.28886       64.0    0.0 -90.0   \n",
       "1689 2025-01-01 00:00:00  39.49545 -122.93096     1456.0    0.0 -90.0   \n",
       "1744 2025-01-01 00:00:00  39.91684 -122.67117     1261.0    0.0 -90.0   \n",
       "\n",
       "      azimuth   distance  \n",
       "1493      0.0  55.029997  \n",
       "1528      0.0  71.129241  \n",
       "1628      0.0  98.346307  \n",
       "1689      0.0  66.387179  \n",
       "1744      0.0  25.657089  "
      ],
      "text/html": "<div>\n<style scoped>\n    .dataframe tbody tr th:only-of-type {\n        vertical-align: middle;\n    }\n\n    .dataframe tbody tr th {\n        vertical-align: top;\n    }\n\n    .dataframe thead th {\n        text-align: right;\n    }\n</style>\n<table border=\"1\" class=\"dataframe\">\n  <thead>\n    <tr style=\"text-align: right;\">\n      <th></th>\n      <th>station</th>\n      <th>network</th>\n      <th>channel</th>\n      <th>location</th>\n      <th>rate</th>\n      <th>start_time</th>\n      <th>end_time</th>\n      <th>latitude</th>\n      <th>longitude</th>\n      <th>elevation</th>\n      <th>depth</th>\n      <th>dip</th>\n      <th>azimuth</th>\n      <th>distance</th>\n    </tr>\n  </thead>\n  <tbody>\n    <tr>\n      <th>1493</th>\n      <td>GBB</td>\n      <td>NC</td>\n      <td>EHZ,SHZ</td>\n      <td>--</td>\n      <td>100.0</td>\n      <td>2000-12-06 18:38:00</td>\n      <td>2025-01-01 00:00:00</td>\n      <td>39.80127</td>\n      <td>-122.34550</td>\n      <td>170.0</td>\n      <td>0.0</td>\n      <td>-90.0</td>\n      <td>0.0</td>\n      <td>55.029997</td>\n    </tr>\n    <tr>\n      <th>1528</th>\n      <td>GCK</td>\n      <td>NC</td>\n      <td>EHZ,SHZ</td>\n      <td>--</td>\n      <td>100.0</td>\n      <td>2000-06-06 21:58:00</td>\n      <td>2025-01-01 00:00:00</td>\n      <td>39.54375</td>\n      <td>-122.43668</td>\n      <td>251.0</td>\n      <td>0.0</td>\n      <td>-90.0</td>\n      <td>0.0</td>\n      <td>71.129241</td>\n    </tr>\n    <tr>\n      <th>1628</th>\n      <td>GFC</td>\n      <td>NC</td>\n      <td>EHZ,SHZ</td>\n      <td>--</td>\n      <td>100.0</td>\n      <td>2001-04-03 23:25:00</td>\n      <td>2020-03-18 22:53:00</td>\n      <td>39.32655</td>\n      <td>-122.28886</td>\n      <td>64.0</td>\n      <td>0.0</td>\n      <td>-90.0</td>\n      <td>0.0</td>\n      <td>98.346307</td>\n    </tr>\n    <tr>\n      <th>1689</th>\n      <td>GHM</td>\n      <td>NC</td>\n      <td>EHZ,SHZ</td>\n      <td>--</td>\n      <td>100.0</td>\n      <td>1987-05-01 00:00:00</td>\n      <td>2025-01-01 00:00:00</td>\n      <td>39.49545</td>\n      <td>-122.93096</td>\n      <td>1456.0</td>\n      <td>0.0</td>\n      <td>-90.0</td>\n      <td>0.0</td>\n      <td>66.387179</td>\n    </tr>\n    <tr>\n      <th>1744</th>\n      <td>GRO</td>\n      <td>NC</td>\n      <td>EHZ,SHZ</td>\n      <td>--</td>\n      <td>100.0</td>\n      <td>1990-12-13 23:30:00</td>\n      <td>2025-01-01 00:00:00</td>\n      <td>39.91684</td>\n      <td>-122.67117</td>\n      <td>1261.0</td>\n      <td>0.0</td>\n      <td>-90.0</td>\n      <td>0.0</td>\n      <td>25.657089</td>\n    </tr>\n  </tbody>\n</table>\n</div>"
     },
     "metadata": {},
     "execution_count": 51
    }
   ],
   "source": [
    "data_close.groupby(['station']).agg({'start_time':lambda x: min(x), 'end_time':lambda x: max(x)})\n",
    "data_close.reset_index()\n",
    "data_close.head()"
   ]
  },
  {
   "cell_type": "markdown",
   "id": "138d00ad",
   "metadata": {},
   "source": [
    "## Q4  (3 points)\n",
    "\n",
    "How many stations are left in the dataset? Can you plot them using a mapping toolbox or matplotlib? Please add  axis labels, update the fontsize to 14 points, add a title, and a legend, save the file as a PNG."
   ]
  },
  {
   "cell_type": "code",
   "execution_count": 48,
   "id": "db24acca",
   "metadata": {},
   "outputs": [
    {
     "output_type": "execute_result",
     "data": {
      "text/plain": [
       "26"
      ]
     },
     "metadata": {},
     "execution_count": 48
    }
   ],
   "source": [
    "data_close.station.count()"
   ]
  },
  {
   "cell_type": "code",
   "execution_count": 49,
   "metadata": {},
   "outputs": [
    {
     "output_type": "display_data",
     "data": {
      "text/plain": "<Figure size 432x288 with 1 Axes>",
      "image/svg+xml": "<?xml version=\"1.0\" encoding=\"utf-8\" standalone=\"no\"?>\r\n<!DOCTYPE svg PUBLIC \"-//W3C//DTD SVG 1.1//EN\"\r\n  \"http://www.w3.org/Graphics/SVG/1.1/DTD/svg11.dtd\">\r\n<!-- Created with matplotlib (https://matplotlib.org/) -->\r\n<svg height=\"288.704125pt\" version=\"1.1\" viewBox=\"0 0 512.093437 288.704125\" width=\"512.093437pt\" xmlns=\"http://www.w3.org/2000/svg\" xmlns:xlink=\"http://www.w3.org/1999/xlink\">\r\n <metadata>\r\n  <rdf:RDF xmlns:cc=\"http://creativecommons.org/ns#\" xmlns:dc=\"http://purl.org/dc/elements/1.1/\" xmlns:rdf=\"http://www.w3.org/1999/02/22-rdf-syntax-ns#\">\r\n   <cc:Work>\r\n    <dc:type rdf:resource=\"http://purl.org/dc/dcmitype/StillImage\"/>\r\n    <dc:date>2021-04-21T10:17:09.612420</dc:date>\r\n    <dc:format>image/svg+xml</dc:format>\r\n    <dc:creator>\r\n     <cc:Agent>\r\n      <dc:title>Matplotlib v3.3.2, https://matplotlib.org/</dc:title>\r\n     </cc:Agent>\r\n    </dc:creator>\r\n   </cc:Work>\r\n  </rdf:RDF>\r\n </metadata>\r\n <defs>\r\n  <style type=\"text/css\">*{stroke-linecap:butt;stroke-linejoin:round;}</style>\r\n </defs>\r\n <g id=\"figure_1\">\r\n  <g id=\"patch_1\">\r\n   <path d=\"M 0 288.704125 \r\nL 512.093437 288.704125 \r\nL 512.093437 0 \r\nL 0 0 \r\nz\r\n\" style=\"fill:none;\"/>\r\n  </g>\r\n  <g id=\"axes_1\">\r\n   <g id=\"patch_2\">\r\n    <path d=\"M 62.92125 243.405375 \r\nL 397.72125 243.405375 \r\nL 397.72125 25.965375 \r\nL 62.92125 25.965375 \r\nz\r\n\" style=\"fill:#ffffff;\"/>\r\n   </g>\r\n   <g id=\"PathCollection_1\">\r\n    <defs>\r\n     <path d=\"M 0 3 \r\nC 0.795609 3 1.55874 2.683901 2.12132 2.12132 \r\nC 2.683901 1.55874 3 0.795609 3 0 \r\nC 3 -0.795609 2.683901 -1.55874 2.12132 -2.12132 \r\nC 1.55874 -2.683901 0.795609 -3 0 -3 \r\nC -0.795609 -3 -1.55874 -2.683901 -2.12132 -2.12132 \r\nC -2.683901 -1.55874 -3 -0.795609 -3 0 \r\nC -3 0.795609 -2.683901 1.55874 -2.12132 2.12132 \r\nC -1.55874 2.683901 -0.795609 3 0 3 \r\nz\r\n\" id=\"m70e821a9a5\" style=\"stroke:#1f77b4;\"/>\r\n    </defs>\r\n    <g clip-path=\"url(#p3818136896)\">\r\n     <use style=\"fill:#1f77b4;stroke:#1f77b4;\" x=\"295.163298\" xlink:href=\"#m70e821a9a5\" y=\"173.051793\"/>\r\n     <use style=\"fill:#1f77b4;stroke:#1f77b4;\" x=\"281.748818\" xlink:href=\"#m70e821a9a5\" y=\"204.853901\"/>\r\n     <use style=\"fill:#1f77b4;stroke:#1f77b4;\" x=\"303.496224\" xlink:href=\"#m70e821a9a5\" y=\"231.676742\"/>\r\n     <use style=\"fill:#1f77b4;stroke:#1f77b4;\" x=\"209.029919\" xlink:href=\"#m70e821a9a5\" y=\"210.818649\"/>\r\n     <use style=\"fill:#1f77b4;stroke:#1f77b4;\" x=\"247.250447\" xlink:href=\"#m70e821a9a5\" y=\"158.779621\"/>\r\n     <use style=\"fill:#1f77b4;stroke:#1f77b4;\" x=\"117.173539\" xlink:href=\"#m70e821a9a5\" y=\"222.675283\"/>\r\n     <use style=\"fill:#1f77b4;stroke:#1f77b4;\" x=\"257.223771\" xlink:href=\"#m70e821a9a5\" y=\"233.521739\"/>\r\n     <use style=\"fill:#1f77b4;stroke:#1f77b4;\" x=\"170.179713\" xlink:href=\"#m70e821a9a5\" y=\"161.801513\"/>\r\n     <use style=\"fill:#1f77b4;stroke:#1f77b4;\" x=\"111.246039\" xlink:href=\"#m70e821a9a5\" y=\"158.736399\"/>\r\n     <use style=\"fill:#1f77b4;stroke:#1f77b4;\" x=\"78.139432\" xlink:href=\"#m70e821a9a5\" y=\"95.847211\"/>\r\n     <use style=\"fill:#1f77b4;stroke:#1f77b4;\" x=\"123.2614\" xlink:href=\"#m70e821a9a5\" y=\"82.081363\"/>\r\n     <use style=\"fill:#1f77b4;stroke:#1f77b4;\" x=\"136.325732\" xlink:href=\"#m70e821a9a5\" y=\"193.104707\"/>\r\n     <use style=\"fill:#1f77b4;stroke:#1f77b4;\" x=\"128.063425\" xlink:href=\"#m70e821a9a5\" y=\"172.170048\"/>\r\n     <use style=\"fill:#1f77b4;stroke:#1f77b4;\" x=\"129.777383\" xlink:href=\"#m70e821a9a5\" y=\"130.505729\"/>\r\n     <use style=\"fill:#1f77b4;stroke:#1f77b4;\" x=\"145.426629\" xlink:href=\"#m70e821a9a5\" y=\"105.806981\"/>\r\n     <use style=\"fill:#1f77b4;stroke:#1f77b4;\" x=\"171.851006\" xlink:href=\"#m70e821a9a5\" y=\"202.458123\"/>\r\n     <use style=\"fill:#1f77b4;stroke:#1f77b4;\" x=\"216.243255\" xlink:href=\"#m70e821a9a5\" y=\"109.398179\"/>\r\n     <use style=\"fill:#1f77b4;stroke:#1f77b4;\" x=\"377.430341\" xlink:href=\"#m70e821a9a5\" y=\"95.277905\"/>\r\n     <use style=\"fill:#1f77b4;stroke:#1f77b4;\" x=\"223.958273\" xlink:href=\"#m70e821a9a5\" y=\"35.849011\"/>\r\n     <use style=\"fill:#1f77b4;stroke:#1f77b4;\" x=\"244.792058\" xlink:href=\"#m70e821a9a5\" y=\"130.586\"/>\r\n     <use style=\"fill:#1f77b4;stroke:#1f77b4;\" x=\"263.941309\" xlink:href=\"#m70e821a9a5\" y=\"130.821873\"/>\r\n     <use style=\"fill:#1f77b4;stroke:#1f77b4;\" x=\"268.94489\" xlink:href=\"#m70e821a9a5\" y=\"67.230006\"/>\r\n     <use style=\"fill:#1f77b4;stroke:#1f77b4;\" x=\"327.53283\" xlink:href=\"#m70e821a9a5\" y=\"122.771316\"/>\r\n     <use style=\"fill:#1f77b4;stroke:#1f77b4;\" x=\"247.054777\" xlink:href=\"#m70e821a9a5\" y=\"143.647933\"/>\r\n     <use style=\"fill:#1f77b4;stroke:#1f77b4;\" x=\"353.559981\" xlink:href=\"#m70e821a9a5\" y=\"69.251599\"/>\r\n     <use style=\"fill:#1f77b4;stroke:#1f77b4;\" x=\"382.503068\" xlink:href=\"#m70e821a9a5\" y=\"164.818465\"/>\r\n    </g>\r\n   </g>\r\n   <g id=\"matplotlib.axis_1\">\r\n    <g id=\"xtick_1\">\r\n     <g id=\"line2d_1\">\r\n      <path clip-path=\"url(#p3818136896)\" d=\"M 125.312265 243.405375 \r\nL 125.312265 25.965375 \r\n\" style=\"fill:none;stroke:#b0b0b0;stroke-linecap:square;stroke-width:0.8;\"/>\r\n     </g>\r\n     <g id=\"line2d_2\">\r\n      <defs>\r\n       <path d=\"M 0 0 \r\nL 0 3.5 \r\n\" id=\"m9a4fb083fb\" style=\"stroke:#000000;stroke-width:0.8;\"/>\r\n      </defs>\r\n      <g>\r\n       <use style=\"stroke:#000000;stroke-width:0.8;\" x=\"125.312265\" xlink:href=\"#m9a4fb083fb\" y=\"243.405375\"/>\r\n      </g>\r\n     </g>\r\n     <g id=\"text_1\">\r\n      <!-- −123.5 -->\r\n      <g transform=\"translate(99.406796 261.043187)scale(0.14 -0.14)\">\r\n       <defs>\r\n        <path d=\"M 10.59375 35.5 \r\nL 73.1875 35.5 \r\nL 73.1875 27.203125 \r\nL 10.59375 27.203125 \r\nz\r\n\" id=\"DejaVuSans-8722\"/>\r\n        <path d=\"M 12.40625 8.296875 \r\nL 28.515625 8.296875 \r\nL 28.515625 63.921875 \r\nL 10.984375 60.40625 \r\nL 10.984375 69.390625 \r\nL 28.421875 72.90625 \r\nL 38.28125 72.90625 \r\nL 38.28125 8.296875 \r\nL 54.390625 8.296875 \r\nL 54.390625 0 \r\nL 12.40625 0 \r\nz\r\n\" id=\"DejaVuSans-49\"/>\r\n        <path d=\"M 19.1875 8.296875 \r\nL 53.609375 8.296875 \r\nL 53.609375 0 \r\nL 7.328125 0 \r\nL 7.328125 8.296875 \r\nQ 12.9375 14.109375 22.625 23.890625 \r\nQ 32.328125 33.6875 34.8125 36.53125 \r\nQ 39.546875 41.84375 41.421875 45.53125 \r\nQ 43.3125 49.21875 43.3125 52.78125 \r\nQ 43.3125 58.59375 39.234375 62.25 \r\nQ 35.15625 65.921875 28.609375 65.921875 \r\nQ 23.96875 65.921875 18.8125 64.3125 \r\nQ 13.671875 62.703125 7.8125 59.421875 \r\nL 7.8125 69.390625 \r\nQ 13.765625 71.78125 18.9375 73 \r\nQ 24.125 74.21875 28.421875 74.21875 \r\nQ 39.75 74.21875 46.484375 68.546875 \r\nQ 53.21875 62.890625 53.21875 53.421875 \r\nQ 53.21875 48.921875 51.53125 44.890625 \r\nQ 49.859375 40.875 45.40625 35.40625 \r\nQ 44.1875 33.984375 37.640625 27.21875 \r\nQ 31.109375 20.453125 19.1875 8.296875 \r\nz\r\n\" id=\"DejaVuSans-50\"/>\r\n        <path d=\"M 40.578125 39.3125 \r\nQ 47.65625 37.796875 51.625 33 \r\nQ 55.609375 28.21875 55.609375 21.1875 \r\nQ 55.609375 10.40625 48.1875 4.484375 \r\nQ 40.765625 -1.421875 27.09375 -1.421875 \r\nQ 22.515625 -1.421875 17.65625 -0.515625 \r\nQ 12.796875 0.390625 7.625 2.203125 \r\nL 7.625 11.71875 \r\nQ 11.71875 9.328125 16.59375 8.109375 \r\nQ 21.484375 6.890625 26.8125 6.890625 \r\nQ 36.078125 6.890625 40.9375 10.546875 \r\nQ 45.796875 14.203125 45.796875 21.1875 \r\nQ 45.796875 27.640625 41.28125 31.265625 \r\nQ 36.765625 34.90625 28.71875 34.90625 \r\nL 20.21875 34.90625 \r\nL 20.21875 43.015625 \r\nL 29.109375 43.015625 \r\nQ 36.375 43.015625 40.234375 45.921875 \r\nQ 44.09375 48.828125 44.09375 54.296875 \r\nQ 44.09375 59.90625 40.109375 62.90625 \r\nQ 36.140625 65.921875 28.71875 65.921875 \r\nQ 24.65625 65.921875 20.015625 65.03125 \r\nQ 15.375 64.15625 9.8125 62.3125 \r\nL 9.8125 71.09375 \r\nQ 15.4375 72.65625 20.34375 73.4375 \r\nQ 25.25 74.21875 29.59375 74.21875 \r\nQ 40.828125 74.21875 47.359375 69.109375 \r\nQ 53.90625 64.015625 53.90625 55.328125 \r\nQ 53.90625 49.265625 50.4375 45.09375 \r\nQ 46.96875 40.921875 40.578125 39.3125 \r\nz\r\n\" id=\"DejaVuSans-51\"/>\r\n        <path d=\"M 10.6875 12.40625 \r\nL 21 12.40625 \r\nL 21 0 \r\nL 10.6875 0 \r\nz\r\n\" id=\"DejaVuSans-46\"/>\r\n        <path d=\"M 10.796875 72.90625 \r\nL 49.515625 72.90625 \r\nL 49.515625 64.59375 \r\nL 19.828125 64.59375 \r\nL 19.828125 46.734375 \r\nQ 21.96875 47.46875 24.109375 47.828125 \r\nQ 26.265625 48.1875 28.421875 48.1875 \r\nQ 40.625 48.1875 47.75 41.5 \r\nQ 54.890625 34.8125 54.890625 23.390625 \r\nQ 54.890625 11.625 47.5625 5.09375 \r\nQ 40.234375 -1.421875 26.90625 -1.421875 \r\nQ 22.3125 -1.421875 17.546875 -0.640625 \r\nQ 12.796875 0.140625 7.71875 1.703125 \r\nL 7.71875 11.625 \r\nQ 12.109375 9.234375 16.796875 8.0625 \r\nQ 21.484375 6.890625 26.703125 6.890625 \r\nQ 35.15625 6.890625 40.078125 11.328125 \r\nQ 45.015625 15.765625 45.015625 23.390625 \r\nQ 45.015625 31 40.078125 35.4375 \r\nQ 35.15625 39.890625 26.703125 39.890625 \r\nQ 22.75 39.890625 18.8125 39.015625 \r\nQ 14.890625 38.140625 10.796875 36.28125 \r\nz\r\n\" id=\"DejaVuSans-53\"/>\r\n       </defs>\r\n       <use xlink:href=\"#DejaVuSans-8722\"/>\r\n       <use x=\"83.789062\" xlink:href=\"#DejaVuSans-49\"/>\r\n       <use x=\"147.412109\" xlink:href=\"#DejaVuSans-50\"/>\r\n       <use x=\"211.035156\" xlink:href=\"#DejaVuSans-51\"/>\r\n       <use x=\"274.658203\" xlink:href=\"#DejaVuSans-46\"/>\r\n       <use x=\"306.445312\" xlink:href=\"#DejaVuSans-53\"/>\r\n      </g>\r\n     </g>\r\n    </g>\r\n    <g id=\"xtick_2\">\r\n     <g id=\"line2d_3\">\r\n      <path clip-path=\"url(#p3818136896)\" d=\"M 198.872695 243.405375 \r\nL 198.872695 25.965375 \r\n\" style=\"fill:none;stroke:#b0b0b0;stroke-linecap:square;stroke-width:0.8;\"/>\r\n     </g>\r\n     <g id=\"line2d_4\">\r\n      <g>\r\n       <use style=\"stroke:#000000;stroke-width:0.8;\" x=\"198.872695\" xlink:href=\"#m9a4fb083fb\" y=\"243.405375\"/>\r\n      </g>\r\n     </g>\r\n     <g id=\"text_2\">\r\n      <!-- −123.0 -->\r\n      <g transform=\"translate(172.967226 261.043187)scale(0.14 -0.14)\">\r\n       <defs>\r\n        <path d=\"M 31.78125 66.40625 \r\nQ 24.171875 66.40625 20.328125 58.90625 \r\nQ 16.5 51.421875 16.5 36.375 \r\nQ 16.5 21.390625 20.328125 13.890625 \r\nQ 24.171875 6.390625 31.78125 6.390625 \r\nQ 39.453125 6.390625 43.28125 13.890625 \r\nQ 47.125 21.390625 47.125 36.375 \r\nQ 47.125 51.421875 43.28125 58.90625 \r\nQ 39.453125 66.40625 31.78125 66.40625 \r\nz\r\nM 31.78125 74.21875 \r\nQ 44.046875 74.21875 50.515625 64.515625 \r\nQ 56.984375 54.828125 56.984375 36.375 \r\nQ 56.984375 17.96875 50.515625 8.265625 \r\nQ 44.046875 -1.421875 31.78125 -1.421875 \r\nQ 19.53125 -1.421875 13.0625 8.265625 \r\nQ 6.59375 17.96875 6.59375 36.375 \r\nQ 6.59375 54.828125 13.0625 64.515625 \r\nQ 19.53125 74.21875 31.78125 74.21875 \r\nz\r\n\" id=\"DejaVuSans-48\"/>\r\n       </defs>\r\n       <use xlink:href=\"#DejaVuSans-8722\"/>\r\n       <use x=\"83.789062\" xlink:href=\"#DejaVuSans-49\"/>\r\n       <use x=\"147.412109\" xlink:href=\"#DejaVuSans-50\"/>\r\n       <use x=\"211.035156\" xlink:href=\"#DejaVuSans-51\"/>\r\n       <use x=\"274.658203\" xlink:href=\"#DejaVuSans-46\"/>\r\n       <use x=\"306.445312\" xlink:href=\"#DejaVuSans-48\"/>\r\n      </g>\r\n     </g>\r\n    </g>\r\n    <g id=\"xtick_3\">\r\n     <g id=\"line2d_5\">\r\n      <path clip-path=\"url(#p3818136896)\" d=\"M 272.433125 243.405375 \r\nL 272.433125 25.965375 \r\n\" style=\"fill:none;stroke:#b0b0b0;stroke-linecap:square;stroke-width:0.8;\"/>\r\n     </g>\r\n     <g id=\"line2d_6\">\r\n      <g>\r\n       <use style=\"stroke:#000000;stroke-width:0.8;\" x=\"272.433125\" xlink:href=\"#m9a4fb083fb\" y=\"243.405375\"/>\r\n      </g>\r\n     </g>\r\n     <g id=\"text_3\">\r\n      <!-- −122.5 -->\r\n      <g transform=\"translate(246.527656 261.043187)scale(0.14 -0.14)\">\r\n       <use xlink:href=\"#DejaVuSans-8722\"/>\r\n       <use x=\"83.789062\" xlink:href=\"#DejaVuSans-49\"/>\r\n       <use x=\"147.412109\" xlink:href=\"#DejaVuSans-50\"/>\r\n       <use x=\"211.035156\" xlink:href=\"#DejaVuSans-50\"/>\r\n       <use x=\"274.658203\" xlink:href=\"#DejaVuSans-46\"/>\r\n       <use x=\"306.445312\" xlink:href=\"#DejaVuSans-53\"/>\r\n      </g>\r\n     </g>\r\n    </g>\r\n    <g id=\"xtick_4\">\r\n     <g id=\"line2d_7\">\r\n      <path clip-path=\"url(#p3818136896)\" d=\"M 345.993555 243.405375 \r\nL 345.993555 25.965375 \r\n\" style=\"fill:none;stroke:#b0b0b0;stroke-linecap:square;stroke-width:0.8;\"/>\r\n     </g>\r\n     <g id=\"line2d_8\">\r\n      <g>\r\n       <use style=\"stroke:#000000;stroke-width:0.8;\" x=\"345.993555\" xlink:href=\"#m9a4fb083fb\" y=\"243.405375\"/>\r\n      </g>\r\n     </g>\r\n     <g id=\"text_4\">\r\n      <!-- −122.0 -->\r\n      <g transform=\"translate(320.088087 261.043187)scale(0.14 -0.14)\">\r\n       <use xlink:href=\"#DejaVuSans-8722\"/>\r\n       <use x=\"83.789062\" xlink:href=\"#DejaVuSans-49\"/>\r\n       <use x=\"147.412109\" xlink:href=\"#DejaVuSans-50\"/>\r\n       <use x=\"211.035156\" xlink:href=\"#DejaVuSans-50\"/>\r\n       <use x=\"274.658203\" xlink:href=\"#DejaVuSans-46\"/>\r\n       <use x=\"306.445312\" xlink:href=\"#DejaVuSans-48\"/>\r\n      </g>\r\n     </g>\r\n    </g>\r\n    <g id=\"text_5\">\r\n     <!-- Longitude -->\r\n     <g transform=\"translate(195.503906 278.592562)scale(0.14 -0.14)\">\r\n      <defs>\r\n       <path d=\"M 9.8125 72.90625 \r\nL 19.671875 72.90625 \r\nL 19.671875 8.296875 \r\nL 55.171875 8.296875 \r\nL 55.171875 0 \r\nL 9.8125 0 \r\nz\r\n\" id=\"DejaVuSans-76\"/>\r\n       <path d=\"M 30.609375 48.390625 \r\nQ 23.390625 48.390625 19.1875 42.75 \r\nQ 14.984375 37.109375 14.984375 27.296875 \r\nQ 14.984375 17.484375 19.15625 11.84375 \r\nQ 23.34375 6.203125 30.609375 6.203125 \r\nQ 37.796875 6.203125 41.984375 11.859375 \r\nQ 46.1875 17.53125 46.1875 27.296875 \r\nQ 46.1875 37.015625 41.984375 42.703125 \r\nQ 37.796875 48.390625 30.609375 48.390625 \r\nz\r\nM 30.609375 56 \r\nQ 42.328125 56 49.015625 48.375 \r\nQ 55.71875 40.765625 55.71875 27.296875 \r\nQ 55.71875 13.875 49.015625 6.21875 \r\nQ 42.328125 -1.421875 30.609375 -1.421875 \r\nQ 18.84375 -1.421875 12.171875 6.21875 \r\nQ 5.515625 13.875 5.515625 27.296875 \r\nQ 5.515625 40.765625 12.171875 48.375 \r\nQ 18.84375 56 30.609375 56 \r\nz\r\n\" id=\"DejaVuSans-111\"/>\r\n       <path d=\"M 54.890625 33.015625 \r\nL 54.890625 0 \r\nL 45.90625 0 \r\nL 45.90625 32.71875 \r\nQ 45.90625 40.484375 42.875 44.328125 \r\nQ 39.84375 48.1875 33.796875 48.1875 \r\nQ 26.515625 48.1875 22.3125 43.546875 \r\nQ 18.109375 38.921875 18.109375 30.90625 \r\nL 18.109375 0 \r\nL 9.078125 0 \r\nL 9.078125 54.6875 \r\nL 18.109375 54.6875 \r\nL 18.109375 46.1875 \r\nQ 21.34375 51.125 25.703125 53.5625 \r\nQ 30.078125 56 35.796875 56 \r\nQ 45.21875 56 50.046875 50.171875 \r\nQ 54.890625 44.34375 54.890625 33.015625 \r\nz\r\n\" id=\"DejaVuSans-110\"/>\r\n       <path d=\"M 45.40625 27.984375 \r\nQ 45.40625 37.75 41.375 43.109375 \r\nQ 37.359375 48.484375 30.078125 48.484375 \r\nQ 22.859375 48.484375 18.828125 43.109375 \r\nQ 14.796875 37.75 14.796875 27.984375 \r\nQ 14.796875 18.265625 18.828125 12.890625 \r\nQ 22.859375 7.515625 30.078125 7.515625 \r\nQ 37.359375 7.515625 41.375 12.890625 \r\nQ 45.40625 18.265625 45.40625 27.984375 \r\nz\r\nM 54.390625 6.78125 \r\nQ 54.390625 -7.171875 48.1875 -13.984375 \r\nQ 42 -20.796875 29.203125 -20.796875 \r\nQ 24.46875 -20.796875 20.265625 -20.09375 \r\nQ 16.0625 -19.390625 12.109375 -17.921875 \r\nL 12.109375 -9.1875 \r\nQ 16.0625 -11.328125 19.921875 -12.34375 \r\nQ 23.78125 -13.375 27.78125 -13.375 \r\nQ 36.625 -13.375 41.015625 -8.765625 \r\nQ 45.40625 -4.15625 45.40625 5.171875 \r\nL 45.40625 9.625 \r\nQ 42.625 4.78125 38.28125 2.390625 \r\nQ 33.9375 0 27.875 0 \r\nQ 17.828125 0 11.671875 7.65625 \r\nQ 5.515625 15.328125 5.515625 27.984375 \r\nQ 5.515625 40.671875 11.671875 48.328125 \r\nQ 17.828125 56 27.875 56 \r\nQ 33.9375 56 38.28125 53.609375 \r\nQ 42.625 51.21875 45.40625 46.390625 \r\nL 45.40625 54.6875 \r\nL 54.390625 54.6875 \r\nz\r\n\" id=\"DejaVuSans-103\"/>\r\n       <path d=\"M 9.421875 54.6875 \r\nL 18.40625 54.6875 \r\nL 18.40625 0 \r\nL 9.421875 0 \r\nz\r\nM 9.421875 75.984375 \r\nL 18.40625 75.984375 \r\nL 18.40625 64.59375 \r\nL 9.421875 64.59375 \r\nz\r\n\" id=\"DejaVuSans-105\"/>\r\n       <path d=\"M 18.3125 70.21875 \r\nL 18.3125 54.6875 \r\nL 36.8125 54.6875 \r\nL 36.8125 47.703125 \r\nL 18.3125 47.703125 \r\nL 18.3125 18.015625 \r\nQ 18.3125 11.328125 20.140625 9.421875 \r\nQ 21.96875 7.515625 27.59375 7.515625 \r\nL 36.8125 7.515625 \r\nL 36.8125 0 \r\nL 27.59375 0 \r\nQ 17.1875 0 13.234375 3.875 \r\nQ 9.28125 7.765625 9.28125 18.015625 \r\nL 9.28125 47.703125 \r\nL 2.6875 47.703125 \r\nL 2.6875 54.6875 \r\nL 9.28125 54.6875 \r\nL 9.28125 70.21875 \r\nz\r\n\" id=\"DejaVuSans-116\"/>\r\n       <path d=\"M 8.5 21.578125 \r\nL 8.5 54.6875 \r\nL 17.484375 54.6875 \r\nL 17.484375 21.921875 \r\nQ 17.484375 14.15625 20.5 10.265625 \r\nQ 23.53125 6.390625 29.59375 6.390625 \r\nQ 36.859375 6.390625 41.078125 11.03125 \r\nQ 45.3125 15.671875 45.3125 23.6875 \r\nL 45.3125 54.6875 \r\nL 54.296875 54.6875 \r\nL 54.296875 0 \r\nL 45.3125 0 \r\nL 45.3125 8.40625 \r\nQ 42.046875 3.421875 37.71875 1 \r\nQ 33.40625 -1.421875 27.6875 -1.421875 \r\nQ 18.265625 -1.421875 13.375 4.4375 \r\nQ 8.5 10.296875 8.5 21.578125 \r\nz\r\nM 31.109375 56 \r\nz\r\n\" id=\"DejaVuSans-117\"/>\r\n       <path d=\"M 45.40625 46.390625 \r\nL 45.40625 75.984375 \r\nL 54.390625 75.984375 \r\nL 54.390625 0 \r\nL 45.40625 0 \r\nL 45.40625 8.203125 \r\nQ 42.578125 3.328125 38.25 0.953125 \r\nQ 33.9375 -1.421875 27.875 -1.421875 \r\nQ 17.96875 -1.421875 11.734375 6.484375 \r\nQ 5.515625 14.40625 5.515625 27.296875 \r\nQ 5.515625 40.1875 11.734375 48.09375 \r\nQ 17.96875 56 27.875 56 \r\nQ 33.9375 56 38.25 53.625 \r\nQ 42.578125 51.265625 45.40625 46.390625 \r\nz\r\nM 14.796875 27.296875 \r\nQ 14.796875 17.390625 18.875 11.75 \r\nQ 22.953125 6.109375 30.078125 6.109375 \r\nQ 37.203125 6.109375 41.296875 11.75 \r\nQ 45.40625 17.390625 45.40625 27.296875 \r\nQ 45.40625 37.203125 41.296875 42.84375 \r\nQ 37.203125 48.484375 30.078125 48.484375 \r\nQ 22.953125 48.484375 18.875 42.84375 \r\nQ 14.796875 37.203125 14.796875 27.296875 \r\nz\r\n\" id=\"DejaVuSans-100\"/>\r\n       <path d=\"M 56.203125 29.59375 \r\nL 56.203125 25.203125 \r\nL 14.890625 25.203125 \r\nQ 15.484375 15.921875 20.484375 11.0625 \r\nQ 25.484375 6.203125 34.421875 6.203125 \r\nQ 39.59375 6.203125 44.453125 7.46875 \r\nQ 49.3125 8.734375 54.109375 11.28125 \r\nL 54.109375 2.78125 \r\nQ 49.265625 0.734375 44.1875 -0.34375 \r\nQ 39.109375 -1.421875 33.890625 -1.421875 \r\nQ 20.796875 -1.421875 13.15625 6.1875 \r\nQ 5.515625 13.8125 5.515625 26.8125 \r\nQ 5.515625 40.234375 12.765625 48.109375 \r\nQ 20.015625 56 32.328125 56 \r\nQ 43.359375 56 49.78125 48.890625 \r\nQ 56.203125 41.796875 56.203125 29.59375 \r\nz\r\nM 47.21875 32.234375 \r\nQ 47.125 39.59375 43.09375 43.984375 \r\nQ 39.0625 48.390625 32.421875 48.390625 \r\nQ 24.90625 48.390625 20.390625 44.140625 \r\nQ 15.875 39.890625 15.1875 32.171875 \r\nz\r\n\" id=\"DejaVuSans-101\"/>\r\n      </defs>\r\n      <use xlink:href=\"#DejaVuSans-76\"/>\r\n      <use x=\"53.962891\" xlink:href=\"#DejaVuSans-111\"/>\r\n      <use x=\"115.144531\" xlink:href=\"#DejaVuSans-110\"/>\r\n      <use x=\"178.523438\" xlink:href=\"#DejaVuSans-103\"/>\r\n      <use x=\"242\" xlink:href=\"#DejaVuSans-105\"/>\r\n      <use x=\"269.783203\" xlink:href=\"#DejaVuSans-116\"/>\r\n      <use x=\"308.992188\" xlink:href=\"#DejaVuSans-117\"/>\r\n      <use x=\"372.371094\" xlink:href=\"#DejaVuSans-100\"/>\r\n      <use x=\"435.847656\" xlink:href=\"#DejaVuSans-101\"/>\r\n     </g>\r\n    </g>\r\n   </g>\r\n   <g id=\"matplotlib.axis_2\">\r\n    <g id=\"ytick_1\">\r\n     <g id=\"line2d_9\">\r\n      <path clip-path=\"url(#p3818136896)\" d=\"M 62.92125 210.256753 \r\nL 397.72125 210.256753 \r\n\" style=\"fill:none;stroke:#b0b0b0;stroke-linecap:square;stroke-width:0.8;\"/>\r\n     </g>\r\n     <g id=\"line2d_10\">\r\n      <defs>\r\n       <path d=\"M 0 0 \r\nL -3.5 0 \r\n\" id=\"ma05d0f2ff7\" style=\"stroke:#000000;stroke-width:0.8;\"/>\r\n      </defs>\r\n      <g>\r\n       <use style=\"stroke:#000000;stroke-width:0.8;\" x=\"62.92125\" xlink:href=\"#ma05d0f2ff7\" y=\"210.256753\"/>\r\n      </g>\r\n     </g>\r\n     <g id=\"text_6\">\r\n      <!-- 39.5 -->\r\n      <g transform=\"translate(24.749375 215.575659)scale(0.14 -0.14)\">\r\n       <defs>\r\n        <path d=\"M 10.984375 1.515625 \r\nL 10.984375 10.5 \r\nQ 14.703125 8.734375 18.5 7.8125 \r\nQ 22.3125 6.890625 25.984375 6.890625 \r\nQ 35.75 6.890625 40.890625 13.453125 \r\nQ 46.046875 20.015625 46.78125 33.40625 \r\nQ 43.953125 29.203125 39.59375 26.953125 \r\nQ 35.25 24.703125 29.984375 24.703125 \r\nQ 19.046875 24.703125 12.671875 31.3125 \r\nQ 6.296875 37.9375 6.296875 49.421875 \r\nQ 6.296875 60.640625 12.9375 67.421875 \r\nQ 19.578125 74.21875 30.609375 74.21875 \r\nQ 43.265625 74.21875 49.921875 64.515625 \r\nQ 56.59375 54.828125 56.59375 36.375 \r\nQ 56.59375 19.140625 48.40625 8.859375 \r\nQ 40.234375 -1.421875 26.421875 -1.421875 \r\nQ 22.703125 -1.421875 18.890625 -0.6875 \r\nQ 15.09375 0.046875 10.984375 1.515625 \r\nz\r\nM 30.609375 32.421875 \r\nQ 37.25 32.421875 41.125 36.953125 \r\nQ 45.015625 41.5 45.015625 49.421875 \r\nQ 45.015625 57.28125 41.125 61.84375 \r\nQ 37.25 66.40625 30.609375 66.40625 \r\nQ 23.96875 66.40625 20.09375 61.84375 \r\nQ 16.21875 57.28125 16.21875 49.421875 \r\nQ 16.21875 41.5 20.09375 36.953125 \r\nQ 23.96875 32.421875 30.609375 32.421875 \r\nz\r\n\" id=\"DejaVuSans-57\"/>\r\n       </defs>\r\n       <use xlink:href=\"#DejaVuSans-51\"/>\r\n       <use x=\"63.623047\" xlink:href=\"#DejaVuSans-57\"/>\r\n       <use x=\"127.246094\" xlink:href=\"#DejaVuSans-46\"/>\r\n       <use x=\"159.033203\" xlink:href=\"#DejaVuSans-53\"/>\r\n      </g>\r\n     </g>\r\n    </g>\r\n    <g id=\"ytick_2\">\r\n     <g id=\"line2d_11\">\r\n      <path clip-path=\"url(#p3818136896)\" d=\"M 62.92125 148.509882 \r\nL 397.72125 148.509882 \r\n\" style=\"fill:none;stroke:#b0b0b0;stroke-linecap:square;stroke-width:0.8;\"/>\r\n     </g>\r\n     <g id=\"line2d_12\">\r\n      <g>\r\n       <use style=\"stroke:#000000;stroke-width:0.8;\" x=\"62.92125\" xlink:href=\"#ma05d0f2ff7\" y=\"148.509882\"/>\r\n      </g>\r\n     </g>\r\n     <g id=\"text_7\">\r\n      <!-- 40.0 -->\r\n      <g transform=\"translate(24.749375 153.828788)scale(0.14 -0.14)\">\r\n       <defs>\r\n        <path d=\"M 37.796875 64.3125 \r\nL 12.890625 25.390625 \r\nL 37.796875 25.390625 \r\nz\r\nM 35.203125 72.90625 \r\nL 47.609375 72.90625 \r\nL 47.609375 25.390625 \r\nL 58.015625 25.390625 \r\nL 58.015625 17.1875 \r\nL 47.609375 17.1875 \r\nL 47.609375 0 \r\nL 37.796875 0 \r\nL 37.796875 17.1875 \r\nL 4.890625 17.1875 \r\nL 4.890625 26.703125 \r\nz\r\n\" id=\"DejaVuSans-52\"/>\r\n       </defs>\r\n       <use xlink:href=\"#DejaVuSans-52\"/>\r\n       <use x=\"63.623047\" xlink:href=\"#DejaVuSans-48\"/>\r\n       <use x=\"127.246094\" xlink:href=\"#DejaVuSans-46\"/>\r\n       <use x=\"159.033203\" xlink:href=\"#DejaVuSans-48\"/>\r\n      </g>\r\n     </g>\r\n    </g>\r\n    <g id=\"ytick_3\">\r\n     <g id=\"line2d_13\">\r\n      <path clip-path=\"url(#p3818136896)\" d=\"M 62.92125 86.763011 \r\nL 397.72125 86.763011 \r\n\" style=\"fill:none;stroke:#b0b0b0;stroke-linecap:square;stroke-width:0.8;\"/>\r\n     </g>\r\n     <g id=\"line2d_14\">\r\n      <g>\r\n       <use style=\"stroke:#000000;stroke-width:0.8;\" x=\"62.92125\" xlink:href=\"#ma05d0f2ff7\" y=\"86.763011\"/>\r\n      </g>\r\n     </g>\r\n     <g id=\"text_8\">\r\n      <!-- 40.5 -->\r\n      <g transform=\"translate(24.749375 92.081917)scale(0.14 -0.14)\">\r\n       <use xlink:href=\"#DejaVuSans-52\"/>\r\n       <use x=\"63.623047\" xlink:href=\"#DejaVuSans-48\"/>\r\n       <use x=\"127.246094\" xlink:href=\"#DejaVuSans-46\"/>\r\n       <use x=\"159.033203\" xlink:href=\"#DejaVuSans-53\"/>\r\n      </g>\r\n     </g>\r\n    </g>\r\n    <g id=\"text_9\">\r\n     <!-- Latitude -->\r\n     <g transform=\"translate(17.837813 163.495844)rotate(-90)scale(0.14 -0.14)\">\r\n      <defs>\r\n       <path d=\"M 34.28125 27.484375 \r\nQ 23.390625 27.484375 19.1875 25 \r\nQ 14.984375 22.515625 14.984375 16.5 \r\nQ 14.984375 11.71875 18.140625 8.90625 \r\nQ 21.296875 6.109375 26.703125 6.109375 \r\nQ 34.1875 6.109375 38.703125 11.40625 \r\nQ 43.21875 16.703125 43.21875 25.484375 \r\nL 43.21875 27.484375 \r\nz\r\nM 52.203125 31.203125 \r\nL 52.203125 0 \r\nL 43.21875 0 \r\nL 43.21875 8.296875 \r\nQ 40.140625 3.328125 35.546875 0.953125 \r\nQ 30.953125 -1.421875 24.3125 -1.421875 \r\nQ 15.921875 -1.421875 10.953125 3.296875 \r\nQ 6 8.015625 6 15.921875 \r\nQ 6 25.140625 12.171875 29.828125 \r\nQ 18.359375 34.515625 30.609375 34.515625 \r\nL 43.21875 34.515625 \r\nL 43.21875 35.40625 \r\nQ 43.21875 41.609375 39.140625 45 \r\nQ 35.0625 48.390625 27.6875 48.390625 \r\nQ 23 48.390625 18.546875 47.265625 \r\nQ 14.109375 46.140625 10.015625 43.890625 \r\nL 10.015625 52.203125 \r\nQ 14.9375 54.109375 19.578125 55.046875 \r\nQ 24.21875 56 28.609375 56 \r\nQ 40.484375 56 46.34375 49.84375 \r\nQ 52.203125 43.703125 52.203125 31.203125 \r\nz\r\n\" id=\"DejaVuSans-97\"/>\r\n      </defs>\r\n      <use xlink:href=\"#DejaVuSans-76\"/>\r\n      <use x=\"55.712891\" xlink:href=\"#DejaVuSans-97\"/>\r\n      <use x=\"116.992188\" xlink:href=\"#DejaVuSans-116\"/>\r\n      <use x=\"156.201172\" xlink:href=\"#DejaVuSans-105\"/>\r\n      <use x=\"183.984375\" xlink:href=\"#DejaVuSans-116\"/>\r\n      <use x=\"223.193359\" xlink:href=\"#DejaVuSans-117\"/>\r\n      <use x=\"286.572266\" xlink:href=\"#DejaVuSans-100\"/>\r\n      <use x=\"350.048828\" xlink:href=\"#DejaVuSans-101\"/>\r\n     </g>\r\n    </g>\r\n   </g>\r\n   <g id=\"patch_3\">\r\n    <path d=\"M 62.92125 243.405375 \r\nL 62.92125 25.965375 \r\n\" style=\"fill:none;stroke:#000000;stroke-linecap:square;stroke-linejoin:miter;stroke-width:0.8;\"/>\r\n   </g>\r\n   <g id=\"patch_4\">\r\n    <path d=\"M 397.72125 243.405375 \r\nL 397.72125 25.965375 \r\n\" style=\"fill:none;stroke:#000000;stroke-linecap:square;stroke-linejoin:miter;stroke-width:0.8;\"/>\r\n   </g>\r\n   <g id=\"patch_5\">\r\n    <path d=\"M 62.92125 243.405375 \r\nL 397.72125 243.405375 \r\n\" style=\"fill:none;stroke:#000000;stroke-linecap:square;stroke-linejoin:miter;stroke-width:0.8;\"/>\r\n   </g>\r\n   <g id=\"patch_6\">\r\n    <path d=\"M 62.92125 25.965375 \r\nL 397.72125 25.965375 \r\n\" style=\"fill:none;stroke:#000000;stroke-linecap:square;stroke-linejoin:miter;stroke-width:0.8;\"/>\r\n   </g>\r\n   <g id=\"text_10\">\r\n    <!-- Station Location -->\r\n    <g transform=\"translate(162.258938 19.965375)scale(0.168 -0.168)\">\r\n     <defs>\r\n      <path d=\"M 53.515625 70.515625 \r\nL 53.515625 60.890625 \r\nQ 47.90625 63.578125 42.921875 64.890625 \r\nQ 37.9375 66.21875 33.296875 66.21875 \r\nQ 25.25 66.21875 20.875 63.09375 \r\nQ 16.5 59.96875 16.5 54.203125 \r\nQ 16.5 49.359375 19.40625 46.890625 \r\nQ 22.3125 44.4375 30.421875 42.921875 \r\nL 36.375 41.703125 \r\nQ 47.40625 39.59375 52.65625 34.296875 \r\nQ 57.90625 29 57.90625 20.125 \r\nQ 57.90625 9.515625 50.796875 4.046875 \r\nQ 43.703125 -1.421875 29.984375 -1.421875 \r\nQ 24.8125 -1.421875 18.96875 -0.25 \r\nQ 13.140625 0.921875 6.890625 3.21875 \r\nL 6.890625 13.375 \r\nQ 12.890625 10.015625 18.65625 8.296875 \r\nQ 24.421875 6.59375 29.984375 6.59375 \r\nQ 38.421875 6.59375 43.015625 9.90625 \r\nQ 47.609375 13.234375 47.609375 19.390625 \r\nQ 47.609375 24.75 44.3125 27.78125 \r\nQ 41.015625 30.8125 33.5 32.328125 \r\nL 27.484375 33.5 \r\nQ 16.453125 35.6875 11.515625 40.375 \r\nQ 6.59375 45.0625 6.59375 53.421875 \r\nQ 6.59375 63.09375 13.40625 68.65625 \r\nQ 20.21875 74.21875 32.171875 74.21875 \r\nQ 37.3125 74.21875 42.625 73.28125 \r\nQ 47.953125 72.359375 53.515625 70.515625 \r\nz\r\n\" id=\"DejaVuSans-83\"/>\r\n      <path id=\"DejaVuSans-32\"/>\r\n      <path d=\"M 48.78125 52.59375 \r\nL 48.78125 44.1875 \r\nQ 44.96875 46.296875 41.140625 47.34375 \r\nQ 37.3125 48.390625 33.40625 48.390625 \r\nQ 24.65625 48.390625 19.8125 42.84375 \r\nQ 14.984375 37.3125 14.984375 27.296875 \r\nQ 14.984375 17.28125 19.8125 11.734375 \r\nQ 24.65625 6.203125 33.40625 6.203125 \r\nQ 37.3125 6.203125 41.140625 7.25 \r\nQ 44.96875 8.296875 48.78125 10.40625 \r\nL 48.78125 2.09375 \r\nQ 45.015625 0.34375 40.984375 -0.53125 \r\nQ 36.96875 -1.421875 32.421875 -1.421875 \r\nQ 20.0625 -1.421875 12.78125 6.34375 \r\nQ 5.515625 14.109375 5.515625 27.296875 \r\nQ 5.515625 40.671875 12.859375 48.328125 \r\nQ 20.21875 56 33.015625 56 \r\nQ 37.15625 56 41.109375 55.140625 \r\nQ 45.0625 54.296875 48.78125 52.59375 \r\nz\r\n\" id=\"DejaVuSans-99\"/>\r\n     </defs>\r\n     <use xlink:href=\"#DejaVuSans-83\"/>\r\n     <use x=\"63.476562\" xlink:href=\"#DejaVuSans-116\"/>\r\n     <use x=\"102.685547\" xlink:href=\"#DejaVuSans-97\"/>\r\n     <use x=\"163.964844\" xlink:href=\"#DejaVuSans-116\"/>\r\n     <use x=\"203.173828\" xlink:href=\"#DejaVuSans-105\"/>\r\n     <use x=\"230.957031\" xlink:href=\"#DejaVuSans-111\"/>\r\n     <use x=\"292.138672\" xlink:href=\"#DejaVuSans-110\"/>\r\n     <use x=\"355.517578\" xlink:href=\"#DejaVuSans-32\"/>\r\n     <use x=\"387.304688\" xlink:href=\"#DejaVuSans-76\"/>\r\n     <use x=\"441.267578\" xlink:href=\"#DejaVuSans-111\"/>\r\n     <use x=\"502.449219\" xlink:href=\"#DejaVuSans-99\"/>\r\n     <use x=\"557.429688\" xlink:href=\"#DejaVuSans-97\"/>\r\n     <use x=\"618.708984\" xlink:href=\"#DejaVuSans-116\"/>\r\n     <use x=\"657.917969\" xlink:href=\"#DejaVuSans-105\"/>\r\n     <use x=\"685.701172\" xlink:href=\"#DejaVuSans-111\"/>\r\n     <use x=\"746.882812\" xlink:href=\"#DejaVuSans-110\"/>\r\n    </g>\r\n   </g>\r\n   <g id=\"legend_1\">\r\n    <g id=\"patch_7\">\r\n     <path d=\"M 407.52125 57.71475 \r\nL 502.093437 57.71475 \r\nQ 504.893438 57.71475 504.893438 54.91475 \r\nL 504.893438 35.765375 \r\nQ 504.893438 32.965375 502.093437 32.965375 \r\nL 407.52125 32.965375 \r\nQ 404.72125 32.965375 404.72125 35.765375 \r\nL 404.72125 54.91475 \r\nQ 404.72125 57.71475 407.52125 57.71475 \r\nz\r\n\" style=\"fill:#ffffff;opacity:0.8;stroke:#cccccc;stroke-linejoin:miter;\"/>\r\n    </g>\r\n    <g id=\"PathCollection_2\">\r\n     <g>\r\n      <use style=\"fill:#1f77b4;stroke:#1f77b4;\" x=\"424.32125\" xlink:href=\"#m70e821a9a5\" y=\"45.528187\"/>\r\n     </g>\r\n    </g>\r\n    <g id=\"text_11\">\r\n     <!-- Station -->\r\n     <g transform=\"translate(449.52125 49.203187)scale(0.14 -0.14)\">\r\n      <use xlink:href=\"#DejaVuSans-83\"/>\r\n      <use x=\"63.476562\" xlink:href=\"#DejaVuSans-116\"/>\r\n      <use x=\"102.685547\" xlink:href=\"#DejaVuSans-97\"/>\r\n      <use x=\"163.964844\" xlink:href=\"#DejaVuSans-116\"/>\r\n      <use x=\"203.173828\" xlink:href=\"#DejaVuSans-105\"/>\r\n      <use x=\"230.957031\" xlink:href=\"#DejaVuSans-111\"/>\r\n      <use x=\"292.138672\" xlink:href=\"#DejaVuSans-110\"/>\r\n     </g>\r\n    </g>\r\n   </g>\r\n  </g>\r\n </g>\r\n <defs>\r\n  <clipPath id=\"p3818136896\">\r\n   <rect height=\"217.44\" width=\"334.8\" x=\"62.92125\" y=\"25.965375\"/>\r\n  </clipPath>\r\n </defs>\r\n</svg>\r\n",
      "image/png": "[encoded data removed]"
     },
     "metadata": {
      "needs_background": "light"
     }
    },
    {
     "output_type": "display_data",
     "data": {
      "text/plain": "<Figure size 432x288 with 0 Axes>"
     },
     "metadata": {}
    }
   ],
   "source": [
    "params = {'legend.fontsize': 14, \\\n",
    "          'xtick.labelsize':14, \\\n",
    "          'ytick.labelsize':14, \\\n",
    "          'font.size':14}\n",
    "plt.rcParams.update(params)\n",
    "plt.scatter(data_close.longitude, data_close.latitude, label = \"Station\")\n",
    "plt.xlabel('Longitude')\n",
    "plt.ylabel('Latitude')\n",
    "plt.title('Station Location')\n",
    "plt.grid(True)\n",
    "plt.legend(bbox_to_anchor = (1, 1), loc = 'upper left')\n",
    "plt.show()\n",
    "plt.savefig('Homework3_Station_Location')"
   ]
  },
  {
   "cell_type": "code",
   "execution_count": null,
   "metadata": {},
   "outputs": [],
   "source": []
  }
 ],
 "metadata": {
  "kernelspec": {
   "name": "python385jvsc74a57bd054e72497fd64358f52832107e3cdfaf9f975ee2964d8f26ed128ba56fc24de73",
   "display_name": "Python 3.8.5 64-bit (conda)"
  },
  "language_info": {
   "codemirror_mode": {
    "name": "ipython",
    "version": 3
   },
   "file_extension": ".py",
   "mimetype": "text/x-python",
   "name": "python",
   "nbconvert_exporter": "python",
   "pygments_lexer": "ipython3",
   "version": "3.8.5"
  }
 },
 "nbformat": 4,
 "nbformat_minor": 5
}
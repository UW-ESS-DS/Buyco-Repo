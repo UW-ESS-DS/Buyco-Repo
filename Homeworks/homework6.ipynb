{
 "cells": [
  {
   "cell_type": "markdown",
   "metadata": {},
   "source": [
    "# K-means clustering - Homework\n",
    "\n",
    "In the tutorial, we have seen how to choose the number of clusters using the elbow method. However, we have also noticed that it does not always work very well. Let us study another method based on the prediction strength.\n",
    "\n",
    "To know more about it, you can read the paper: Tibshirani, R. and Walther, G. (2005) Cluster validation by prediction strength. Journal of Computational and Graphical Statistics 14(3):511-528.\n",
    "\n",
    "In this homework, we are going to  use the function KMeans from the SciKitLearn package. See here for the documentation:\n",
    "\n",
    "https://scikit-learn.org/stable/modules/generated/sklearn.cluster.KMeans.html#sklearn.cluster.KMeans"
   ]
  },
  {
   "cell_type": "markdown",
   "metadata": {},
   "source": [
    "## Prediction strength\n",
    "\n",
    "Suppose we have a dataset of $X = \\left\\{ x_{i , j} \\right\\}$ of $n$ observations of $d$-dimensional variables. Let us divide these observations into a train set $X_{tr}$ and a test set $X_{te}$ of size $n_{tr}$ and $n_{te}$ respectively.\n",
    "\n",
    "Let us choose the number of clusters $k$, and apply clustering to both the training data and the test data independently.\n",
    "\n",
    "Let us now denote $A_{1} , A_{2} , \\cdots , A_{k}$ the indices of the test observations in the test clusters $1 , 2 , \\cdots , k$, and $n_{1} , n_{2} , \\cdots , n_{k}$ the number of observations in these clusters.\n",
    "\n",
    "We now consider the clusters obtained with the training data, and denote this classifying operation $C \\left( X_{tr} \\right)$. We now apply this classifying operation to the test set. \n",
    "\n",
    "Let us now denote $D_j \\left[ C \\left( X_{tr} , k \\right) , X_{te} \\right]$ the $n_{te}$ by $n_{te}$ matrix which $i i'$ element $D_j \\left[ C \\left( X_{tr} , k \\right) , X_{te} \\right] _{i i'}$ is equal to $1$ if observations $i$ and $i'$ from the $j$th cluster of the test set fall into the same training set cluster, and $0$ otherwise. The prediction strength is then defined by:\n",
    "\n",
    "$ps \\left( k \\right) = \\min_{ 1 \\leq j \\leq k} \\frac{1}{n_{j} \\left( n_{j } - 1 \\right)} \\sum_{i \\neq i' \\in A_{j}} D_j \\left[ C \\left( X_{tr} , k \\right) , X_{te} \\right] _{i i'}$ (**eq 1**)"
   ]
  },
  {
   "cell_type": "markdown",
   "metadata": {},
   "source": [
    "## Data gathering and cleaning"
   ]
  },
  {
   "cell_type": "markdown",
   "metadata": {},
   "source": [
    "Import useful Python packages"
   ]
  },
  {
   "cell_type": "code",
   "execution_count": 2,
   "metadata": {},
   "outputs": [],
   "source": [
    "import matplotlib.pyplot as plt\n",
    "import numpy as np\n",
    "import pandas as pd\n",
    "import random\n",
    "from math import cos, sin, pi, sqrt\n",
    "from mpl_toolkits.mplot3d import Axes3D\n",
    "from sklearn import preprocessing\n",
    "from sklearn.cluster import KMeans\n",
    "from sklearn.decomposition import PCA\n",
    "from sklearn.model_selection import train_test_split"
   ]
  },
  {
   "cell_type": "markdown",
   "metadata": {},
   "source": [
    "Set seed for reproducibility"
   ]
  },
  {
   "cell_type": "code",
   "execution_count": 3,
   "metadata": {},
   "outputs": [],
   "source": [
    "random.seed(0)"
   ]
  },
  {
   "cell_type": "markdown",
   "metadata": {},
   "source": [
    "Import data from the PNSN earthquake catalog."
   ]
  },
  {
   "cell_type": "code",
   "execution_count": 4,
   "metadata": {},
   "outputs": [
    {
     "data": {
      "text/html": [
       "<div>\n",
       "<style scoped>\n",
       "    .dataframe tbody tr th:only-of-type {\n",
       "        vertical-align: middle;\n",
       "    }\n",
       "\n",
       "    .dataframe tbody tr th {\n",
       "        vertical-align: top;\n",
       "    }\n",
       "\n",
       "    .dataframe thead th {\n",
       "        text-align: right;\n",
       "    }\n",
       "</style>\n",
       "<table border=\"1\" class=\"dataframe\">\n",
       "  <thead>\n",
       "    <tr style=\"text-align: right;\">\n",
       "      <th></th>\n",
       "      <th>latitude</th>\n",
       "      <th>longitude</th>\n",
       "      <th>depth</th>\n",
       "    </tr>\n",
       "  </thead>\n",
       "  <tbody>\n",
       "    <tr>\n",
       "      <th>0</th>\n",
       "      <td>47.6808</td>\n",
       "      <td>-121.5155</td>\n",
       "      <td>86.8</td>\n",
       "    </tr>\n",
       "    <tr>\n",
       "      <th>1</th>\n",
       "      <td>49.6035</td>\n",
       "      <td>-120.6457</td>\n",
       "      <td>2.3</td>\n",
       "    </tr>\n",
       "    <tr>\n",
       "      <th>2</th>\n",
       "      <td>47.4605</td>\n",
       "      <td>-121.6465</td>\n",
       "      <td>15.6</td>\n",
       "    </tr>\n",
       "    <tr>\n",
       "      <th>3</th>\n",
       "      <td>48.1063</td>\n",
       "      <td>-121.9423</td>\n",
       "      <td>34.7</td>\n",
       "    </tr>\n",
       "    <tr>\n",
       "      <th>4</th>\n",
       "      <td>46.1998</td>\n",
       "      <td>-122.1818</td>\n",
       "      <td>2.4</td>\n",
       "    </tr>\n",
       "  </tbody>\n",
       "</table>\n",
       "</div>"
      ],
      "text/plain": [
       "   latitude  longitude  depth\n",
       "0   47.6808  -121.5155   86.8\n",
       "1   49.6035  -120.6457    2.3\n",
       "2   47.4605  -121.6465   15.6\n",
       "3   48.1063  -121.9423   34.7\n",
       "4   46.1998  -122.1818    2.4"
      ]
     },
     "execution_count": 4,
     "metadata": {},
     "output_type": "execute_result"
    }
   ],
   "source": [
    "catalog = pd.read_csv('pnsn_catalog.csv')\n",
    "catalog.drop(columns=['Evid', 'Magnitude', 'Magnitude Type', 'Epoch(UTC)', 'Time UTC', 'Time Local', 'Distance From', 'Depth Mi'], inplace=True)\n",
    "catalog.columns = ['latitude', 'longitude', 'depth']\n",
    "catalog.head()"
   ]
  },
  {
   "cell_type": "markdown",
   "metadata": {},
   "source": [
    "Apply PCA and normalization."
   ]
  },
  {
   "cell_type": "code",
   "execution_count": 5,
   "metadata": {},
   "outputs": [
    {
     "name": "stdout",
     "output_type": "stream",
     "text": [
      "[[ 7.27207811 -0.54996484]\n",
      " [-0.74988938 -2.0406105 ]\n",
      " [ 0.51108899 -0.5889752 ]\n",
      " ...\n",
      " [-0.12674159  0.13996097]\n",
      " [ 0.790767   -0.288608  ]\n",
      " [-0.93341486 -0.27905588]]\n"
     ]
    }
   ],
   "source": [
    "data = catalog.to_numpy()\n",
    "pca = PCA(n_components=2)\n",
    "data_pca = pca.fit_transform(data)\n",
    "scaler = preprocessing.StandardScaler().fit(data_pca)\n",
    "data_scaled = scaler.transform(data_pca)\n",
    "print(data_scaled)"
   ]
  },
  {
   "cell_type": "markdown",
   "metadata": {},
   "source": [
    "## Homework"
   ]
  },
  {
   "cell_type": "markdown",
   "metadata": {},
   "source": [
    "### Question 1 (1 point)\n",
    "\n",
    "Write code to divide the data into a training set and a test set of approximately the same size."
   ]
  },
  {
   "cell_type": "code",
   "execution_count": 6,
   "metadata": {},
   "outputs": [
    {
     "name": "stdout",
     "output_type": "stream",
     "text": [
      "[[ 7.27207811 -0.54996484]\n",
      " [-0.74988938 -2.0406105 ]\n",
      " [ 0.51108899 -0.5889752 ]\n",
      " ...\n",
      " [-0.49450382 -0.71857488]\n",
      " [-0.32662547  0.6113005 ]\n",
      " [-1.04734392 -0.29341885]]\n"
     ]
    }
   ],
   "source": [
    "x_train, x_test = train_test_split(data_scaled, test_size = 0.5, shuffle = False)\n",
    "print(x_train)"
   ]
  },
  {
   "cell_type": "markdown",
   "metadata": {},
   "source": [
    "### Question 2 (2 points)\n",
    "\n",
    "For now, we choose to have k = 2 clusters.\n",
    "\n",
    "Write code to apply K-means clustering to the training set and the test set using the Kmeans function from ScikitLearn."
   ]
  },
  {
   "cell_type": "code",
   "execution_count": 7,
   "metadata": {},
   "outputs": [],
   "source": [
    "kmeans = KMeans(n_clusters = 2)\n",
    "\n",
    "train_K = kmeans.fit(x_train)\n",
    "test_K = kmeans.fit(x_test)"
   ]
  },
  {
   "cell_type": "markdown",
   "metadata": {},
   "source": [
    "### Question 3 (2 points)\n",
    "\n",
    "Get the clusters for the test set."
   ]
  },
  {
   "cell_type": "code",
   "execution_count": 8,
   "metadata": {},
   "outputs": [
    {
     "name": "stdout",
     "output_type": "stream",
     "text": [
      "[0 0 0 ... 0 0 0]\n"
     ]
    }
   ],
   "source": [
    "clusters = test_K.labels_\n",
    "centroids= test_K.cluster_centers_\n",
    "print(clusters)"
   ]
  },
  {
   "cell_type": "markdown",
   "metadata": {},
   "source": [
    "Plot the data from the test set with two different colors for the two clusters."
   ]
  },
  {
   "cell_type": "code",
   "execution_count": 9,
   "metadata": {},
   "outputs": [
    {
     "data": {
      "image/png": "[encoded data removed]",
      "text/plain": [
       "<Figure size 432x288 with 1 Axes>"
      ]
     },
     "metadata": {
      "needs_background": "light"
     },
     "output_type": "display_data"
    }
   ],
   "source": [
    "plt.scatter(x_test[:,0], x_test[:,1] , c = clusters)          #Assign the data colors based on cluster labels\n",
    "\n",
    "centroids_x = centroids[:,0]                                  #Create centroids for the clusters\n",
    "centroids_y = centroids[:,1]\n",
    "\n",
    "plt.scatter(centroids_x, centroids_y, marker = 'D', s = 50)   #Create and show plot visualizing the two clusters\n",
    "plt.show()"
   ]
  },
  {
   "cell_type": "markdown",
   "metadata": {},
   "source": [
    "### Question 4 (2 points)\n",
    "\n",
    "Use the clustering and centroids from the training set to predict to which cluster the data points from the test set should belong."
   ]
  },
  {
   "cell_type": "code",
   "execution_count": 10,
   "metadata": {},
   "outputs": [
    {
     "name": "stdout",
     "output_type": "stream",
     "text": [
      "[0 0 0 ... 0 0 0]\n"
     ]
    }
   ],
   "source": [
    "test_predict = train_K.predict(x_test)                  #Using the Kmeans used on the training data set on the testing set\n",
    "print(test_predict)"
   ]
  },
  {
   "cell_type": "markdown",
   "metadata": {},
   "source": [
    "Plot the data from the test set with two different colors for the two clusters."
   ]
  },
  {
   "cell_type": "code",
   "execution_count": 11,
   "metadata": {},
   "outputs": [
    {
     "data": {
      "image/png": "[encoded data removed]",
      "text/plain": [
       "<Figure size 432x288 with 1 Axes>"
      ]
     },
     "metadata": {
      "needs_background": "light"
     },
     "output_type": "display_data"
    }
   ],
   "source": [
    "plt.scatter(x_test[:,0], x_test[:,1], c = test_predict)\n",
    "plt.show()"
   ]
  },
  {
   "cell_type": "markdown",
   "metadata": {},
   "source": [
    "### Question 5\n",
    "\n",
    "Compute the prediction strength for $k$ = 2 as defined at the beginning. Hint: use **eq 1** with nested loops"
   ]
  },
  {
   "cell_type": "code",
   "execution_count": 12,
   "metadata": {},
   "outputs": [
    {
     "name": "stdout",
     "output_type": "stream",
     "text": [
      "387816\n",
      "193908.0\n"
     ]
    }
   ],
   "source": [
    "count = 0\n",
    "for i in clusters:                               #nested for loop to calculate prediction strength\n",
    "    for j in clusters:                                                               \n",
    "        if i != j:                               #if the indices are the same then do not run the if statement                     \n",
    "            if clusters[i] == clusters[j] & test_predict[i] == test_predict[j]:   #if the cluster labelfor a pair is the same for the test_model       \n",
    "                count+= 1                                                         #and the predict_model, than 1 is added to the count\n",
    "        \n",
    "print(count)\n",
    "pred_strength = count/(2 * (2-1))               #Calculate predicton strength\n",
    "print(pred_strength)"
   ]
  },
  {
   "cell_type": "markdown",
   "metadata": {},
   "source": [
    "### Question 6\n",
    "\n",
    "Write a function that does steps 1 to 5 for any number $k$ of clusters and return the prediction strength or a given $k$ number of clusters. "
   ]
  },
  {
   "cell_type": "code",
   "execution_count": 13,
   "metadata": {},
   "outputs": [],
   "source": [
    "def KMEANS (data,k):\n",
    "    \n",
    "    #Function that takes in data and an amount of clusters\n",
    "    #runs kmeans functions \n",
    "    #and returns a prediction strength value\n",
    "    \n",
    "    \n",
    "    x_train, x_test = train_test_split(data, test_size = 0.5, shuffle = False)\n",
    "    \n",
    "    kmeans = KMeans(n_clusters = k)\n",
    "\n",
    "    train_K = kmeans.fit(x_train)\n",
    "    test_K = kmeans.fit(x_test)\n",
    "    \n",
    "    model_test = test_K.labels_\n",
    "    model_predict = train_K.predict(x_test)\n",
    "    \n",
    "    count = 0\n",
    "\n",
    "    for i in model_test:\n",
    "        for j in model_test:\n",
    "            if i != j:\n",
    "                if model_test[i] == model_test[j] & model_predict[i] == model_predict[j]:\n",
    "                    count+= 1\n",
    "    pred_strength = count/(k * (k-1))\n",
    "    \n",
    "    return pred_strength"
   ]
  },
  {
   "cell_type": "markdown",
   "metadata": {},
   "source": [
    "### Question 7\n",
    "\n",
    "Apply this function to $k = 2, \\cdots , 20$."
   ]
  },
  {
   "cell_type": "code",
   "execution_count": 15,
   "metadata": {},
   "outputs": [
    {
     "name": "stdout",
     "output_type": "stream",
     "text": [
      "Prediction Strength for k = 2  is 193908.0\n",
      "Prediction Strength for k = 3  is 216947.66666666666\n",
      "Prediction Strength for k = 4  is 26968.5\n",
      "Prediction Strength for k = 5  is 80860.9\n",
      "Prediction Strength for k = 6  is 48516.933333333334\n",
      "Prediction Strength for k = 7  is 24203.52380952381\n",
      "Prediction Strength for k = 8  is 18767.714285714286\n",
      "Prediction Strength for k = 9  is 13818.416666666666\n",
      "Prediction Strength for k = 10  is 5221.0888888888885\n",
      "Prediction Strength for k = 11  is 5348.309090909091\n",
      "Prediction Strength for k = 12  is 3496.090909090909\n",
      "Prediction Strength for k = 13  is 5448.320512820513\n",
      "Prediction Strength for k = 14  is 4351.67032967033\n",
      "Prediction Strength for k = 15  is 3244.7619047619046\n",
      "Prediction Strength for k = 16  is 1908.15\n",
      "Prediction Strength for k = 17  is 1915.9779411764705\n",
      "Prediction Strength for k = 18  is 1848.2875816993464\n",
      "Prediction Strength for k = 19  is 1592.9590643274853\n",
      "Prediction Strength for k = 20  is 1665.2368421052631\n"
     ]
    }
   ],
   "source": [
    "array = np.arange(2,21,1)                                             #Create an array from 2-20 to run in the for loop\n",
    "for i in array:                                                       #For loop to run the KMEANS function for 2-20 clusters and \n",
    "    pred_strengthi = KMEANS(data_scaled, i)                           #calculate and print the prediction strength for each number of clusters\n",
    "    print(\"Prediction Strength for k =\", i, \" is\", pred_strengthi)"
   ]
  },
  {
   "cell_type": "markdown",
   "metadata": {},
   "source": [
    "### Question 8\n",
    "\n",
    "Plot the prediction strength as a function of number of clusters. What is the optimal number of clusters for this dataset?"
   ]
  },
  {
   "cell_type": "code",
   "execution_count": 18,
   "metadata": {},
   "outputs": [
    {
     "data": {
      "image/png": "[encoded data removed]",
      "text/plain": [
       "<Figure size 432x288 with 1 Axes>"
      ]
     },
     "metadata": {
      "needs_background": "light"
     },
     "output_type": "display_data"
    }
   ],
   "source": [
    "pred_strength_array = np.zeros(19)                       #Create an empty array that will have 19 spots for the 2-20 clusters values\n",
    "for i in array:                                   \n",
    "    pred_strength_array[i - 2] = KMEANS(data_scaled,i)   #For every array index, run the KMEANS function for increasing clusters\n",
    "plt.plot(np.arange(2, 21), pred_strength_array)          #Plotting the prediction strengths for increasing clusters\n",
    "plt.xlabel(\"Amount of Clusters for Kmeans Function\")\n",
    "plt.ylabel(\"Predicton Strength\")\n",
    "plt.title(\"Kmeans Clusters vs. Prediction Strength\")\n",
    "plt.xlim([2,20])\n",
    "plt.xticks(array)\n",
    "plt.grid(True)"
   ]
  },
  {
   "cell_type": "markdown",
   "metadata": {},
   "source": [
    "The optimal number of clusters for this dataset is 3"
   ]
  }
 ],
 "metadata": {
  "kernelspec": {
   "display_name": "Python 3",
   "language": "python",
   "name": "python3"
  },
  "language_info": {
   "codemirror_mode": {
    "name": "ipython",
    "version": 3
   },
   "file_extension": ".py",
   "mimetype": "text/x-python",
   "name": "python",
   "nbconvert_exporter": "python",
   "pygments_lexer": "ipython3",
   "version": "3.9.2"
  }
 },
 "nbformat": 4,
 "nbformat_minor": 4
}
